{
 "cells": [
  {
   "cell_type": "markdown",
   "id": "144ea5dc",
   "metadata": {
    "_cell_guid": "b1076dfc-b9ad-4769-8c92-a6c4dae69d19",
    "_uuid": "8f2839f25d086af736a60e9eeb907d3b93b6e0e5",
    "papermill": {
     "duration": 0.026497,
     "end_time": "2023-08-10T11:01:47.694586",
     "exception": false,
     "start_time": "2023-08-10T11:01:47.668089",
     "status": "completed"
    },
    "tags": []
   },
   "source": [
    " # Initial Data Preparation"
   ]
  },
  {
   "cell_type": "code",
   "execution_count": 1,
   "id": "c537f454",
   "metadata": {
    "execution": {
     "iopub.execute_input": "2023-08-10T11:01:47.747344Z",
     "iopub.status.busy": "2023-08-10T11:01:47.746792Z",
     "iopub.status.idle": "2023-08-10T11:01:49.495250Z",
     "shell.execute_reply": "2023-08-10T11:01:49.493932Z"
    },
    "papermill": {
     "duration": 1.77855,
     "end_time": "2023-08-10T11:01:49.498243",
     "exception": false,
     "start_time": "2023-08-10T11:01:47.719693",
     "status": "completed"
    },
    "tags": []
   },
   "outputs": [
    {
     "name": "stderr",
     "output_type": "stream",
     "text": [
      "/opt/conda/lib/python3.10/site-packages/scipy/__init__.py:146: UserWarning: A NumPy version >=1.16.5 and <1.23.0 is required for this version of SciPy (detected version 1.23.5\n",
      "  warnings.warn(f\"A NumPy version >={np_minversion} and <{np_maxversion}\"\n"
     ]
    }
   ],
   "source": [
    "import pandas as pd\n",
    "import numpy as np\n",
    "\n",
    "import seaborn as sns\n",
    "from matplotlib import pyplot as plt"
   ]
  },
  {
   "cell_type": "code",
   "execution_count": 2,
   "id": "fab9961c",
   "metadata": {
    "execution": {
     "iopub.execute_input": "2023-08-10T11:01:49.552246Z",
     "iopub.status.busy": "2023-08-10T11:01:49.551804Z",
     "iopub.status.idle": "2023-08-10T11:01:49.652826Z",
     "shell.execute_reply": "2023-08-10T11:01:49.651429Z"
    },
    "papermill": {
     "duration": 0.130286,
     "end_time": "2023-08-10T11:01:49.655634",
     "exception": false,
     "start_time": "2023-08-10T11:01:49.525348",
     "status": "completed"
    },
    "tags": []
   },
   "outputs": [
    {
     "data": {
      "text/html": [
       "<div>\n",
       "<style scoped>\n",
       "    .dataframe tbody tr th:only-of-type {\n",
       "        vertical-align: middle;\n",
       "    }\n",
       "\n",
       "    .dataframe tbody tr th {\n",
       "        vertical-align: top;\n",
       "    }\n",
       "\n",
       "    .dataframe thead th {\n",
       "        text-align: right;\n",
       "    }\n",
       "</style>\n",
       "<table border=\"1\" class=\"dataframe\">\n",
       "  <thead>\n",
       "    <tr style=\"text-align: right;\">\n",
       "      <th></th>\n",
       "      <th>0</th>\n",
       "      <th>1</th>\n",
       "      <th>2</th>\n",
       "      <th>3</th>\n",
       "      <th>4</th>\n",
       "    </tr>\n",
       "  </thead>\n",
       "  <tbody>\n",
       "    <tr>\n",
       "      <th>customerID</th>\n",
       "      <td>7590-VHVEG</td>\n",
       "      <td>5575-GNVDE</td>\n",
       "      <td>3668-QPYBK</td>\n",
       "      <td>7795-CFOCW</td>\n",
       "      <td>9237-HQITU</td>\n",
       "    </tr>\n",
       "    <tr>\n",
       "      <th>gender</th>\n",
       "      <td>Female</td>\n",
       "      <td>Male</td>\n",
       "      <td>Male</td>\n",
       "      <td>Male</td>\n",
       "      <td>Female</td>\n",
       "    </tr>\n",
       "    <tr>\n",
       "      <th>SeniorCitizen</th>\n",
       "      <td>0</td>\n",
       "      <td>0</td>\n",
       "      <td>0</td>\n",
       "      <td>0</td>\n",
       "      <td>0</td>\n",
       "    </tr>\n",
       "    <tr>\n",
       "      <th>Partner</th>\n",
       "      <td>Yes</td>\n",
       "      <td>No</td>\n",
       "      <td>No</td>\n",
       "      <td>No</td>\n",
       "      <td>No</td>\n",
       "    </tr>\n",
       "    <tr>\n",
       "      <th>Dependents</th>\n",
       "      <td>No</td>\n",
       "      <td>No</td>\n",
       "      <td>No</td>\n",
       "      <td>No</td>\n",
       "      <td>No</td>\n",
       "    </tr>\n",
       "    <tr>\n",
       "      <th>tenure</th>\n",
       "      <td>1</td>\n",
       "      <td>34</td>\n",
       "      <td>2</td>\n",
       "      <td>45</td>\n",
       "      <td>2</td>\n",
       "    </tr>\n",
       "    <tr>\n",
       "      <th>PhoneService</th>\n",
       "      <td>No</td>\n",
       "      <td>Yes</td>\n",
       "      <td>Yes</td>\n",
       "      <td>No</td>\n",
       "      <td>Yes</td>\n",
       "    </tr>\n",
       "    <tr>\n",
       "      <th>MultipleLines</th>\n",
       "      <td>No phone service</td>\n",
       "      <td>No</td>\n",
       "      <td>No</td>\n",
       "      <td>No phone service</td>\n",
       "      <td>No</td>\n",
       "    </tr>\n",
       "    <tr>\n",
       "      <th>InternetService</th>\n",
       "      <td>DSL</td>\n",
       "      <td>DSL</td>\n",
       "      <td>DSL</td>\n",
       "      <td>DSL</td>\n",
       "      <td>Fiber optic</td>\n",
       "    </tr>\n",
       "    <tr>\n",
       "      <th>OnlineSecurity</th>\n",
       "      <td>No</td>\n",
       "      <td>Yes</td>\n",
       "      <td>Yes</td>\n",
       "      <td>Yes</td>\n",
       "      <td>No</td>\n",
       "    </tr>\n",
       "    <tr>\n",
       "      <th>OnlineBackup</th>\n",
       "      <td>Yes</td>\n",
       "      <td>No</td>\n",
       "      <td>Yes</td>\n",
       "      <td>No</td>\n",
       "      <td>No</td>\n",
       "    </tr>\n",
       "    <tr>\n",
       "      <th>DeviceProtection</th>\n",
       "      <td>No</td>\n",
       "      <td>Yes</td>\n",
       "      <td>No</td>\n",
       "      <td>Yes</td>\n",
       "      <td>No</td>\n",
       "    </tr>\n",
       "    <tr>\n",
       "      <th>TechSupport</th>\n",
       "      <td>No</td>\n",
       "      <td>No</td>\n",
       "      <td>No</td>\n",
       "      <td>Yes</td>\n",
       "      <td>No</td>\n",
       "    </tr>\n",
       "    <tr>\n",
       "      <th>StreamingTV</th>\n",
       "      <td>No</td>\n",
       "      <td>No</td>\n",
       "      <td>No</td>\n",
       "      <td>No</td>\n",
       "      <td>No</td>\n",
       "    </tr>\n",
       "    <tr>\n",
       "      <th>StreamingMovies</th>\n",
       "      <td>No</td>\n",
       "      <td>No</td>\n",
       "      <td>No</td>\n",
       "      <td>No</td>\n",
       "      <td>No</td>\n",
       "    </tr>\n",
       "    <tr>\n",
       "      <th>Contract</th>\n",
       "      <td>Month-to-month</td>\n",
       "      <td>One year</td>\n",
       "      <td>Month-to-month</td>\n",
       "      <td>One year</td>\n",
       "      <td>Month-to-month</td>\n",
       "    </tr>\n",
       "    <tr>\n",
       "      <th>PaperlessBilling</th>\n",
       "      <td>Yes</td>\n",
       "      <td>No</td>\n",
       "      <td>Yes</td>\n",
       "      <td>No</td>\n",
       "      <td>Yes</td>\n",
       "    </tr>\n",
       "    <tr>\n",
       "      <th>PaymentMethod</th>\n",
       "      <td>Electronic check</td>\n",
       "      <td>Mailed check</td>\n",
       "      <td>Mailed check</td>\n",
       "      <td>Bank transfer (automatic)</td>\n",
       "      <td>Electronic check</td>\n",
       "    </tr>\n",
       "    <tr>\n",
       "      <th>MonthlyCharges</th>\n",
       "      <td>29.85</td>\n",
       "      <td>56.95</td>\n",
       "      <td>53.85</td>\n",
       "      <td>42.3</td>\n",
       "      <td>70.7</td>\n",
       "    </tr>\n",
       "    <tr>\n",
       "      <th>TotalCharges</th>\n",
       "      <td>29.85</td>\n",
       "      <td>1889.5</td>\n",
       "      <td>108.15</td>\n",
       "      <td>1840.75</td>\n",
       "      <td>151.65</td>\n",
       "    </tr>\n",
       "    <tr>\n",
       "      <th>Churn</th>\n",
       "      <td>No</td>\n",
       "      <td>No</td>\n",
       "      <td>Yes</td>\n",
       "      <td>No</td>\n",
       "      <td>Yes</td>\n",
       "    </tr>\n",
       "  </tbody>\n",
       "</table>\n",
       "</div>"
      ],
      "text/plain": [
       "                                 0             1               2  \\\n",
       "customerID              7590-VHVEG    5575-GNVDE      3668-QPYBK   \n",
       "gender                      Female          Male            Male   \n",
       "SeniorCitizen                    0             0               0   \n",
       "Partner                        Yes            No              No   \n",
       "Dependents                      No            No              No   \n",
       "tenure                           1            34               2   \n",
       "PhoneService                    No           Yes             Yes   \n",
       "MultipleLines     No phone service            No              No   \n",
       "InternetService                DSL           DSL             DSL   \n",
       "OnlineSecurity                  No           Yes             Yes   \n",
       "OnlineBackup                   Yes            No             Yes   \n",
       "DeviceProtection                No           Yes              No   \n",
       "TechSupport                     No            No              No   \n",
       "StreamingTV                     No            No              No   \n",
       "StreamingMovies                 No            No              No   \n",
       "Contract            Month-to-month      One year  Month-to-month   \n",
       "PaperlessBilling               Yes            No             Yes   \n",
       "PaymentMethod     Electronic check  Mailed check    Mailed check   \n",
       "MonthlyCharges               29.85         56.95           53.85   \n",
       "TotalCharges                 29.85        1889.5          108.15   \n",
       "Churn                           No            No             Yes   \n",
       "\n",
       "                                          3                 4  \n",
       "customerID                       7795-CFOCW        9237-HQITU  \n",
       "gender                                 Male            Female  \n",
       "SeniorCitizen                             0                 0  \n",
       "Partner                                  No                No  \n",
       "Dependents                               No                No  \n",
       "tenure                                   45                 2  \n",
       "PhoneService                             No               Yes  \n",
       "MultipleLines              No phone service                No  \n",
       "InternetService                         DSL       Fiber optic  \n",
       "OnlineSecurity                          Yes                No  \n",
       "OnlineBackup                             No                No  \n",
       "DeviceProtection                        Yes                No  \n",
       "TechSupport                             Yes                No  \n",
       "StreamingTV                              No                No  \n",
       "StreamingMovies                          No                No  \n",
       "Contract                           One year    Month-to-month  \n",
       "PaperlessBilling                         No               Yes  \n",
       "PaymentMethod     Bank transfer (automatic)  Electronic check  \n",
       "MonthlyCharges                         42.3              70.7  \n",
       "TotalCharges                        1840.75            151.65  \n",
       "Churn                                    No               Yes  "
      ]
     },
     "execution_count": 2,
     "metadata": {},
     "output_type": "execute_result"
    }
   ],
   "source": [
    "df = pd.read_csv('../input/telco-customer-churn/WA_Fn-UseC_-Telco-Customer-Churn.csv')\n",
    "df.head().T"
   ]
  },
  {
   "cell_type": "code",
   "execution_count": 3,
   "id": "3a94924f",
   "metadata": {
    "execution": {
     "iopub.execute_input": "2023-08-10T11:01:49.709119Z",
     "iopub.status.busy": "2023-08-10T11:01:49.708708Z",
     "iopub.status.idle": "2023-08-10T11:01:49.776818Z",
     "shell.execute_reply": "2023-08-10T11:01:49.775230Z"
    },
    "papermill": {
     "duration": 0.098166,
     "end_time": "2023-08-10T11:01:49.779614",
     "exception": false,
     "start_time": "2023-08-10T11:01:49.681448",
     "status": "completed"
    },
    "tags": []
   },
   "outputs": [
    {
     "name": "stdout",
     "output_type": "stream",
     "text": [
      "<class 'pandas.core.frame.DataFrame'>\n",
      "RangeIndex: 7043 entries, 0 to 7042\n",
      "Data columns (total 21 columns):\n",
      " #   Column            Non-Null Count  Dtype  \n",
      "---  ------            --------------  -----  \n",
      " 0   customerID        7043 non-null   object \n",
      " 1   gender            7043 non-null   object \n",
      " 2   SeniorCitizen     7043 non-null   int64  \n",
      " 3   Partner           7043 non-null   object \n",
      " 4   Dependents        7043 non-null   object \n",
      " 5   tenure            7043 non-null   int64  \n",
      " 6   PhoneService      7043 non-null   object \n",
      " 7   MultipleLines     7043 non-null   object \n",
      " 8   InternetService   7043 non-null   object \n",
      " 9   OnlineSecurity    7043 non-null   object \n",
      " 10  OnlineBackup      7043 non-null   object \n",
      " 11  DeviceProtection  7043 non-null   object \n",
      " 12  TechSupport       7043 non-null   object \n",
      " 13  StreamingTV       7043 non-null   object \n",
      " 14  StreamingMovies   7043 non-null   object \n",
      " 15  Contract          7043 non-null   object \n",
      " 16  PaperlessBilling  7043 non-null   object \n",
      " 17  PaymentMethod     7043 non-null   object \n",
      " 18  MonthlyCharges    7043 non-null   float64\n",
      " 19  TotalCharges      7043 non-null   object \n",
      " 20  Churn             7043 non-null   object \n",
      "dtypes: float64(1), int64(2), object(18)\n",
      "memory usage: 1.1+ MB\n"
     ]
    }
   ],
   "source": [
    "df.info()"
   ]
  },
  {
   "cell_type": "code",
   "execution_count": 4,
   "id": "2ed517d4",
   "metadata": {
    "execution": {
     "iopub.execute_input": "2023-08-10T11:01:49.834424Z",
     "iopub.status.busy": "2023-08-10T11:01:49.833951Z",
     "iopub.status.idle": "2023-08-10T11:01:49.860314Z",
     "shell.execute_reply": "2023-08-10T11:01:49.858879Z"
    },
    "papermill": {
     "duration": 0.056174,
     "end_time": "2023-08-10T11:01:49.863100",
     "exception": false,
     "start_time": "2023-08-10T11:01:49.806926",
     "status": "completed"
    },
    "tags": []
   },
   "outputs": [
    {
     "data": {
      "text/html": [
       "<div>\n",
       "<style scoped>\n",
       "    .dataframe tbody tr th:only-of-type {\n",
       "        vertical-align: middle;\n",
       "    }\n",
       "\n",
       "    .dataframe tbody tr th {\n",
       "        vertical-align: top;\n",
       "    }\n",
       "\n",
       "    .dataframe thead th {\n",
       "        text-align: right;\n",
       "    }\n",
       "</style>\n",
       "<table border=\"1\" class=\"dataframe\">\n",
       "  <thead>\n",
       "    <tr style=\"text-align: right;\">\n",
       "      <th></th>\n",
       "      <th>SeniorCitizen</th>\n",
       "      <th>tenure</th>\n",
       "      <th>MonthlyCharges</th>\n",
       "    </tr>\n",
       "  </thead>\n",
       "  <tbody>\n",
       "    <tr>\n",
       "      <th>count</th>\n",
       "      <td>7043.000000</td>\n",
       "      <td>7043.000000</td>\n",
       "      <td>7043.000000</td>\n",
       "    </tr>\n",
       "    <tr>\n",
       "      <th>mean</th>\n",
       "      <td>0.162147</td>\n",
       "      <td>32.371149</td>\n",
       "      <td>64.761692</td>\n",
       "    </tr>\n",
       "    <tr>\n",
       "      <th>std</th>\n",
       "      <td>0.368612</td>\n",
       "      <td>24.559481</td>\n",
       "      <td>30.090047</td>\n",
       "    </tr>\n",
       "    <tr>\n",
       "      <th>min</th>\n",
       "      <td>0.000000</td>\n",
       "      <td>0.000000</td>\n",
       "      <td>18.250000</td>\n",
       "    </tr>\n",
       "    <tr>\n",
       "      <th>25%</th>\n",
       "      <td>0.000000</td>\n",
       "      <td>9.000000</td>\n",
       "      <td>35.500000</td>\n",
       "    </tr>\n",
       "    <tr>\n",
       "      <th>50%</th>\n",
       "      <td>0.000000</td>\n",
       "      <td>29.000000</td>\n",
       "      <td>70.350000</td>\n",
       "    </tr>\n",
       "    <tr>\n",
       "      <th>75%</th>\n",
       "      <td>0.000000</td>\n",
       "      <td>55.000000</td>\n",
       "      <td>89.850000</td>\n",
       "    </tr>\n",
       "    <tr>\n",
       "      <th>max</th>\n",
       "      <td>1.000000</td>\n",
       "      <td>72.000000</td>\n",
       "      <td>118.750000</td>\n",
       "    </tr>\n",
       "  </tbody>\n",
       "</table>\n",
       "</div>"
      ],
      "text/plain": [
       "       SeniorCitizen       tenure  MonthlyCharges\n",
       "count    7043.000000  7043.000000     7043.000000\n",
       "mean        0.162147    32.371149       64.761692\n",
       "std         0.368612    24.559481       30.090047\n",
       "min         0.000000     0.000000       18.250000\n",
       "25%         0.000000     9.000000       35.500000\n",
       "50%         0.000000    29.000000       70.350000\n",
       "75%         0.000000    55.000000       89.850000\n",
       "max         1.000000    72.000000      118.750000"
      ]
     },
     "execution_count": 4,
     "metadata": {},
     "output_type": "execute_result"
    }
   ],
   "source": [
    "df.describe()"
   ]
  },
  {
   "cell_type": "code",
   "execution_count": 5,
   "id": "f9635842",
   "metadata": {
    "execution": {
     "iopub.execute_input": "2023-08-10T11:01:49.917837Z",
     "iopub.status.busy": "2023-08-10T11:01:49.917341Z",
     "iopub.status.idle": "2023-08-10T11:01:50.005055Z",
     "shell.execute_reply": "2023-08-10T11:01:50.003727Z"
    },
    "papermill": {
     "duration": 0.119848,
     "end_time": "2023-08-10T11:01:50.008614",
     "exception": false,
     "start_time": "2023-08-10T11:01:49.888766",
     "status": "completed"
    },
    "tags": []
   },
   "outputs": [
    {
     "data": {
      "text/html": [
       "<div>\n",
       "<style scoped>\n",
       "    .dataframe tbody tr th:only-of-type {\n",
       "        vertical-align: middle;\n",
       "    }\n",
       "\n",
       "    .dataframe tbody tr th {\n",
       "        vertical-align: top;\n",
       "    }\n",
       "\n",
       "    .dataframe thead th {\n",
       "        text-align: right;\n",
       "    }\n",
       "</style>\n",
       "<table border=\"1\" class=\"dataframe\">\n",
       "  <thead>\n",
       "    <tr style=\"text-align: right;\">\n",
       "      <th></th>\n",
       "      <th>count</th>\n",
       "      <th>unique</th>\n",
       "      <th>top</th>\n",
       "      <th>freq</th>\n",
       "    </tr>\n",
       "  </thead>\n",
       "  <tbody>\n",
       "    <tr>\n",
       "      <th>customerID</th>\n",
       "      <td>7043</td>\n",
       "      <td>7043</td>\n",
       "      <td>7590-VHVEG</td>\n",
       "      <td>1</td>\n",
       "    </tr>\n",
       "    <tr>\n",
       "      <th>gender</th>\n",
       "      <td>7043</td>\n",
       "      <td>2</td>\n",
       "      <td>Male</td>\n",
       "      <td>3555</td>\n",
       "    </tr>\n",
       "    <tr>\n",
       "      <th>Partner</th>\n",
       "      <td>7043</td>\n",
       "      <td>2</td>\n",
       "      <td>No</td>\n",
       "      <td>3641</td>\n",
       "    </tr>\n",
       "    <tr>\n",
       "      <th>Dependents</th>\n",
       "      <td>7043</td>\n",
       "      <td>2</td>\n",
       "      <td>No</td>\n",
       "      <td>4933</td>\n",
       "    </tr>\n",
       "    <tr>\n",
       "      <th>PhoneService</th>\n",
       "      <td>7043</td>\n",
       "      <td>2</td>\n",
       "      <td>Yes</td>\n",
       "      <td>6361</td>\n",
       "    </tr>\n",
       "    <tr>\n",
       "      <th>MultipleLines</th>\n",
       "      <td>7043</td>\n",
       "      <td>3</td>\n",
       "      <td>No</td>\n",
       "      <td>3390</td>\n",
       "    </tr>\n",
       "    <tr>\n",
       "      <th>InternetService</th>\n",
       "      <td>7043</td>\n",
       "      <td>3</td>\n",
       "      <td>Fiber optic</td>\n",
       "      <td>3096</td>\n",
       "    </tr>\n",
       "    <tr>\n",
       "      <th>OnlineSecurity</th>\n",
       "      <td>7043</td>\n",
       "      <td>3</td>\n",
       "      <td>No</td>\n",
       "      <td>3498</td>\n",
       "    </tr>\n",
       "    <tr>\n",
       "      <th>OnlineBackup</th>\n",
       "      <td>7043</td>\n",
       "      <td>3</td>\n",
       "      <td>No</td>\n",
       "      <td>3088</td>\n",
       "    </tr>\n",
       "    <tr>\n",
       "      <th>DeviceProtection</th>\n",
       "      <td>7043</td>\n",
       "      <td>3</td>\n",
       "      <td>No</td>\n",
       "      <td>3095</td>\n",
       "    </tr>\n",
       "    <tr>\n",
       "      <th>TechSupport</th>\n",
       "      <td>7043</td>\n",
       "      <td>3</td>\n",
       "      <td>No</td>\n",
       "      <td>3473</td>\n",
       "    </tr>\n",
       "    <tr>\n",
       "      <th>StreamingTV</th>\n",
       "      <td>7043</td>\n",
       "      <td>3</td>\n",
       "      <td>No</td>\n",
       "      <td>2810</td>\n",
       "    </tr>\n",
       "    <tr>\n",
       "      <th>StreamingMovies</th>\n",
       "      <td>7043</td>\n",
       "      <td>3</td>\n",
       "      <td>No</td>\n",
       "      <td>2785</td>\n",
       "    </tr>\n",
       "    <tr>\n",
       "      <th>Contract</th>\n",
       "      <td>7043</td>\n",
       "      <td>3</td>\n",
       "      <td>Month-to-month</td>\n",
       "      <td>3875</td>\n",
       "    </tr>\n",
       "    <tr>\n",
       "      <th>PaperlessBilling</th>\n",
       "      <td>7043</td>\n",
       "      <td>2</td>\n",
       "      <td>Yes</td>\n",
       "      <td>4171</td>\n",
       "    </tr>\n",
       "    <tr>\n",
       "      <th>PaymentMethod</th>\n",
       "      <td>7043</td>\n",
       "      <td>4</td>\n",
       "      <td>Electronic check</td>\n",
       "      <td>2365</td>\n",
       "    </tr>\n",
       "    <tr>\n",
       "      <th>TotalCharges</th>\n",
       "      <td>7043</td>\n",
       "      <td>6531</td>\n",
       "      <td></td>\n",
       "      <td>11</td>\n",
       "    </tr>\n",
       "    <tr>\n",
       "      <th>Churn</th>\n",
       "      <td>7043</td>\n",
       "      <td>2</td>\n",
       "      <td>No</td>\n",
       "      <td>5174</td>\n",
       "    </tr>\n",
       "  </tbody>\n",
       "</table>\n",
       "</div>"
      ],
      "text/plain": [
       "                 count unique               top  freq\n",
       "customerID        7043   7043        7590-VHVEG     1\n",
       "gender            7043      2              Male  3555\n",
       "Partner           7043      2                No  3641\n",
       "Dependents        7043      2                No  4933\n",
       "PhoneService      7043      2               Yes  6361\n",
       "MultipleLines     7043      3                No  3390\n",
       "InternetService   7043      3       Fiber optic  3096\n",
       "OnlineSecurity    7043      3                No  3498\n",
       "OnlineBackup      7043      3                No  3088\n",
       "DeviceProtection  7043      3                No  3095\n",
       "TechSupport       7043      3                No  3473\n",
       "StreamingTV       7043      3                No  2810\n",
       "StreamingMovies   7043      3                No  2785\n",
       "Contract          7043      3    Month-to-month  3875\n",
       "PaperlessBilling  7043      2               Yes  4171\n",
       "PaymentMethod     7043      4  Electronic check  2365\n",
       "TotalCharges      7043   6531                      11\n",
       "Churn             7043      2                No  5174"
      ]
     },
     "execution_count": 5,
     "metadata": {},
     "output_type": "execute_result"
    }
   ],
   "source": [
    "\n",
    "df.describe(include='O').T"
   ]
  },
  {
   "cell_type": "code",
   "execution_count": 6,
   "id": "9c3e2fa4",
   "metadata": {
    "execution": {
     "iopub.execute_input": "2023-08-10T11:01:50.065259Z",
     "iopub.status.busy": "2023-08-10T11:01:50.064789Z",
     "iopub.status.idle": "2023-08-10T11:01:50.076187Z",
     "shell.execute_reply": "2023-08-10T11:01:50.074723Z"
    },
    "papermill": {
     "duration": 0.043265,
     "end_time": "2023-08-10T11:01:50.078972",
     "exception": false,
     "start_time": "2023-08-10T11:01:50.035707",
     "status": "completed"
    },
    "tags": []
   },
   "outputs": [],
   "source": [
    "df.drop('customerID',axis = 1 ,inplace = True)"
   ]
  },
  {
   "cell_type": "code",
   "execution_count": 7,
   "id": "c989ee5d",
   "metadata": {
    "execution": {
     "iopub.execute_input": "2023-08-10T11:01:50.135294Z",
     "iopub.status.busy": "2023-08-10T11:01:50.134840Z",
     "iopub.status.idle": "2023-08-10T11:01:50.153227Z",
     "shell.execute_reply": "2023-08-10T11:01:50.151947Z"
    },
    "papermill": {
     "duration": 0.049219,
     "end_time": "2023-08-10T11:01:50.156079",
     "exception": false,
     "start_time": "2023-08-10T11:01:50.106860",
     "status": "completed"
    },
    "tags": []
   },
   "outputs": [
    {
     "data": {
      "text/html": [
       "<div>\n",
       "<style scoped>\n",
       "    .dataframe tbody tr th:only-of-type {\n",
       "        vertical-align: middle;\n",
       "    }\n",
       "\n",
       "    .dataframe tbody tr th {\n",
       "        vertical-align: top;\n",
       "    }\n",
       "\n",
       "    .dataframe thead th {\n",
       "        text-align: right;\n",
       "    }\n",
       "</style>\n",
       "<table border=\"1\" class=\"dataframe\">\n",
       "  <thead>\n",
       "    <tr style=\"text-align: right;\">\n",
       "      <th></th>\n",
       "      <th>0</th>\n",
       "      <th>1</th>\n",
       "      <th>2</th>\n",
       "      <th>3</th>\n",
       "      <th>4</th>\n",
       "    </tr>\n",
       "  </thead>\n",
       "  <tbody>\n",
       "    <tr>\n",
       "      <th>gender</th>\n",
       "      <td>Female</td>\n",
       "      <td>Male</td>\n",
       "      <td>Male</td>\n",
       "      <td>Male</td>\n",
       "      <td>Female</td>\n",
       "    </tr>\n",
       "    <tr>\n",
       "      <th>SeniorCitizen</th>\n",
       "      <td>0</td>\n",
       "      <td>0</td>\n",
       "      <td>0</td>\n",
       "      <td>0</td>\n",
       "      <td>0</td>\n",
       "    </tr>\n",
       "    <tr>\n",
       "      <th>Partner</th>\n",
       "      <td>Yes</td>\n",
       "      <td>No</td>\n",
       "      <td>No</td>\n",
       "      <td>No</td>\n",
       "      <td>No</td>\n",
       "    </tr>\n",
       "    <tr>\n",
       "      <th>Dependents</th>\n",
       "      <td>No</td>\n",
       "      <td>No</td>\n",
       "      <td>No</td>\n",
       "      <td>No</td>\n",
       "      <td>No</td>\n",
       "    </tr>\n",
       "    <tr>\n",
       "      <th>tenure</th>\n",
       "      <td>1</td>\n",
       "      <td>34</td>\n",
       "      <td>2</td>\n",
       "      <td>45</td>\n",
       "      <td>2</td>\n",
       "    </tr>\n",
       "    <tr>\n",
       "      <th>PhoneService</th>\n",
       "      <td>No</td>\n",
       "      <td>Yes</td>\n",
       "      <td>Yes</td>\n",
       "      <td>No</td>\n",
       "      <td>Yes</td>\n",
       "    </tr>\n",
       "    <tr>\n",
       "      <th>MultipleLines</th>\n",
       "      <td>No phone service</td>\n",
       "      <td>No</td>\n",
       "      <td>No</td>\n",
       "      <td>No phone service</td>\n",
       "      <td>No</td>\n",
       "    </tr>\n",
       "    <tr>\n",
       "      <th>InternetService</th>\n",
       "      <td>DSL</td>\n",
       "      <td>DSL</td>\n",
       "      <td>DSL</td>\n",
       "      <td>DSL</td>\n",
       "      <td>Fiber optic</td>\n",
       "    </tr>\n",
       "    <tr>\n",
       "      <th>OnlineSecurity</th>\n",
       "      <td>No</td>\n",
       "      <td>Yes</td>\n",
       "      <td>Yes</td>\n",
       "      <td>Yes</td>\n",
       "      <td>No</td>\n",
       "    </tr>\n",
       "    <tr>\n",
       "      <th>OnlineBackup</th>\n",
       "      <td>Yes</td>\n",
       "      <td>No</td>\n",
       "      <td>Yes</td>\n",
       "      <td>No</td>\n",
       "      <td>No</td>\n",
       "    </tr>\n",
       "    <tr>\n",
       "      <th>DeviceProtection</th>\n",
       "      <td>No</td>\n",
       "      <td>Yes</td>\n",
       "      <td>No</td>\n",
       "      <td>Yes</td>\n",
       "      <td>No</td>\n",
       "    </tr>\n",
       "    <tr>\n",
       "      <th>TechSupport</th>\n",
       "      <td>No</td>\n",
       "      <td>No</td>\n",
       "      <td>No</td>\n",
       "      <td>Yes</td>\n",
       "      <td>No</td>\n",
       "    </tr>\n",
       "    <tr>\n",
       "      <th>StreamingTV</th>\n",
       "      <td>No</td>\n",
       "      <td>No</td>\n",
       "      <td>No</td>\n",
       "      <td>No</td>\n",
       "      <td>No</td>\n",
       "    </tr>\n",
       "    <tr>\n",
       "      <th>StreamingMovies</th>\n",
       "      <td>No</td>\n",
       "      <td>No</td>\n",
       "      <td>No</td>\n",
       "      <td>No</td>\n",
       "      <td>No</td>\n",
       "    </tr>\n",
       "    <tr>\n",
       "      <th>Contract</th>\n",
       "      <td>Month-to-month</td>\n",
       "      <td>One year</td>\n",
       "      <td>Month-to-month</td>\n",
       "      <td>One year</td>\n",
       "      <td>Month-to-month</td>\n",
       "    </tr>\n",
       "    <tr>\n",
       "      <th>PaperlessBilling</th>\n",
       "      <td>Yes</td>\n",
       "      <td>No</td>\n",
       "      <td>Yes</td>\n",
       "      <td>No</td>\n",
       "      <td>Yes</td>\n",
       "    </tr>\n",
       "    <tr>\n",
       "      <th>PaymentMethod</th>\n",
       "      <td>Electronic check</td>\n",
       "      <td>Mailed check</td>\n",
       "      <td>Mailed check</td>\n",
       "      <td>Bank transfer (automatic)</td>\n",
       "      <td>Electronic check</td>\n",
       "    </tr>\n",
       "    <tr>\n",
       "      <th>MonthlyCharges</th>\n",
       "      <td>29.85</td>\n",
       "      <td>56.95</td>\n",
       "      <td>53.85</td>\n",
       "      <td>42.3</td>\n",
       "      <td>70.7</td>\n",
       "    </tr>\n",
       "    <tr>\n",
       "      <th>TotalCharges</th>\n",
       "      <td>29.85</td>\n",
       "      <td>1889.5</td>\n",
       "      <td>108.15</td>\n",
       "      <td>1840.75</td>\n",
       "      <td>151.65</td>\n",
       "    </tr>\n",
       "    <tr>\n",
       "      <th>Churn</th>\n",
       "      <td>No</td>\n",
       "      <td>No</td>\n",
       "      <td>Yes</td>\n",
       "      <td>No</td>\n",
       "      <td>Yes</td>\n",
       "    </tr>\n",
       "  </tbody>\n",
       "</table>\n",
       "</div>"
      ],
      "text/plain": [
       "                                 0             1               2  \\\n",
       "gender                      Female          Male            Male   \n",
       "SeniorCitizen                    0             0               0   \n",
       "Partner                        Yes            No              No   \n",
       "Dependents                      No            No              No   \n",
       "tenure                           1            34               2   \n",
       "PhoneService                    No           Yes             Yes   \n",
       "MultipleLines     No phone service            No              No   \n",
       "InternetService                DSL           DSL             DSL   \n",
       "OnlineSecurity                  No           Yes             Yes   \n",
       "OnlineBackup                   Yes            No             Yes   \n",
       "DeviceProtection                No           Yes              No   \n",
       "TechSupport                     No            No              No   \n",
       "StreamingTV                     No            No              No   \n",
       "StreamingMovies                 No            No              No   \n",
       "Contract            Month-to-month      One year  Month-to-month   \n",
       "PaperlessBilling               Yes            No             Yes   \n",
       "PaymentMethod     Electronic check  Mailed check    Mailed check   \n",
       "MonthlyCharges               29.85         56.95           53.85   \n",
       "TotalCharges                 29.85        1889.5          108.15   \n",
       "Churn                           No            No             Yes   \n",
       "\n",
       "                                          3                 4  \n",
       "gender                                 Male            Female  \n",
       "SeniorCitizen                             0                 0  \n",
       "Partner                                  No                No  \n",
       "Dependents                               No                No  \n",
       "tenure                                   45                 2  \n",
       "PhoneService                             No               Yes  \n",
       "MultipleLines              No phone service                No  \n",
       "InternetService                         DSL       Fiber optic  \n",
       "OnlineSecurity                          Yes                No  \n",
       "OnlineBackup                             No                No  \n",
       "DeviceProtection                        Yes                No  \n",
       "TechSupport                             Yes                No  \n",
       "StreamingTV                              No                No  \n",
       "StreamingMovies                          No                No  \n",
       "Contract                           One year    Month-to-month  \n",
       "PaperlessBilling                         No               Yes  \n",
       "PaymentMethod     Bank transfer (automatic)  Electronic check  \n",
       "MonthlyCharges                         42.3              70.7  \n",
       "TotalCharges                        1840.75            151.65  \n",
       "Churn                                    No               Yes  "
      ]
     },
     "execution_count": 7,
     "metadata": {},
     "output_type": "execute_result"
    }
   ],
   "source": [
    "df.head().T"
   ]
  },
  {
   "cell_type": "markdown",
   "id": "27cef409",
   "metadata": {
    "papermill": {
     "duration": 0.027059,
     "end_time": "2023-08-10T11:01:50.213486",
     "exception": false,
     "start_time": "2023-08-10T11:01:50.186427",
     "status": "completed"
    },
    "tags": []
   },
   "source": [
    "# TotalCharges column"
   ]
  },
  {
   "cell_type": "code",
   "execution_count": 8,
   "id": "4e4e825a",
   "metadata": {
    "execution": {
     "iopub.execute_input": "2023-08-10T11:01:50.273938Z",
     "iopub.status.busy": "2023-08-10T11:01:50.273393Z",
     "iopub.status.idle": "2023-08-10T11:01:50.291508Z",
     "shell.execute_reply": "2023-08-10T11:01:50.290326Z"
    },
    "papermill": {
     "duration": 0.054376,
     "end_time": "2023-08-10T11:01:50.294390",
     "exception": false,
     "start_time": "2023-08-10T11:01:50.240014",
     "status": "completed"
    },
    "tags": []
   },
   "outputs": [
    {
     "data": {
      "text/plain": [
       "count     7043\n",
       "unique    6531\n",
       "top           \n",
       "freq        11\n",
       "Name: TotalCharges, dtype: object"
      ]
     },
     "execution_count": 8,
     "metadata": {},
     "output_type": "execute_result"
    }
   ],
   "source": [
    "df.TotalCharges.describe()\n",
    "# there is an problem \n",
    "# the problem is TotalCharges should be  numerical but it is string in data frame \n",
    "# and there is a lot of space in it "
   ]
  },
  {
   "cell_type": "code",
   "execution_count": 9,
   "id": "2838e1d8",
   "metadata": {
    "execution": {
     "iopub.execute_input": "2023-08-10T11:01:50.369451Z",
     "iopub.status.busy": "2023-08-10T11:01:50.368562Z",
     "iopub.status.idle": "2023-08-10T11:01:50.399172Z",
     "shell.execute_reply": "2023-08-10T11:01:50.397825Z"
    },
    "papermill": {
     "duration": 0.068569,
     "end_time": "2023-08-10T11:01:50.401871",
     "exception": false,
     "start_time": "2023-08-10T11:01:50.333302",
     "status": "completed"
    },
    "tags": []
   },
   "outputs": [
    {
     "name": "stdout",
     "output_type": "stream",
     "text": [
      "11 \n",
      "\n"
     ]
    },
    {
     "data": {
      "text/html": [
       "<div>\n",
       "<style scoped>\n",
       "    .dataframe tbody tr th:only-of-type {\n",
       "        vertical-align: middle;\n",
       "    }\n",
       "\n",
       "    .dataframe tbody tr th {\n",
       "        vertical-align: top;\n",
       "    }\n",
       "\n",
       "    .dataframe thead th {\n",
       "        text-align: right;\n",
       "    }\n",
       "</style>\n",
       "<table border=\"1\" class=\"dataframe\">\n",
       "  <thead>\n",
       "    <tr style=\"text-align: right;\">\n",
       "      <th></th>\n",
       "      <th>488</th>\n",
       "      <th>753</th>\n",
       "      <th>936</th>\n",
       "      <th>1082</th>\n",
       "      <th>1340</th>\n",
       "      <th>3331</th>\n",
       "      <th>3826</th>\n",
       "      <th>4380</th>\n",
       "      <th>5218</th>\n",
       "      <th>6670</th>\n",
       "      <th>6754</th>\n",
       "    </tr>\n",
       "  </thead>\n",
       "  <tbody>\n",
       "    <tr>\n",
       "      <th>gender</th>\n",
       "      <td>Female</td>\n",
       "      <td>Male</td>\n",
       "      <td>Female</td>\n",
       "      <td>Male</td>\n",
       "      <td>Female</td>\n",
       "      <td>Male</td>\n",
       "      <td>Male</td>\n",
       "      <td>Female</td>\n",
       "      <td>Male</td>\n",
       "      <td>Female</td>\n",
       "      <td>Male</td>\n",
       "    </tr>\n",
       "    <tr>\n",
       "      <th>SeniorCitizen</th>\n",
       "      <td>0</td>\n",
       "      <td>0</td>\n",
       "      <td>0</td>\n",
       "      <td>0</td>\n",
       "      <td>0</td>\n",
       "      <td>0</td>\n",
       "      <td>0</td>\n",
       "      <td>0</td>\n",
       "      <td>0</td>\n",
       "      <td>0</td>\n",
       "      <td>0</td>\n",
       "    </tr>\n",
       "    <tr>\n",
       "      <th>Partner</th>\n",
       "      <td>Yes</td>\n",
       "      <td>No</td>\n",
       "      <td>Yes</td>\n",
       "      <td>Yes</td>\n",
       "      <td>Yes</td>\n",
       "      <td>Yes</td>\n",
       "      <td>Yes</td>\n",
       "      <td>Yes</td>\n",
       "      <td>Yes</td>\n",
       "      <td>Yes</td>\n",
       "      <td>No</td>\n",
       "    </tr>\n",
       "    <tr>\n",
       "      <th>Dependents</th>\n",
       "      <td>Yes</td>\n",
       "      <td>Yes</td>\n",
       "      <td>Yes</td>\n",
       "      <td>Yes</td>\n",
       "      <td>Yes</td>\n",
       "      <td>Yes</td>\n",
       "      <td>Yes</td>\n",
       "      <td>Yes</td>\n",
       "      <td>Yes</td>\n",
       "      <td>Yes</td>\n",
       "      <td>Yes</td>\n",
       "    </tr>\n",
       "    <tr>\n",
       "      <th>tenure</th>\n",
       "      <td>0</td>\n",
       "      <td>0</td>\n",
       "      <td>0</td>\n",
       "      <td>0</td>\n",
       "      <td>0</td>\n",
       "      <td>0</td>\n",
       "      <td>0</td>\n",
       "      <td>0</td>\n",
       "      <td>0</td>\n",
       "      <td>0</td>\n",
       "      <td>0</td>\n",
       "    </tr>\n",
       "    <tr>\n",
       "      <th>PhoneService</th>\n",
       "      <td>No</td>\n",
       "      <td>Yes</td>\n",
       "      <td>Yes</td>\n",
       "      <td>Yes</td>\n",
       "      <td>No</td>\n",
       "      <td>Yes</td>\n",
       "      <td>Yes</td>\n",
       "      <td>Yes</td>\n",
       "      <td>Yes</td>\n",
       "      <td>Yes</td>\n",
       "      <td>Yes</td>\n",
       "    </tr>\n",
       "    <tr>\n",
       "      <th>MultipleLines</th>\n",
       "      <td>No phone service</td>\n",
       "      <td>No</td>\n",
       "      <td>No</td>\n",
       "      <td>Yes</td>\n",
       "      <td>No phone service</td>\n",
       "      <td>No</td>\n",
       "      <td>Yes</td>\n",
       "      <td>No</td>\n",
       "      <td>No</td>\n",
       "      <td>Yes</td>\n",
       "      <td>Yes</td>\n",
       "    </tr>\n",
       "    <tr>\n",
       "      <th>InternetService</th>\n",
       "      <td>DSL</td>\n",
       "      <td>No</td>\n",
       "      <td>DSL</td>\n",
       "      <td>No</td>\n",
       "      <td>DSL</td>\n",
       "      <td>No</td>\n",
       "      <td>No</td>\n",
       "      <td>No</td>\n",
       "      <td>No</td>\n",
       "      <td>DSL</td>\n",
       "      <td>DSL</td>\n",
       "    </tr>\n",
       "    <tr>\n",
       "      <th>OnlineSecurity</th>\n",
       "      <td>Yes</td>\n",
       "      <td>No internet service</td>\n",
       "      <td>Yes</td>\n",
       "      <td>No internet service</td>\n",
       "      <td>Yes</td>\n",
       "      <td>No internet service</td>\n",
       "      <td>No internet service</td>\n",
       "      <td>No internet service</td>\n",
       "      <td>No internet service</td>\n",
       "      <td>No</td>\n",
       "      <td>Yes</td>\n",
       "    </tr>\n",
       "    <tr>\n",
       "      <th>OnlineBackup</th>\n",
       "      <td>No</td>\n",
       "      <td>No internet service</td>\n",
       "      <td>Yes</td>\n",
       "      <td>No internet service</td>\n",
       "      <td>Yes</td>\n",
       "      <td>No internet service</td>\n",
       "      <td>No internet service</td>\n",
       "      <td>No internet service</td>\n",
       "      <td>No internet service</td>\n",
       "      <td>Yes</td>\n",
       "      <td>Yes</td>\n",
       "    </tr>\n",
       "    <tr>\n",
       "      <th>DeviceProtection</th>\n",
       "      <td>Yes</td>\n",
       "      <td>No internet service</td>\n",
       "      <td>Yes</td>\n",
       "      <td>No internet service</td>\n",
       "      <td>Yes</td>\n",
       "      <td>No internet service</td>\n",
       "      <td>No internet service</td>\n",
       "      <td>No internet service</td>\n",
       "      <td>No internet service</td>\n",
       "      <td>Yes</td>\n",
       "      <td>No</td>\n",
       "    </tr>\n",
       "    <tr>\n",
       "      <th>TechSupport</th>\n",
       "      <td>Yes</td>\n",
       "      <td>No internet service</td>\n",
       "      <td>No</td>\n",
       "      <td>No internet service</td>\n",
       "      <td>Yes</td>\n",
       "      <td>No internet service</td>\n",
       "      <td>No internet service</td>\n",
       "      <td>No internet service</td>\n",
       "      <td>No internet service</td>\n",
       "      <td>Yes</td>\n",
       "      <td>Yes</td>\n",
       "    </tr>\n",
       "    <tr>\n",
       "      <th>StreamingTV</th>\n",
       "      <td>Yes</td>\n",
       "      <td>No internet service</td>\n",
       "      <td>Yes</td>\n",
       "      <td>No internet service</td>\n",
       "      <td>Yes</td>\n",
       "      <td>No internet service</td>\n",
       "      <td>No internet service</td>\n",
       "      <td>No internet service</td>\n",
       "      <td>No internet service</td>\n",
       "      <td>Yes</td>\n",
       "      <td>No</td>\n",
       "    </tr>\n",
       "    <tr>\n",
       "      <th>StreamingMovies</th>\n",
       "      <td>No</td>\n",
       "      <td>No internet service</td>\n",
       "      <td>Yes</td>\n",
       "      <td>No internet service</td>\n",
       "      <td>No</td>\n",
       "      <td>No internet service</td>\n",
       "      <td>No internet service</td>\n",
       "      <td>No internet service</td>\n",
       "      <td>No internet service</td>\n",
       "      <td>No</td>\n",
       "      <td>No</td>\n",
       "    </tr>\n",
       "    <tr>\n",
       "      <th>Contract</th>\n",
       "      <td>Two year</td>\n",
       "      <td>Two year</td>\n",
       "      <td>Two year</td>\n",
       "      <td>Two year</td>\n",
       "      <td>Two year</td>\n",
       "      <td>Two year</td>\n",
       "      <td>Two year</td>\n",
       "      <td>Two year</td>\n",
       "      <td>One year</td>\n",
       "      <td>Two year</td>\n",
       "      <td>Two year</td>\n",
       "    </tr>\n",
       "    <tr>\n",
       "      <th>PaperlessBilling</th>\n",
       "      <td>Yes</td>\n",
       "      <td>No</td>\n",
       "      <td>No</td>\n",
       "      <td>No</td>\n",
       "      <td>No</td>\n",
       "      <td>No</td>\n",
       "      <td>No</td>\n",
       "      <td>No</td>\n",
       "      <td>Yes</td>\n",
       "      <td>No</td>\n",
       "      <td>Yes</td>\n",
       "    </tr>\n",
       "    <tr>\n",
       "      <th>PaymentMethod</th>\n",
       "      <td>Bank transfer (automatic)</td>\n",
       "      <td>Mailed check</td>\n",
       "      <td>Mailed check</td>\n",
       "      <td>Mailed check</td>\n",
       "      <td>Credit card (automatic)</td>\n",
       "      <td>Mailed check</td>\n",
       "      <td>Mailed check</td>\n",
       "      <td>Mailed check</td>\n",
       "      <td>Mailed check</td>\n",
       "      <td>Mailed check</td>\n",
       "      <td>Bank transfer (automatic)</td>\n",
       "    </tr>\n",
       "    <tr>\n",
       "      <th>MonthlyCharges</th>\n",
       "      <td>52.55</td>\n",
       "      <td>20.25</td>\n",
       "      <td>80.85</td>\n",
       "      <td>25.75</td>\n",
       "      <td>56.05</td>\n",
       "      <td>19.85</td>\n",
       "      <td>25.35</td>\n",
       "      <td>20.0</td>\n",
       "      <td>19.7</td>\n",
       "      <td>73.35</td>\n",
       "      <td>61.9</td>\n",
       "    </tr>\n",
       "    <tr>\n",
       "      <th>TotalCharges</th>\n",
       "      <td></td>\n",
       "      <td></td>\n",
       "      <td></td>\n",
       "      <td></td>\n",
       "      <td></td>\n",
       "      <td></td>\n",
       "      <td></td>\n",
       "      <td></td>\n",
       "      <td></td>\n",
       "      <td></td>\n",
       "      <td></td>\n",
       "    </tr>\n",
       "    <tr>\n",
       "      <th>Churn</th>\n",
       "      <td>No</td>\n",
       "      <td>No</td>\n",
       "      <td>No</td>\n",
       "      <td>No</td>\n",
       "      <td>No</td>\n",
       "      <td>No</td>\n",
       "      <td>No</td>\n",
       "      <td>No</td>\n",
       "      <td>No</td>\n",
       "      <td>No</td>\n",
       "      <td>No</td>\n",
       "    </tr>\n",
       "  </tbody>\n",
       "</table>\n",
       "</div>"
      ],
      "text/plain": [
       "                                       488                  753   \\\n",
       "gender                               Female                 Male   \n",
       "SeniorCitizen                             0                    0   \n",
       "Partner                                 Yes                   No   \n",
       "Dependents                              Yes                  Yes   \n",
       "tenure                                    0                    0   \n",
       "PhoneService                             No                  Yes   \n",
       "MultipleLines              No phone service                   No   \n",
       "InternetService                         DSL                   No   \n",
       "OnlineSecurity                          Yes  No internet service   \n",
       "OnlineBackup                             No  No internet service   \n",
       "DeviceProtection                        Yes  No internet service   \n",
       "TechSupport                             Yes  No internet service   \n",
       "StreamingTV                             Yes  No internet service   \n",
       "StreamingMovies                          No  No internet service   \n",
       "Contract                           Two year             Two year   \n",
       "PaperlessBilling                        Yes                   No   \n",
       "PaymentMethod     Bank transfer (automatic)         Mailed check   \n",
       "MonthlyCharges                        52.55                20.25   \n",
       "TotalCharges                                                       \n",
       "Churn                                    No                   No   \n",
       "\n",
       "                          936                  1082                     1340  \\\n",
       "gender                  Female                 Male                   Female   \n",
       "SeniorCitizen                0                    0                        0   \n",
       "Partner                    Yes                  Yes                      Yes   \n",
       "Dependents                 Yes                  Yes                      Yes   \n",
       "tenure                       0                    0                        0   \n",
       "PhoneService               Yes                  Yes                       No   \n",
       "MultipleLines               No                  Yes         No phone service   \n",
       "InternetService            DSL                   No                      DSL   \n",
       "OnlineSecurity             Yes  No internet service                      Yes   \n",
       "OnlineBackup               Yes  No internet service                      Yes   \n",
       "DeviceProtection           Yes  No internet service                      Yes   \n",
       "TechSupport                 No  No internet service                      Yes   \n",
       "StreamingTV                Yes  No internet service                      Yes   \n",
       "StreamingMovies            Yes  No internet service                       No   \n",
       "Contract              Two year             Two year                 Two year   \n",
       "PaperlessBilling            No                   No                       No   \n",
       "PaymentMethod     Mailed check         Mailed check  Credit card (automatic)   \n",
       "MonthlyCharges           80.85                25.75                    56.05   \n",
       "TotalCharges                                                                   \n",
       "Churn                       No                   No                       No   \n",
       "\n",
       "                                 3331                 3826  \\\n",
       "gender                           Male                 Male   \n",
       "SeniorCitizen                       0                    0   \n",
       "Partner                           Yes                  Yes   \n",
       "Dependents                        Yes                  Yes   \n",
       "tenure                              0                    0   \n",
       "PhoneService                      Yes                  Yes   \n",
       "MultipleLines                      No                  Yes   \n",
       "InternetService                    No                   No   \n",
       "OnlineSecurity    No internet service  No internet service   \n",
       "OnlineBackup      No internet service  No internet service   \n",
       "DeviceProtection  No internet service  No internet service   \n",
       "TechSupport       No internet service  No internet service   \n",
       "StreamingTV       No internet service  No internet service   \n",
       "StreamingMovies   No internet service  No internet service   \n",
       "Contract                     Two year             Two year   \n",
       "PaperlessBilling                   No                   No   \n",
       "PaymentMethod            Mailed check         Mailed check   \n",
       "MonthlyCharges                  19.85                25.35   \n",
       "TotalCharges                                                 \n",
       "Churn                              No                   No   \n",
       "\n",
       "                                 4380                 5218          6670  \\\n",
       "gender                         Female                 Male        Female   \n",
       "SeniorCitizen                       0                    0             0   \n",
       "Partner                           Yes                  Yes           Yes   \n",
       "Dependents                        Yes                  Yes           Yes   \n",
       "tenure                              0                    0             0   \n",
       "PhoneService                      Yes                  Yes           Yes   \n",
       "MultipleLines                      No                   No           Yes   \n",
       "InternetService                    No                   No           DSL   \n",
       "OnlineSecurity    No internet service  No internet service            No   \n",
       "OnlineBackup      No internet service  No internet service           Yes   \n",
       "DeviceProtection  No internet service  No internet service           Yes   \n",
       "TechSupport       No internet service  No internet service           Yes   \n",
       "StreamingTV       No internet service  No internet service           Yes   \n",
       "StreamingMovies   No internet service  No internet service            No   \n",
       "Contract                     Two year             One year      Two year   \n",
       "PaperlessBilling                   No                  Yes            No   \n",
       "PaymentMethod            Mailed check         Mailed check  Mailed check   \n",
       "MonthlyCharges                   20.0                 19.7         73.35   \n",
       "TotalCharges                                                               \n",
       "Churn                              No                   No            No   \n",
       "\n",
       "                                       6754  \n",
       "gender                                 Male  \n",
       "SeniorCitizen                             0  \n",
       "Partner                                  No  \n",
       "Dependents                              Yes  \n",
       "tenure                                    0  \n",
       "PhoneService                            Yes  \n",
       "MultipleLines                           Yes  \n",
       "InternetService                         DSL  \n",
       "OnlineSecurity                          Yes  \n",
       "OnlineBackup                            Yes  \n",
       "DeviceProtection                         No  \n",
       "TechSupport                             Yes  \n",
       "StreamingTV                              No  \n",
       "StreamingMovies                          No  \n",
       "Contract                           Two year  \n",
       "PaperlessBilling                        Yes  \n",
       "PaymentMethod     Bank transfer (automatic)  \n",
       "MonthlyCharges                         61.9  \n",
       "TotalCharges                                 \n",
       "Churn                                    No  "
      ]
     },
     "execution_count": 9,
     "metadata": {},
     "output_type": "execute_result"
    }
   ],
   "source": [
    "print(len(df[df['TotalCharges'] == ' ']),'\\n')\n",
    "df[df['TotalCharges'] == ' '].T"
   ]
  },
  {
   "cell_type": "code",
   "execution_count": 10,
   "id": "7aa5df7e",
   "metadata": {
    "execution": {
     "iopub.execute_input": "2023-08-10T11:01:50.458846Z",
     "iopub.status.busy": "2023-08-10T11:01:50.458425Z",
     "iopub.status.idle": "2023-08-10T11:01:50.471427Z",
     "shell.execute_reply": "2023-08-10T11:01:50.470486Z"
    },
    "papermill": {
     "duration": 0.044449,
     "end_time": "2023-08-10T11:01:50.473767",
     "exception": false,
     "start_time": "2023-08-10T11:01:50.429318",
     "status": "completed"
    },
    "tags": []
   },
   "outputs": [],
   "source": [
    "df['TotalCharges'] = pd.to_numeric(df['TotalCharges'],errors='coerce')\n",
    "# errors='coerce' it is for when he found error like try to convert space to int he will inforce this error and convert space to null value "
   ]
  },
  {
   "cell_type": "code",
   "execution_count": 11,
   "id": "f118c40b",
   "metadata": {
    "execution": {
     "iopub.execute_input": "2023-08-10T11:01:50.532072Z",
     "iopub.status.busy": "2023-08-10T11:01:50.531621Z",
     "iopub.status.idle": "2023-08-10T11:01:50.540616Z",
     "shell.execute_reply": "2023-08-10T11:01:50.539643Z"
    },
    "papermill": {
     "duration": 0.041971,
     "end_time": "2023-08-10T11:01:50.542992",
     "exception": false,
     "start_time": "2023-08-10T11:01:50.501021",
     "status": "completed"
    },
    "tags": []
   },
   "outputs": [
    {
     "data": {
      "text/plain": [
       "0"
      ]
     },
     "execution_count": 11,
     "metadata": {},
     "output_type": "execute_result"
    }
   ],
   "source": [
    "len(df[df['TotalCharges'] == ' '])"
   ]
  },
  {
   "cell_type": "code",
   "execution_count": 12,
   "id": "d028fffb",
   "metadata": {
    "execution": {
     "iopub.execute_input": "2023-08-10T11:01:50.603774Z",
     "iopub.status.busy": "2023-08-10T11:01:50.602703Z",
     "iopub.status.idle": "2023-08-10T11:01:50.650989Z",
     "shell.execute_reply": "2023-08-10T11:01:50.649742Z"
    },
    "papermill": {
     "duration": 0.081237,
     "end_time": "2023-08-10T11:01:50.653301",
     "exception": false,
     "start_time": "2023-08-10T11:01:50.572064",
     "status": "completed"
    },
    "tags": []
   },
   "outputs": [
    {
     "data": {
      "text/plain": [
       "gender               0\n",
       "SeniorCitizen        0\n",
       "Partner              0\n",
       "Dependents           0\n",
       "tenure               0\n",
       "PhoneService         0\n",
       "MultipleLines        0\n",
       "InternetService      0\n",
       "OnlineSecurity       0\n",
       "OnlineBackup         0\n",
       "DeviceProtection     0\n",
       "TechSupport          0\n",
       "StreamingTV          0\n",
       "StreamingMovies      0\n",
       "Contract             0\n",
       "PaperlessBilling     0\n",
       "PaymentMethod        0\n",
       "MonthlyCharges       0\n",
       "TotalCharges        11\n",
       "Churn                0\n",
       "dtype: int64"
      ]
     },
     "execution_count": 12,
     "metadata": {},
     "output_type": "execute_result"
    }
   ],
   "source": [
    "df.isnull().sum()"
   ]
  },
  {
   "cell_type": "code",
   "execution_count": 13,
   "id": "5f1c7748",
   "metadata": {
    "execution": {
     "iopub.execute_input": "2023-08-10T11:01:50.713946Z",
     "iopub.status.busy": "2023-08-10T11:01:50.712780Z",
     "iopub.status.idle": "2023-08-10T11:01:50.720223Z",
     "shell.execute_reply": "2023-08-10T11:01:50.719257Z"
    },
    "papermill": {
     "duration": 0.040626,
     "end_time": "2023-08-10T11:01:50.722697",
     "exception": false,
     "start_time": "2023-08-10T11:01:50.682071",
     "status": "completed"
    },
    "tags": []
   },
   "outputs": [],
   "source": [
    "df['TotalCharges'] = df['TotalCharges'].fillna(df['TotalCharges'].median())"
   ]
  },
  {
   "cell_type": "code",
   "execution_count": 14,
   "id": "2ee1b24d",
   "metadata": {
    "execution": {
     "iopub.execute_input": "2023-08-10T11:01:50.782482Z",
     "iopub.status.busy": "2023-08-10T11:01:50.781142Z",
     "iopub.status.idle": "2023-08-10T11:01:50.829849Z",
     "shell.execute_reply": "2023-08-10T11:01:50.828499Z"
    },
    "papermill": {
     "duration": 0.081683,
     "end_time": "2023-08-10T11:01:50.832681",
     "exception": false,
     "start_time": "2023-08-10T11:01:50.750998",
     "status": "completed"
    },
    "tags": []
   },
   "outputs": [
    {
     "data": {
      "text/plain": [
       "gender              0\n",
       "SeniorCitizen       0\n",
       "Partner             0\n",
       "Dependents          0\n",
       "tenure              0\n",
       "PhoneService        0\n",
       "MultipleLines       0\n",
       "InternetService     0\n",
       "OnlineSecurity      0\n",
       "OnlineBackup        0\n",
       "DeviceProtection    0\n",
       "TechSupport         0\n",
       "StreamingTV         0\n",
       "StreamingMovies     0\n",
       "Contract            0\n",
       "PaperlessBilling    0\n",
       "PaymentMethod       0\n",
       "MonthlyCharges      0\n",
       "TotalCharges        0\n",
       "Churn               0\n",
       "dtype: int64"
      ]
     },
     "execution_count": 14,
     "metadata": {},
     "output_type": "execute_result"
    }
   ],
   "source": [
    "df.isnull().sum()"
   ]
  },
  {
   "cell_type": "code",
   "execution_count": 15,
   "id": "a6b4374a",
   "metadata": {
    "execution": {
     "iopub.execute_input": "2023-08-10T11:01:50.895447Z",
     "iopub.status.busy": "2023-08-10T11:01:50.894336Z",
     "iopub.status.idle": "2023-08-10T11:01:51.256134Z",
     "shell.execute_reply": "2023-08-10T11:01:51.254777Z"
    },
    "papermill": {
     "duration": 0.396266,
     "end_time": "2023-08-10T11:01:51.258845",
     "exception": false,
     "start_time": "2023-08-10T11:01:50.862579",
     "status": "completed"
    },
    "tags": []
   },
   "outputs": [
    {
     "data": {
      "text/plain": [
       "<Axes: >"
      ]
     },
     "execution_count": 15,
     "metadata": {},
     "output_type": "execute_result"
    },
    {
     "data": {
      "image/png": "[encoded data removed]",
      "text/plain": [
       "<Figure size 640x480 with 1 Axes>"
      ]
     },
     "metadata": {},
     "output_type": "display_data"
    }
   ],
   "source": [
    "df['TotalCharges'].hist()"
   ]
  },
  {
   "cell_type": "markdown",
   "id": "59034b28",
   "metadata": {
    "papermill": {
     "duration": 0.028711,
     "end_time": "2023-08-10T11:01:51.317100",
     "exception": false,
     "start_time": "2023-08-10T11:01:51.288389",
     "status": "completed"
    },
    "tags": []
   },
   "source": [
    "# Cleaning Data"
   ]
  },
  {
   "cell_type": "code",
   "execution_count": 16,
   "id": "5f62080d",
   "metadata": {
    "execution": {
     "iopub.execute_input": "2023-08-10T11:01:51.375939Z",
     "iopub.status.busy": "2023-08-10T11:01:51.375544Z",
     "iopub.status.idle": "2023-08-10T11:01:51.381542Z",
     "shell.execute_reply": "2023-08-10T11:01:51.380213Z"
    },
    "papermill": {
     "duration": 0.038593,
     "end_time": "2023-08-10T11:01:51.383991",
     "exception": false,
     "start_time": "2023-08-10T11:01:51.345398",
     "status": "completed"
    },
    "tags": []
   },
   "outputs": [],
   "source": [
    "df.columns = df.columns.str.lower()"
   ]
  },
  {
   "cell_type": "code",
   "execution_count": 17,
   "id": "d5747658",
   "metadata": {
    "execution": {
     "iopub.execute_input": "2023-08-10T11:01:51.443349Z",
     "iopub.status.busy": "2023-08-10T11:01:51.442937Z",
     "iopub.status.idle": "2023-08-10T11:01:51.451424Z",
     "shell.execute_reply": "2023-08-10T11:01:51.450150Z"
    },
    "papermill": {
     "duration": 0.041549,
     "end_time": "2023-08-10T11:01:51.453854",
     "exception": false,
     "start_time": "2023-08-10T11:01:51.412305",
     "status": "completed"
    },
    "tags": []
   },
   "outputs": [
    {
     "data": {
      "text/plain": [
       "Index(['gender', 'seniorcitizen', 'partner', 'dependents', 'tenure',\n",
       "       'phoneservice', 'multiplelines', 'internetservice', 'onlinesecurity',\n",
       "       'onlinebackup', 'deviceprotection', 'techsupport', 'streamingtv',\n",
       "       'streamingmovies', 'contract', 'paperlessbilling', 'paymentmethod',\n",
       "       'monthlycharges', 'totalcharges', 'churn'],\n",
       "      dtype='object')"
      ]
     },
     "execution_count": 17,
     "metadata": {},
     "output_type": "execute_result"
    }
   ],
   "source": [
    "df.columns"
   ]
  },
  {
   "cell_type": "code",
   "execution_count": 18,
   "id": "a873f25d",
   "metadata": {
    "execution": {
     "iopub.execute_input": "2023-08-10T11:01:51.515613Z",
     "iopub.status.busy": "2023-08-10T11:01:51.515146Z",
     "iopub.status.idle": "2023-08-10T11:01:51.528178Z",
     "shell.execute_reply": "2023-08-10T11:01:51.526973Z"
    },
    "papermill": {
     "duration": 0.0486,
     "end_time": "2023-08-10T11:01:51.530700",
     "exception": false,
     "start_time": "2023-08-10T11:01:51.482100",
     "status": "completed"
    },
    "tags": []
   },
   "outputs": [
    {
     "data": {
      "text/plain": [
       "0       0\n",
       "1       0\n",
       "2       1\n",
       "3       0\n",
       "4       1\n",
       "       ..\n",
       "7038    0\n",
       "7039    0\n",
       "7040    0\n",
       "7041    1\n",
       "7042    0\n",
       "Name: churn, Length: 7043, dtype: int64"
      ]
     },
     "execution_count": 18,
     "metadata": {},
     "output_type": "execute_result"
    }
   ],
   "source": [
    "df.churn = (df.churn == 'Yes').astype(int)\n",
    "df.churn"
   ]
  },
  {
   "cell_type": "code",
   "execution_count": 19,
   "id": "9a1d05b7",
   "metadata": {
    "execution": {
     "iopub.execute_input": "2023-08-10T11:01:51.591451Z",
     "iopub.status.busy": "2023-08-10T11:01:51.590973Z",
     "iopub.status.idle": "2023-08-10T11:01:51.601272Z",
     "shell.execute_reply": "2023-08-10T11:01:51.599791Z"
    },
    "papermill": {
     "duration": 0.044202,
     "end_time": "2023-08-10T11:01:51.604165",
     "exception": false,
     "start_time": "2023-08-10T11:01:51.559963",
     "status": "completed"
    },
    "tags": []
   },
   "outputs": [
    {
     "data": {
      "text/plain": [
       "0    5174\n",
       "1    1869\n",
       "Name: churn, dtype: int64"
      ]
     },
     "execution_count": 19,
     "metadata": {},
     "output_type": "execute_result"
    }
   ],
   "source": [
    "df.churn.value_counts()"
   ]
  },
  {
   "cell_type": "markdown",
   "id": "d5266a16",
   "metadata": {
    "papermill": {
     "duration": 0.029041,
     "end_time": "2023-08-10T11:01:51.662012",
     "exception": false,
     "start_time": "2023-08-10T11:01:51.632971",
     "status": "completed"
    },
    "tags": []
   },
   "source": [
    "# EDA"
   ]
  },
  {
   "cell_type": "code",
   "execution_count": 20,
   "id": "72130ba0",
   "metadata": {
    "execution": {
     "iopub.execute_input": "2023-08-10T11:01:51.724069Z",
     "iopub.status.busy": "2023-08-10T11:01:51.723028Z",
     "iopub.status.idle": "2023-08-10T11:01:51.729928Z",
     "shell.execute_reply": "2023-08-10T11:01:51.728877Z"
    },
    "papermill": {
     "duration": 0.040975,
     "end_time": "2023-08-10T11:01:51.732522",
     "exception": false,
     "start_time": "2023-08-10T11:01:51.691547",
     "status": "completed"
    },
    "tags": []
   },
   "outputs": [],
   "source": [
    "df['seniorcitizen'] = df['seniorcitizen'].astype(object)"
   ]
  },
  {
   "cell_type": "code",
   "execution_count": 21,
   "id": "d2bc8790",
   "metadata": {
    "execution": {
     "iopub.execute_input": "2023-08-10T11:01:51.792993Z",
     "iopub.status.busy": "2023-08-10T11:01:51.792568Z",
     "iopub.status.idle": "2023-08-10T11:01:51.804737Z",
     "shell.execute_reply": "2023-08-10T11:01:51.803783Z"
    },
    "papermill": {
     "duration": 0.045626,
     "end_time": "2023-08-10T11:01:51.807003",
     "exception": false,
     "start_time": "2023-08-10T11:01:51.761377",
     "status": "completed"
    },
    "tags": []
   },
   "outputs": [
    {
     "data": {
      "text/plain": [
       "['gender',\n",
       " 'seniorcitizen',\n",
       " 'partner',\n",
       " 'dependents',\n",
       " 'phoneservice',\n",
       " 'multiplelines',\n",
       " 'internetservice',\n",
       " 'onlinesecurity',\n",
       " 'onlinebackup',\n",
       " 'deviceprotection',\n",
       " 'techsupport',\n",
       " 'streamingtv',\n",
       " 'streamingmovies',\n",
       " 'contract',\n",
       " 'paperlessbilling',\n",
       " 'paymentmethod']"
      ]
     },
     "execution_count": 21,
     "metadata": {},
     "output_type": "execute_result"
    }
   ],
   "source": [
    "categorical  =list(df.select_dtypes(include = ['object']).columns)\n",
    "categorical"
   ]
  },
  {
   "cell_type": "code",
   "execution_count": 22,
   "id": "140fac2d",
   "metadata": {
    "execution": {
     "iopub.execute_input": "2023-08-10T11:01:51.866662Z",
     "iopub.status.busy": "2023-08-10T11:01:51.866218Z",
     "iopub.status.idle": "2023-08-10T11:01:51.874297Z",
     "shell.execute_reply": "2023-08-10T11:01:51.873355Z"
    },
    "papermill": {
     "duration": 0.040921,
     "end_time": "2023-08-10T11:01:51.876890",
     "exception": false,
     "start_time": "2023-08-10T11:01:51.835969",
     "status": "completed"
    },
    "tags": []
   },
   "outputs": [
    {
     "data": {
      "text/plain": [
       "['tenure', 'monthlycharges', 'totalcharges', 'churn']"
      ]
     },
     "execution_count": 22,
     "metadata": {},
     "output_type": "execute_result"
    }
   ],
   "source": [
    "numerical  =list(df.select_dtypes(include = ['number']).columns)\n",
    "numerical"
   ]
  },
  {
   "cell_type": "code",
   "execution_count": 23,
   "id": "e17036bd",
   "metadata": {
    "execution": {
     "iopub.execute_input": "2023-08-10T11:01:51.939574Z",
     "iopub.status.busy": "2023-08-10T11:01:51.938332Z",
     "iopub.status.idle": "2023-08-10T11:01:51.946713Z",
     "shell.execute_reply": "2023-08-10T11:01:51.945234Z"
    },
    "papermill": {
     "duration": 0.042698,
     "end_time": "2023-08-10T11:01:51.949441",
     "exception": false,
     "start_time": "2023-08-10T11:01:51.906743",
     "status": "completed"
    },
    "tags": []
   },
   "outputs": [
    {
     "data": {
      "text/plain": [
       "['tenure', 'monthlycharges', 'totalcharges']"
      ]
     },
     "execution_count": 23,
     "metadata": {},
     "output_type": "execute_result"
    }
   ],
   "source": [
    "numerical  .remove('churn')\n",
    "numerical"
   ]
  },
  {
   "cell_type": "code",
   "execution_count": 24,
   "id": "25bdc952",
   "metadata": {
    "execution": {
     "iopub.execute_input": "2023-08-10T11:01:52.014561Z",
     "iopub.status.busy": "2023-08-10T11:01:52.013660Z",
     "iopub.status.idle": "2023-08-10T11:01:52.041610Z",
     "shell.execute_reply": "2023-08-10T11:01:52.040108Z"
    },
    "papermill": {
     "duration": 0.065005,
     "end_time": "2023-08-10T11:01:52.044487",
     "exception": false,
     "start_time": "2023-08-10T11:01:51.979482",
     "status": "completed"
    },
    "tags": []
   },
   "outputs": [
    {
     "data": {
      "text/plain": [
       "gender              2\n",
       "seniorcitizen       2\n",
       "partner             2\n",
       "dependents          2\n",
       "phoneservice        2\n",
       "multiplelines       3\n",
       "internetservice     3\n",
       "onlinesecurity      3\n",
       "onlinebackup        3\n",
       "deviceprotection    3\n",
       "techsupport         3\n",
       "streamingtv         3\n",
       "streamingmovies     3\n",
       "contract            3\n",
       "paperlessbilling    2\n",
       "paymentmethod       4\n",
       "dtype: int64"
      ]
     },
     "execution_count": 24,
     "metadata": {},
     "output_type": "execute_result"
    }
   ],
   "source": [
    "df[categorical] .nunique()"
   ]
  },
  {
   "cell_type": "code",
   "execution_count": 25,
   "id": "3b9d64a1",
   "metadata": {
    "execution": {
     "iopub.execute_input": "2023-08-10T11:01:52.105899Z",
     "iopub.status.busy": "2023-08-10T11:01:52.105483Z",
     "iopub.status.idle": "2023-08-10T11:01:52.120420Z",
     "shell.execute_reply": "2023-08-10T11:01:52.119116Z"
    },
    "papermill": {
     "duration": 0.049075,
     "end_time": "2023-08-10T11:01:52.123309",
     "exception": false,
     "start_time": "2023-08-10T11:01:52.074234",
     "status": "completed"
    },
    "tags": []
   },
   "outputs": [
    {
     "data": {
      "text/plain": [
       "tenure              73\n",
       "monthlycharges    1585\n",
       "totalcharges      6531\n",
       "dtype: int64"
      ]
     },
     "execution_count": 25,
     "metadata": {},
     "output_type": "execute_result"
    }
   ],
   "source": [
    "df[numerical] .nunique()"
   ]
  },
  {
   "cell_type": "code",
   "execution_count": 26,
   "id": "50b2fe56",
   "metadata": {
    "execution": {
     "iopub.execute_input": "2023-08-10T11:01:52.189007Z",
     "iopub.status.busy": "2023-08-10T11:01:52.187919Z",
     "iopub.status.idle": "2023-08-10T11:01:52.198371Z",
     "shell.execute_reply": "2023-08-10T11:01:52.197130Z"
    },
    "papermill": {
     "duration": 0.048115,
     "end_time": "2023-08-10T11:01:52.201471",
     "exception": false,
     "start_time": "2023-08-10T11:01:52.153356",
     "status": "completed"
    },
    "tags": []
   },
   "outputs": [
    {
     "data": {
      "text/plain": [
       "0.27"
      ]
     },
     "execution_count": 26,
     "metadata": {},
     "output_type": "execute_result"
    }
   ],
   "source": [
    "global_mean = df.churn.mean()\n",
    "round(global_mean,2)"
   ]
  },
  {
   "cell_type": "code",
   "execution_count": 27,
   "id": "33fcf9cf",
   "metadata": {
    "execution": {
     "iopub.execute_input": "2023-08-10T11:01:52.265266Z",
     "iopub.status.busy": "2023-08-10T11:01:52.264385Z",
     "iopub.status.idle": "2023-08-10T11:01:52.279199Z",
     "shell.execute_reply": "2023-08-10T11:01:52.278189Z"
    },
    "papermill": {
     "duration": 0.04984,
     "end_time": "2023-08-10T11:01:52.282205",
     "exception": false,
     "start_time": "2023-08-10T11:01:52.232365",
     "status": "completed"
    },
    "tags": []
   },
   "outputs": [
    {
     "data": {
      "text/plain": [
       "gender\n",
       "Female    0.269209\n",
       "Male      0.261603\n",
       "Name: churn, dtype: float64"
      ]
     },
     "execution_count": 27,
     "metadata": {},
     "output_type": "execute_result"
    }
   ],
   "source": [
    "churn_gender= df.groupby('gender').churn.mean()\n",
    "churn_gender \n",
    "# becuase the mean of both genders in chun = to mean of each gender \n",
    "# so the gender does not have effect"
   ]
  },
  {
   "cell_type": "code",
   "execution_count": 28,
   "id": "b19b49b8",
   "metadata": {
    "execution": {
     "iopub.execute_input": "2023-08-10T11:01:52.347261Z",
     "iopub.status.busy": "2023-08-10T11:01:52.346463Z",
     "iopub.status.idle": "2023-08-10T11:01:52.357183Z",
     "shell.execute_reply": "2023-08-10T11:01:52.355869Z"
    },
    "papermill": {
     "duration": 0.047236,
     "end_time": "2023-08-10T11:01:52.360345",
     "exception": false,
     "start_time": "2023-08-10T11:01:52.313109",
     "status": "completed"
    },
    "tags": []
   },
   "outputs": [
    {
     "data": {
      "text/plain": [
       "partner\n",
       "No     0.329580\n",
       "Yes    0.196649\n",
       "Name: churn, dtype: float64"
      ]
     },
     "execution_count": 28,
     "metadata": {},
     "output_type": "execute_result"
    }
   ],
   "source": [
    "churn_partner = df.groupby('partner').churn.mean()\n",
    "churn_partner\n"
   ]
  },
  {
   "cell_type": "code",
   "execution_count": 29,
   "id": "fb06b34c",
   "metadata": {
    "execution": {
     "iopub.execute_input": "2023-08-10T11:01:52.431186Z",
     "iopub.status.busy": "2023-08-10T11:01:52.430651Z",
     "iopub.status.idle": "2023-08-10T11:01:52.441500Z",
     "shell.execute_reply": "2023-08-10T11:01:52.439717Z"
    },
    "papermill": {
     "duration": 0.051837,
     "end_time": "2023-08-10T11:01:52.444339",
     "exception": false,
     "start_time": "2023-08-10T11:01:52.392502",
     "status": "completed"
    },
    "tags": []
   },
   "outputs": [
    {
     "data": {
      "text/plain": [
       "gender\n",
       "Female    1.014466\n",
       "Male      0.985807\n",
       "Name: churn, dtype: float64"
      ]
     },
     "execution_count": 29,
     "metadata": {},
     "output_type": "execute_result"
    }
   ],
   "source": [
    "gender_risk = churn_gender / global_mean\n",
    "gender_risk"
   ]
  },
  {
   "cell_type": "code",
   "execution_count": 30,
   "id": "59d895de",
   "metadata": {
    "execution": {
     "iopub.execute_input": "2023-08-10T11:01:52.517876Z",
     "iopub.status.busy": "2023-08-10T11:01:52.517386Z",
     "iopub.status.idle": "2023-08-10T11:01:52.528054Z",
     "shell.execute_reply": "2023-08-10T11:01:52.526842Z"
    },
    "papermill": {
     "duration": 0.051764,
     "end_time": "2023-08-10T11:01:52.530976",
     "exception": false,
     "start_time": "2023-08-10T11:01:52.479212",
     "status": "completed"
    },
    "tags": []
   },
   "outputs": [
    {
     "data": {
      "text/plain": [
       "partner\n",
       "No     1.241964\n",
       "Yes    0.741038\n",
       "Name: churn, dtype: float64"
      ]
     },
     "execution_count": 30,
     "metadata": {},
     "output_type": "execute_result"
    }
   ],
   "source": [
    "partner_risk = churn_partner / global_mean\n",
    "partner_risk"
   ]
  },
  {
   "cell_type": "code",
   "execution_count": 31,
   "id": "94352f21",
   "metadata": {
    "execution": {
     "iopub.execute_input": "2023-08-10T11:01:52.598654Z",
     "iopub.status.busy": "2023-08-10T11:01:52.598162Z",
     "iopub.status.idle": "2023-08-10T11:01:52.804751Z",
     "shell.execute_reply": "2023-08-10T11:01:52.803646Z"
    },
    "papermill": {
     "duration": 0.246092,
     "end_time": "2023-08-10T11:01:52.808373",
     "exception": false,
     "start_time": "2023-08-10T11:01:52.562281",
     "status": "completed"
    },
    "tags": []
   },
   "outputs": [
    {
     "data": {
      "text/html": [
       "<div>\n",
       "<style scoped>\n",
       "    .dataframe tbody tr th:only-of-type {\n",
       "        vertical-align: middle;\n",
       "    }\n",
       "\n",
       "    .dataframe tbody tr th {\n",
       "        vertical-align: top;\n",
       "    }\n",
       "\n",
       "    .dataframe thead th {\n",
       "        text-align: right;\n",
       "    }\n",
       "</style>\n",
       "<table border=\"1\" class=\"dataframe\">\n",
       "  <thead>\n",
       "    <tr style=\"text-align: right;\">\n",
       "      <th></th>\n",
       "      <th>mean</th>\n",
       "      <th>diff</th>\n",
       "      <th>risk</th>\n",
       "    </tr>\n",
       "    <tr>\n",
       "      <th>gender</th>\n",
       "      <th></th>\n",
       "      <th></th>\n",
       "      <th></th>\n",
       "    </tr>\n",
       "  </thead>\n",
       "  <tbody>\n",
       "    <tr>\n",
       "      <th>Female</th>\n",
       "      <td>0.269209</td>\n",
       "      <td>0.003839</td>\n",
       "      <td>1.014466</td>\n",
       "    </tr>\n",
       "    <tr>\n",
       "      <th>Male</th>\n",
       "      <td>0.261603</td>\n",
       "      <td>-0.003766</td>\n",
       "      <td>0.985807</td>\n",
       "    </tr>\n",
       "  </tbody>\n",
       "</table>\n",
       "</div>"
      ],
      "text/plain": [
       "            mean      diff      risk\n",
       "gender                              \n",
       "Female  0.269209  0.003839  1.014466\n",
       "Male    0.261603 -0.003766  0.985807"
      ]
     },
     "metadata": {},
     "output_type": "display_data"
    },
    {
     "data": {
      "text/html": [
       "<div>\n",
       "<style scoped>\n",
       "    .dataframe tbody tr th:only-of-type {\n",
       "        vertical-align: middle;\n",
       "    }\n",
       "\n",
       "    .dataframe tbody tr th {\n",
       "        vertical-align: top;\n",
       "    }\n",
       "\n",
       "    .dataframe thead th {\n",
       "        text-align: right;\n",
       "    }\n",
       "</style>\n",
       "<table border=\"1\" class=\"dataframe\">\n",
       "  <thead>\n",
       "    <tr style=\"text-align: right;\">\n",
       "      <th></th>\n",
       "      <th>mean</th>\n",
       "      <th>diff</th>\n",
       "      <th>risk</th>\n",
       "    </tr>\n",
       "    <tr>\n",
       "      <th>seniorcitizen</th>\n",
       "      <th></th>\n",
       "      <th></th>\n",
       "      <th></th>\n",
       "    </tr>\n",
       "  </thead>\n",
       "  <tbody>\n",
       "    <tr>\n",
       "      <th>0</th>\n",
       "      <td>0.236062</td>\n",
       "      <td>-0.029308</td>\n",
       "      <td>0.889557</td>\n",
       "    </tr>\n",
       "    <tr>\n",
       "      <th>1</th>\n",
       "      <td>0.416813</td>\n",
       "      <td>0.151443</td>\n",
       "      <td>1.570686</td>\n",
       "    </tr>\n",
       "  </tbody>\n",
       "</table>\n",
       "</div>"
      ],
      "text/plain": [
       "                   mean      diff      risk\n",
       "seniorcitizen                              \n",
       "0              0.236062 -0.029308  0.889557\n",
       "1              0.416813  0.151443  1.570686"
      ]
     },
     "metadata": {},
     "output_type": "display_data"
    },
    {
     "data": {
      "text/html": [
       "<div>\n",
       "<style scoped>\n",
       "    .dataframe tbody tr th:only-of-type {\n",
       "        vertical-align: middle;\n",
       "    }\n",
       "\n",
       "    .dataframe tbody tr th {\n",
       "        vertical-align: top;\n",
       "    }\n",
       "\n",
       "    .dataframe thead th {\n",
       "        text-align: right;\n",
       "    }\n",
       "</style>\n",
       "<table border=\"1\" class=\"dataframe\">\n",
       "  <thead>\n",
       "    <tr style=\"text-align: right;\">\n",
       "      <th></th>\n",
       "      <th>mean</th>\n",
       "      <th>diff</th>\n",
       "      <th>risk</th>\n",
       "    </tr>\n",
       "    <tr>\n",
       "      <th>partner</th>\n",
       "      <th></th>\n",
       "      <th></th>\n",
       "      <th></th>\n",
       "    </tr>\n",
       "  </thead>\n",
       "  <tbody>\n",
       "    <tr>\n",
       "      <th>No</th>\n",
       "      <td>0.329580</td>\n",
       "      <td>0.064210</td>\n",
       "      <td>1.241964</td>\n",
       "    </tr>\n",
       "    <tr>\n",
       "      <th>Yes</th>\n",
       "      <td>0.196649</td>\n",
       "      <td>-0.068721</td>\n",
       "      <td>0.741038</td>\n",
       "    </tr>\n",
       "  </tbody>\n",
       "</table>\n",
       "</div>"
      ],
      "text/plain": [
       "             mean      diff      risk\n",
       "partner                              \n",
       "No       0.329580  0.064210  1.241964\n",
       "Yes      0.196649 -0.068721  0.741038"
      ]
     },
     "metadata": {},
     "output_type": "display_data"
    },
    {
     "data": {
      "text/html": [
       "<div>\n",
       "<style scoped>\n",
       "    .dataframe tbody tr th:only-of-type {\n",
       "        vertical-align: middle;\n",
       "    }\n",
       "\n",
       "    .dataframe tbody tr th {\n",
       "        vertical-align: top;\n",
       "    }\n",
       "\n",
       "    .dataframe thead th {\n",
       "        text-align: right;\n",
       "    }\n",
       "</style>\n",
       "<table border=\"1\" class=\"dataframe\">\n",
       "  <thead>\n",
       "    <tr style=\"text-align: right;\">\n",
       "      <th></th>\n",
       "      <th>mean</th>\n",
       "      <th>diff</th>\n",
       "      <th>risk</th>\n",
       "    </tr>\n",
       "    <tr>\n",
       "      <th>dependents</th>\n",
       "      <th></th>\n",
       "      <th></th>\n",
       "      <th></th>\n",
       "    </tr>\n",
       "  </thead>\n",
       "  <tbody>\n",
       "    <tr>\n",
       "      <th>No</th>\n",
       "      <td>0.312791</td>\n",
       "      <td>0.047422</td>\n",
       "      <td>1.178700</td>\n",
       "    </tr>\n",
       "    <tr>\n",
       "      <th>Yes</th>\n",
       "      <td>0.154502</td>\n",
       "      <td>-0.110868</td>\n",
       "      <td>0.582215</td>\n",
       "    </tr>\n",
       "  </tbody>\n",
       "</table>\n",
       "</div>"
      ],
      "text/plain": [
       "                mean      diff      risk\n",
       "dependents                              \n",
       "No          0.312791  0.047422  1.178700\n",
       "Yes         0.154502 -0.110868  0.582215"
      ]
     },
     "metadata": {},
     "output_type": "display_data"
    },
    {
     "data": {
      "text/html": [
       "<div>\n",
       "<style scoped>\n",
       "    .dataframe tbody tr th:only-of-type {\n",
       "        vertical-align: middle;\n",
       "    }\n",
       "\n",
       "    .dataframe tbody tr th {\n",
       "        vertical-align: top;\n",
       "    }\n",
       "\n",
       "    .dataframe thead th {\n",
       "        text-align: right;\n",
       "    }\n",
       "</style>\n",
       "<table border=\"1\" class=\"dataframe\">\n",
       "  <thead>\n",
       "    <tr style=\"text-align: right;\">\n",
       "      <th></th>\n",
       "      <th>mean</th>\n",
       "      <th>diff</th>\n",
       "      <th>risk</th>\n",
       "    </tr>\n",
       "    <tr>\n",
       "      <th>phoneservice</th>\n",
       "      <th></th>\n",
       "      <th></th>\n",
       "      <th></th>\n",
       "    </tr>\n",
       "  </thead>\n",
       "  <tbody>\n",
       "    <tr>\n",
       "      <th>No</th>\n",
       "      <td>0.249267</td>\n",
       "      <td>-0.016103</td>\n",
       "      <td>0.939319</td>\n",
       "    </tr>\n",
       "    <tr>\n",
       "      <th>Yes</th>\n",
       "      <td>0.267096</td>\n",
       "      <td>0.001726</td>\n",
       "      <td>1.006506</td>\n",
       "    </tr>\n",
       "  </tbody>\n",
       "</table>\n",
       "</div>"
      ],
      "text/plain": [
       "                  mean      diff      risk\n",
       "phoneservice                              \n",
       "No            0.249267 -0.016103  0.939319\n",
       "Yes           0.267096  0.001726  1.006506"
      ]
     },
     "metadata": {},
     "output_type": "display_data"
    },
    {
     "data": {
      "text/html": [
       "<div>\n",
       "<style scoped>\n",
       "    .dataframe tbody tr th:only-of-type {\n",
       "        vertical-align: middle;\n",
       "    }\n",
       "\n",
       "    .dataframe tbody tr th {\n",
       "        vertical-align: top;\n",
       "    }\n",
       "\n",
       "    .dataframe thead th {\n",
       "        text-align: right;\n",
       "    }\n",
       "</style>\n",
       "<table border=\"1\" class=\"dataframe\">\n",
       "  <thead>\n",
       "    <tr style=\"text-align: right;\">\n",
       "      <th></th>\n",
       "      <th>mean</th>\n",
       "      <th>diff</th>\n",
       "      <th>risk</th>\n",
       "    </tr>\n",
       "    <tr>\n",
       "      <th>multiplelines</th>\n",
       "      <th></th>\n",
       "      <th></th>\n",
       "      <th></th>\n",
       "    </tr>\n",
       "  </thead>\n",
       "  <tbody>\n",
       "    <tr>\n",
       "      <th>No</th>\n",
       "      <td>0.250442</td>\n",
       "      <td>-0.014927</td>\n",
       "      <td>0.943749</td>\n",
       "    </tr>\n",
       "    <tr>\n",
       "      <th>No phone service</th>\n",
       "      <td>0.249267</td>\n",
       "      <td>-0.016103</td>\n",
       "      <td>0.939319</td>\n",
       "    </tr>\n",
       "    <tr>\n",
       "      <th>Yes</th>\n",
       "      <td>0.286099</td>\n",
       "      <td>0.020729</td>\n",
       "      <td>1.078114</td>\n",
       "    </tr>\n",
       "  </tbody>\n",
       "</table>\n",
       "</div>"
      ],
      "text/plain": [
       "                      mean      diff      risk\n",
       "multiplelines                                 \n",
       "No                0.250442 -0.014927  0.943749\n",
       "No phone service  0.249267 -0.016103  0.939319\n",
       "Yes               0.286099  0.020729  1.078114"
      ]
     },
     "metadata": {},
     "output_type": "display_data"
    },
    {
     "data": {
      "text/html": [
       "<div>\n",
       "<style scoped>\n",
       "    .dataframe tbody tr th:only-of-type {\n",
       "        vertical-align: middle;\n",
       "    }\n",
       "\n",
       "    .dataframe tbody tr th {\n",
       "        vertical-align: top;\n",
       "    }\n",
       "\n",
       "    .dataframe thead th {\n",
       "        text-align: right;\n",
       "    }\n",
       "</style>\n",
       "<table border=\"1\" class=\"dataframe\">\n",
       "  <thead>\n",
       "    <tr style=\"text-align: right;\">\n",
       "      <th></th>\n",
       "      <th>mean</th>\n",
       "      <th>diff</th>\n",
       "      <th>risk</th>\n",
       "    </tr>\n",
       "    <tr>\n",
       "      <th>internetservice</th>\n",
       "      <th></th>\n",
       "      <th></th>\n",
       "      <th></th>\n",
       "    </tr>\n",
       "  </thead>\n",
       "  <tbody>\n",
       "    <tr>\n",
       "      <th>DSL</th>\n",
       "      <td>0.189591</td>\n",
       "      <td>-0.075779</td>\n",
       "      <td>0.714441</td>\n",
       "    </tr>\n",
       "    <tr>\n",
       "      <th>Fiber optic</th>\n",
       "      <td>0.418928</td>\n",
       "      <td>0.153558</td>\n",
       "      <td>1.578656</td>\n",
       "    </tr>\n",
       "    <tr>\n",
       "      <th>No</th>\n",
       "      <td>0.074050</td>\n",
       "      <td>-0.191320</td>\n",
       "      <td>0.279044</td>\n",
       "    </tr>\n",
       "  </tbody>\n",
       "</table>\n",
       "</div>"
      ],
      "text/plain": [
       "                     mean      diff      risk\n",
       "internetservice                              \n",
       "DSL              0.189591 -0.075779  0.714441\n",
       "Fiber optic      0.418928  0.153558  1.578656\n",
       "No               0.074050 -0.191320  0.279044"
      ]
     },
     "metadata": {},
     "output_type": "display_data"
    },
    {
     "data": {
      "text/html": [
       "<div>\n",
       "<style scoped>\n",
       "    .dataframe tbody tr th:only-of-type {\n",
       "        vertical-align: middle;\n",
       "    }\n",
       "\n",
       "    .dataframe tbody tr th {\n",
       "        vertical-align: top;\n",
       "    }\n",
       "\n",
       "    .dataframe thead th {\n",
       "        text-align: right;\n",
       "    }\n",
       "</style>\n",
       "<table border=\"1\" class=\"dataframe\">\n",
       "  <thead>\n",
       "    <tr style=\"text-align: right;\">\n",
       "      <th></th>\n",
       "      <th>mean</th>\n",
       "      <th>diff</th>\n",
       "      <th>risk</th>\n",
       "    </tr>\n",
       "    <tr>\n",
       "      <th>onlinesecurity</th>\n",
       "      <th></th>\n",
       "      <th></th>\n",
       "      <th></th>\n",
       "    </tr>\n",
       "  </thead>\n",
       "  <tbody>\n",
       "    <tr>\n",
       "      <th>No</th>\n",
       "      <td>0.417667</td>\n",
       "      <td>0.152297</td>\n",
       "      <td>1.573906</td>\n",
       "    </tr>\n",
       "    <tr>\n",
       "      <th>No internet service</th>\n",
       "      <td>0.074050</td>\n",
       "      <td>-0.191320</td>\n",
       "      <td>0.279044</td>\n",
       "    </tr>\n",
       "    <tr>\n",
       "      <th>Yes</th>\n",
       "      <td>0.146112</td>\n",
       "      <td>-0.119258</td>\n",
       "      <td>0.550597</td>\n",
       "    </tr>\n",
       "  </tbody>\n",
       "</table>\n",
       "</div>"
      ],
      "text/plain": [
       "                         mean      diff      risk\n",
       "onlinesecurity                                   \n",
       "No                   0.417667  0.152297  1.573906\n",
       "No internet service  0.074050 -0.191320  0.279044\n",
       "Yes                  0.146112 -0.119258  0.550597"
      ]
     },
     "metadata": {},
     "output_type": "display_data"
    },
    {
     "data": {
      "text/html": [
       "<div>\n",
       "<style scoped>\n",
       "    .dataframe tbody tr th:only-of-type {\n",
       "        vertical-align: middle;\n",
       "    }\n",
       "\n",
       "    .dataframe tbody tr th {\n",
       "        vertical-align: top;\n",
       "    }\n",
       "\n",
       "    .dataframe thead th {\n",
       "        text-align: right;\n",
       "    }\n",
       "</style>\n",
       "<table border=\"1\" class=\"dataframe\">\n",
       "  <thead>\n",
       "    <tr style=\"text-align: right;\">\n",
       "      <th></th>\n",
       "      <th>mean</th>\n",
       "      <th>diff</th>\n",
       "      <th>risk</th>\n",
       "    </tr>\n",
       "    <tr>\n",
       "      <th>onlinebackup</th>\n",
       "      <th></th>\n",
       "      <th></th>\n",
       "      <th></th>\n",
       "    </tr>\n",
       "  </thead>\n",
       "  <tbody>\n",
       "    <tr>\n",
       "      <th>No</th>\n",
       "      <td>0.399288</td>\n",
       "      <td>0.133918</td>\n",
       "      <td>1.504645</td>\n",
       "    </tr>\n",
       "    <tr>\n",
       "      <th>No internet service</th>\n",
       "      <td>0.074050</td>\n",
       "      <td>-0.191320</td>\n",
       "      <td>0.279044</td>\n",
       "    </tr>\n",
       "    <tr>\n",
       "      <th>Yes</th>\n",
       "      <td>0.215315</td>\n",
       "      <td>-0.050055</td>\n",
       "      <td>0.811377</td>\n",
       "    </tr>\n",
       "  </tbody>\n",
       "</table>\n",
       "</div>"
      ],
      "text/plain": [
       "                         mean      diff      risk\n",
       "onlinebackup                                     \n",
       "No                   0.399288  0.133918  1.504645\n",
       "No internet service  0.074050 -0.191320  0.279044\n",
       "Yes                  0.215315 -0.050055  0.811377"
      ]
     },
     "metadata": {},
     "output_type": "display_data"
    },
    {
     "data": {
      "text/html": [
       "<div>\n",
       "<style scoped>\n",
       "    .dataframe tbody tr th:only-of-type {\n",
       "        vertical-align: middle;\n",
       "    }\n",
       "\n",
       "    .dataframe tbody tr th {\n",
       "        vertical-align: top;\n",
       "    }\n",
       "\n",
       "    .dataframe thead th {\n",
       "        text-align: right;\n",
       "    }\n",
       "</style>\n",
       "<table border=\"1\" class=\"dataframe\">\n",
       "  <thead>\n",
       "    <tr style=\"text-align: right;\">\n",
       "      <th></th>\n",
       "      <th>mean</th>\n",
       "      <th>diff</th>\n",
       "      <th>risk</th>\n",
       "    </tr>\n",
       "    <tr>\n",
       "      <th>deviceprotection</th>\n",
       "      <th></th>\n",
       "      <th></th>\n",
       "      <th></th>\n",
       "    </tr>\n",
       "  </thead>\n",
       "  <tbody>\n",
       "    <tr>\n",
       "      <th>No</th>\n",
       "      <td>0.391276</td>\n",
       "      <td>0.125906</td>\n",
       "      <td>1.474456</td>\n",
       "    </tr>\n",
       "    <tr>\n",
       "      <th>No internet service</th>\n",
       "      <td>0.074050</td>\n",
       "      <td>-0.191320</td>\n",
       "      <td>0.279044</td>\n",
       "    </tr>\n",
       "    <tr>\n",
       "      <th>Yes</th>\n",
       "      <td>0.225021</td>\n",
       "      <td>-0.040349</td>\n",
       "      <td>0.847951</td>\n",
       "    </tr>\n",
       "  </tbody>\n",
       "</table>\n",
       "</div>"
      ],
      "text/plain": [
       "                         mean      diff      risk\n",
       "deviceprotection                                 \n",
       "No                   0.391276  0.125906  1.474456\n",
       "No internet service  0.074050 -0.191320  0.279044\n",
       "Yes                  0.225021 -0.040349  0.847951"
      ]
     },
     "metadata": {},
     "output_type": "display_data"
    },
    {
     "data": {
      "text/html": [
       "<div>\n",
       "<style scoped>\n",
       "    .dataframe tbody tr th:only-of-type {\n",
       "        vertical-align: middle;\n",
       "    }\n",
       "\n",
       "    .dataframe tbody tr th {\n",
       "        vertical-align: top;\n",
       "    }\n",
       "\n",
       "    .dataframe thead th {\n",
       "        text-align: right;\n",
       "    }\n",
       "</style>\n",
       "<table border=\"1\" class=\"dataframe\">\n",
       "  <thead>\n",
       "    <tr style=\"text-align: right;\">\n",
       "      <th></th>\n",
       "      <th>mean</th>\n",
       "      <th>diff</th>\n",
       "      <th>risk</th>\n",
       "    </tr>\n",
       "    <tr>\n",
       "      <th>techsupport</th>\n",
       "      <th></th>\n",
       "      <th></th>\n",
       "      <th></th>\n",
       "    </tr>\n",
       "  </thead>\n",
       "  <tbody>\n",
       "    <tr>\n",
       "      <th>No</th>\n",
       "      <td>0.416355</td>\n",
       "      <td>0.150985</td>\n",
       "      <td>1.568960</td>\n",
       "    </tr>\n",
       "    <tr>\n",
       "      <th>No internet service</th>\n",
       "      <td>0.074050</td>\n",
       "      <td>-0.191320</td>\n",
       "      <td>0.279044</td>\n",
       "    </tr>\n",
       "    <tr>\n",
       "      <th>Yes</th>\n",
       "      <td>0.151663</td>\n",
       "      <td>-0.113706</td>\n",
       "      <td>0.571517</td>\n",
       "    </tr>\n",
       "  </tbody>\n",
       "</table>\n",
       "</div>"
      ],
      "text/plain": [
       "                         mean      diff      risk\n",
       "techsupport                                      \n",
       "No                   0.416355  0.150985  1.568960\n",
       "No internet service  0.074050 -0.191320  0.279044\n",
       "Yes                  0.151663 -0.113706  0.571517"
      ]
     },
     "metadata": {},
     "output_type": "display_data"
    },
    {
     "data": {
      "text/html": [
       "<div>\n",
       "<style scoped>\n",
       "    .dataframe tbody tr th:only-of-type {\n",
       "        vertical-align: middle;\n",
       "    }\n",
       "\n",
       "    .dataframe tbody tr th {\n",
       "        vertical-align: top;\n",
       "    }\n",
       "\n",
       "    .dataframe thead th {\n",
       "        text-align: right;\n",
       "    }\n",
       "</style>\n",
       "<table border=\"1\" class=\"dataframe\">\n",
       "  <thead>\n",
       "    <tr style=\"text-align: right;\">\n",
       "      <th></th>\n",
       "      <th>mean</th>\n",
       "      <th>diff</th>\n",
       "      <th>risk</th>\n",
       "    </tr>\n",
       "    <tr>\n",
       "      <th>streamingtv</th>\n",
       "      <th></th>\n",
       "      <th></th>\n",
       "      <th></th>\n",
       "    </tr>\n",
       "  </thead>\n",
       "  <tbody>\n",
       "    <tr>\n",
       "      <th>No</th>\n",
       "      <td>0.335231</td>\n",
       "      <td>0.069861</td>\n",
       "      <td>1.263261</td>\n",
       "    </tr>\n",
       "    <tr>\n",
       "      <th>No internet service</th>\n",
       "      <td>0.074050</td>\n",
       "      <td>-0.191320</td>\n",
       "      <td>0.279044</td>\n",
       "    </tr>\n",
       "    <tr>\n",
       "      <th>Yes</th>\n",
       "      <td>0.300702</td>\n",
       "      <td>0.035332</td>\n",
       "      <td>1.133143</td>\n",
       "    </tr>\n",
       "  </tbody>\n",
       "</table>\n",
       "</div>"
      ],
      "text/plain": [
       "                         mean      diff      risk\n",
       "streamingtv                                      \n",
       "No                   0.335231  0.069861  1.263261\n",
       "No internet service  0.074050 -0.191320  0.279044\n",
       "Yes                  0.300702  0.035332  1.133143"
      ]
     },
     "metadata": {},
     "output_type": "display_data"
    },
    {
     "data": {
      "text/html": [
       "<div>\n",
       "<style scoped>\n",
       "    .dataframe tbody tr th:only-of-type {\n",
       "        vertical-align: middle;\n",
       "    }\n",
       "\n",
       "    .dataframe tbody tr th {\n",
       "        vertical-align: top;\n",
       "    }\n",
       "\n",
       "    .dataframe thead th {\n",
       "        text-align: right;\n",
       "    }\n",
       "</style>\n",
       "<table border=\"1\" class=\"dataframe\">\n",
       "  <thead>\n",
       "    <tr style=\"text-align: right;\">\n",
       "      <th></th>\n",
       "      <th>mean</th>\n",
       "      <th>diff</th>\n",
       "      <th>risk</th>\n",
       "    </tr>\n",
       "    <tr>\n",
       "      <th>streamingmovies</th>\n",
       "      <th></th>\n",
       "      <th></th>\n",
       "      <th></th>\n",
       "    </tr>\n",
       "  </thead>\n",
       "  <tbody>\n",
       "    <tr>\n",
       "      <th>No</th>\n",
       "      <td>0.336804</td>\n",
       "      <td>0.071434</td>\n",
       "      <td>1.269188</td>\n",
       "    </tr>\n",
       "    <tr>\n",
       "      <th>No internet service</th>\n",
       "      <td>0.074050</td>\n",
       "      <td>-0.191320</td>\n",
       "      <td>0.279044</td>\n",
       "    </tr>\n",
       "    <tr>\n",
       "      <th>Yes</th>\n",
       "      <td>0.299414</td>\n",
       "      <td>0.034044</td>\n",
       "      <td>1.128291</td>\n",
       "    </tr>\n",
       "  </tbody>\n",
       "</table>\n",
       "</div>"
      ],
      "text/plain": [
       "                         mean      diff      risk\n",
       "streamingmovies                                  \n",
       "No                   0.336804  0.071434  1.269188\n",
       "No internet service  0.074050 -0.191320  0.279044\n",
       "Yes                  0.299414  0.034044  1.128291"
      ]
     },
     "metadata": {},
     "output_type": "display_data"
    },
    {
     "data": {
      "text/html": [
       "<div>\n",
       "<style scoped>\n",
       "    .dataframe tbody tr th:only-of-type {\n",
       "        vertical-align: middle;\n",
       "    }\n",
       "\n",
       "    .dataframe tbody tr th {\n",
       "        vertical-align: top;\n",
       "    }\n",
       "\n",
       "    .dataframe thead th {\n",
       "        text-align: right;\n",
       "    }\n",
       "</style>\n",
       "<table border=\"1\" class=\"dataframe\">\n",
       "  <thead>\n",
       "    <tr style=\"text-align: right;\">\n",
       "      <th></th>\n",
       "      <th>mean</th>\n",
       "      <th>diff</th>\n",
       "      <th>risk</th>\n",
       "    </tr>\n",
       "    <tr>\n",
       "      <th>contract</th>\n",
       "      <th></th>\n",
       "      <th></th>\n",
       "      <th></th>\n",
       "    </tr>\n",
       "  </thead>\n",
       "  <tbody>\n",
       "    <tr>\n",
       "      <th>Month-to-month</th>\n",
       "      <td>0.427097</td>\n",
       "      <td>0.161727</td>\n",
       "      <td>1.609440</td>\n",
       "    </tr>\n",
       "    <tr>\n",
       "      <th>One year</th>\n",
       "      <td>0.112695</td>\n",
       "      <td>-0.152675</td>\n",
       "      <td>0.424672</td>\n",
       "    </tr>\n",
       "    <tr>\n",
       "      <th>Two year</th>\n",
       "      <td>0.028319</td>\n",
       "      <td>-0.237051</td>\n",
       "      <td>0.106714</td>\n",
       "    </tr>\n",
       "  </tbody>\n",
       "</table>\n",
       "</div>"
      ],
      "text/plain": [
       "                    mean      diff      risk\n",
       "contract                                    \n",
       "Month-to-month  0.427097  0.161727  1.609440\n",
       "One year        0.112695 -0.152675  0.424672\n",
       "Two year        0.028319 -0.237051  0.106714"
      ]
     },
     "metadata": {},
     "output_type": "display_data"
    },
    {
     "data": {
      "text/html": [
       "<div>\n",
       "<style scoped>\n",
       "    .dataframe tbody tr th:only-of-type {\n",
       "        vertical-align: middle;\n",
       "    }\n",
       "\n",
       "    .dataframe tbody tr th {\n",
       "        vertical-align: top;\n",
       "    }\n",
       "\n",
       "    .dataframe thead th {\n",
       "        text-align: right;\n",
       "    }\n",
       "</style>\n",
       "<table border=\"1\" class=\"dataframe\">\n",
       "  <thead>\n",
       "    <tr style=\"text-align: right;\">\n",
       "      <th></th>\n",
       "      <th>mean</th>\n",
       "      <th>diff</th>\n",
       "      <th>risk</th>\n",
       "    </tr>\n",
       "    <tr>\n",
       "      <th>paperlessbilling</th>\n",
       "      <th></th>\n",
       "      <th></th>\n",
       "      <th></th>\n",
       "    </tr>\n",
       "  </thead>\n",
       "  <tbody>\n",
       "    <tr>\n",
       "      <th>No</th>\n",
       "      <td>0.163301</td>\n",
       "      <td>-0.102069</td>\n",
       "      <td>0.615371</td>\n",
       "    </tr>\n",
       "    <tr>\n",
       "      <th>Yes</th>\n",
       "      <td>0.335651</td>\n",
       "      <td>0.070281</td>\n",
       "      <td>1.264842</td>\n",
       "    </tr>\n",
       "  </tbody>\n",
       "</table>\n",
       "</div>"
      ],
      "text/plain": [
       "                      mean      diff      risk\n",
       "paperlessbilling                              \n",
       "No                0.163301 -0.102069  0.615371\n",
       "Yes               0.335651  0.070281  1.264842"
      ]
     },
     "metadata": {},
     "output_type": "display_data"
    },
    {
     "data": {
      "text/html": [
       "<div>\n",
       "<style scoped>\n",
       "    .dataframe tbody tr th:only-of-type {\n",
       "        vertical-align: middle;\n",
       "    }\n",
       "\n",
       "    .dataframe tbody tr th {\n",
       "        vertical-align: top;\n",
       "    }\n",
       "\n",
       "    .dataframe thead th {\n",
       "        text-align: right;\n",
       "    }\n",
       "</style>\n",
       "<table border=\"1\" class=\"dataframe\">\n",
       "  <thead>\n",
       "    <tr style=\"text-align: right;\">\n",
       "      <th></th>\n",
       "      <th>mean</th>\n",
       "      <th>diff</th>\n",
       "      <th>risk</th>\n",
       "    </tr>\n",
       "    <tr>\n",
       "      <th>paymentmethod</th>\n",
       "      <th></th>\n",
       "      <th></th>\n",
       "      <th></th>\n",
       "    </tr>\n",
       "  </thead>\n",
       "  <tbody>\n",
       "    <tr>\n",
       "      <th>Bank transfer (automatic)</th>\n",
       "      <td>0.167098</td>\n",
       "      <td>-0.098271</td>\n",
       "      <td>0.629681</td>\n",
       "    </tr>\n",
       "    <tr>\n",
       "      <th>Credit card (automatic)</th>\n",
       "      <td>0.152431</td>\n",
       "      <td>-0.112939</td>\n",
       "      <td>0.574410</td>\n",
       "    </tr>\n",
       "    <tr>\n",
       "      <th>Electronic check</th>\n",
       "      <td>0.452854</td>\n",
       "      <td>0.187484</td>\n",
       "      <td>1.706502</td>\n",
       "    </tr>\n",
       "    <tr>\n",
       "      <th>Mailed check</th>\n",
       "      <td>0.191067</td>\n",
       "      <td>-0.074303</td>\n",
       "      <td>0.720003</td>\n",
       "    </tr>\n",
       "  </tbody>\n",
       "</table>\n",
       "</div>"
      ],
      "text/plain": [
       "                               mean      diff      risk\n",
       "paymentmethod                                          \n",
       "Bank transfer (automatic)  0.167098 -0.098271  0.629681\n",
       "Credit card (automatic)    0.152431 -0.112939  0.574410\n",
       "Electronic check           0.452854  0.187484  1.706502\n",
       "Mailed check               0.191067 -0.074303  0.720003"
      ]
     },
     "metadata": {},
     "output_type": "display_data"
    }
   ],
   "source": [
    "from IPython.display import display\n",
    "for  feature in categorical :\n",
    "    df_group = df.groupby(by=feature).churn.agg(['mean'])\n",
    "    df_group['diff'] = df_group['mean'] - global_mean\n",
    "    df_group['risk'] = df_group['mean'] / global_mean\n",
    "    \n",
    "    display(df_group)\n",
    "    "
   ]
  },
  {
   "cell_type": "code",
   "execution_count": 32,
   "id": "84f6fe81",
   "metadata": {
    "execution": {
     "iopub.execute_input": "2023-08-10T11:01:52.890508Z",
     "iopub.status.busy": "2023-08-10T11:01:52.889899Z",
     "iopub.status.idle": "2023-08-10T11:01:57.782965Z",
     "shell.execute_reply": "2023-08-10T11:01:57.781686Z"
    },
    "papermill": {
     "duration": 4.939362,
     "end_time": "2023-08-10T11:01:57.785869",
     "exception": false,
     "start_time": "2023-08-10T11:01:52.846507",
     "status": "completed"
    },
    "tags": []
   },
   "outputs": [
    {
     "data": {
      "image/png": "[encoded data removed]",
      "text/plain": [
       "<Figure size 640x480 with 1 Axes>"
      ]
     },
     "metadata": {},
     "output_type": "display_data"
    },
    {
     "data": {
      "image/png": "[encoded data removed]",
      "text/plain": [
       "<Figure size 640x480 with 1 Axes>"
      ]
     },
     "metadata": {},
     "output_type": "display_data"
    },
    {
     "data": {
      "image/png": "[encoded data removed]",
      "text/plain": [
       "<Figure size 640x480 with 1 Axes>"
      ]
     },
     "metadata": {},
     "output_type": "display_data"
    },
    {
     "data": {
      "image/png": "[encoded data removed]",
      "text/plain": [
       "<Figure size 640x480 with 1 Axes>"
      ]
     },
     "metadata": {},
     "output_type": "display_data"
    },
    {
     "data": {
      "image/png": "[encoded data removed]",
      "text/plain": [
       "<Figure size 640x480 with 1 Axes>"
      ]
     },
     "metadata": {},
     "output_type": "display_data"
    },
    {
     "data": {
      "image/png": "[encoded data removed]",
      "text/plain": [
       "<Figure size 640x480 with 1 Axes>"
      ]
     },
     "metadata": {},
     "output_type": "display_data"
    },
    {
     "data": {
      "image/png": "[encoded data removed]",
      "text/plain": [
       "<Figure size 640x480 with 1 Axes>"
      ]
     },
     "metadata": {},
     "output_type": "display_data"
    },
    {
     "data": {
      "image/png": "[encoded data removed]",
      "text/plain": [
       "<Figure size 640x480 with 1 Axes>"
      ]
     },
     "metadata": {},
     "output_type": "display_data"
    },
    {
     "data": {
      "image/png": "[encoded data removed]",
      "text/plain": [
       "<Figure size 640x480 with 1 Axes>"
      ]
     },
     "metadata": {},
     "output_type": "display_data"
    },
    {
     "data": {
      "image/png": "[encoded data removed]",
      "text/plain": [
       "<Figure size 640x480 with 1 Axes>"
      ]
     },
     "metadata": {},
     "output_type": "display_data"
    },
    {
     "data": {
      "image/png": "[encoded data removed]",
      "text/plain": [
       "<Figure size 640x480 with 1 Axes>"
      ]
     },
     "metadata": {},
     "output_type": "display_data"
    },
    {
     "data": {
      "image/png": "[encoded data removed]",
      "text/plain": [
       "<Figure size 640x480 with 1 Axes>"
      ]
     },
     "metadata": {},
     "output_type": "display_data"
    },
    {
     "data": {
      "image/png": "[encoded data removed]",
      "text/plain": [
       "<Figure size 640x480 with 1 Axes>"
      ]
     },
     "metadata": {},
     "output_type": "display_data"
    },
    {
     "data": {
      "image/png": "[encoded data removed]",
      "text/plain": [
       "<Figure size 640x480 with 1 Axes>"
      ]
     },
     "metadata": {},
     "output_type": "display_data"
    },
    {
     "data": {
      "image/png": "[encoded data removed]",
      "text/plain": [
       "<Figure size 640x480 with 1 Axes>"
      ]
     },
     "metadata": {},
     "output_type": "display_data"
    },
    {
     "data": {
      "image/png": "[encoded data removed]",
      "text/plain": [
       "<Figure size 640x480 with 1 Axes>"
      ]
     },
     "metadata": {},
     "output_type": "display_data"
    }
   ],
   "source": [
    "for feature in categorical :\n",
    "    _=sns.countplot(x= feature , hue = 'churn',data  =df)\n",
    "    plt.show()"
   ]
  },
  {
   "cell_type": "code",
   "execution_count": 33,
   "id": "a69c864d",
   "metadata": {
    "execution": {
     "iopub.execute_input": "2023-08-10T11:01:57.871782Z",
     "iopub.status.busy": "2023-08-10T11:01:57.871171Z",
     "iopub.status.idle": "2023-08-10T11:02:02.108746Z",
     "shell.execute_reply": "2023-08-10T11:02:02.106863Z"
    },
    "papermill": {
     "duration": 4.28479,
     "end_time": "2023-08-10T11:02:02.112636",
     "exception": false,
     "start_time": "2023-08-10T11:01:57.827846",
     "status": "completed"
    },
    "tags": []
   },
   "outputs": [
    {
     "data": {
      "image/png": "[encoded data removed]",
      "text/plain": [
       "<Figure size 640x480 with 1 Axes>"
      ]
     },
     "metadata": {},
     "output_type": "display_data"
    },
    {
     "data": {
      "image/png": "[encoded data removed]",
      "text/plain": [
       "<Figure size 640x480 with 1 Axes>"
      ]
     },
     "metadata": {},
     "output_type": "display_data"
    },
    {
     "data": {
      "image/png": "[encoded data removed]",
      "text/plain": [
       "<Figure size 640x480 with 1 Axes>"
      ]
     },
     "metadata": {},
     "output_type": "display_data"
    },
    {
     "data": {
      "image/png": "[encoded data removed]",
      "text/plain": [
       "<Figure size 640x480 with 1 Axes>"
      ]
     },
     "metadata": {},
     "output_type": "display_data"
    },
    {
     "data": {
      "image/png": "[encoded data removed]",
      "text/plain": [
       "<Figure size 640x480 with 1 Axes>"
      ]
     },
     "metadata": {},
     "output_type": "display_data"
    },
    {
     "data": {
      "image/png": "[encoded data removed]",
      "text/plain": [
       "<Figure size 640x480 with 1 Axes>"
      ]
     },
     "metadata": {},
     "output_type": "display_data"
    },
    {
     "data": {
      "image/png": "[encoded data removed]",
      "text/plain": [
       "<Figure size 640x480 with 1 Axes>"
      ]
     },
     "metadata": {},
     "output_type": "display_data"
    },
    {
     "data": {
      "image/png": "[encoded data removed]",
      "text/plain": [
       "<Figure size 640x480 with 1 Axes>"
      ]
     },
     "metadata": {},
     "output_type": "display_data"
    },
    {
     "data": {
      "image/png": "[encoded data removed]",
      "text/plain": [
       "<Figure size 640x480 with 1 Axes>"
      ]
     },
     "metadata": {},
     "output_type": "display_data"
    },
    {
     "data": {
      "image/png": "[encoded data removed]",
      "text/plain": [
       "<Figure size 640x480 with 1 Axes>"
      ]
     },
     "metadata": {},
     "output_type": "display_data"
    },
    {
     "data": {
      "image/png": "[encoded data removed]",
      "text/plain": [
       "<Figure size 640x480 with 1 Axes>"
      ]
     },
     "metadata": {},
     "output_type": "display_data"
    },
    {
     "data": {
      "image/png": "[encoded data removed]",
      "text/plain": [
       "<Figure size 640x480 with 1 Axes>"
      ]
     },
     "metadata": {},
     "output_type": "display_data"
    },
    {
     "data": {
      "image/png": "[encoded data removed]",
      "text/plain": [
       "<Figure size 640x480 with 1 Axes>"
      ]
     },
     "metadata": {},
     "output_type": "display_data"
    },
    {
     "data": {
      "image/png": "[encoded data removed]",
      "text/plain": [
       "<Figure size 640x480 with 1 Axes>"
      ]
     },
     "metadata": {},
     "output_type": "display_data"
    },
    {
     "data": {
      "image/png": "[encoded data removed]",
      "text/plain": [
       "<Figure size 640x480 with 1 Axes>"
      ]
     },
     "metadata": {},
     "output_type": "display_data"
    },
    {
     "data": {
      "image/png": "[encoded data removed]",
      "text/plain": [
       "<Figure size 640x480 with 1 Axes>"
      ]
     },
     "metadata": {},
     "output_type": "display_data"
    }
   ],
   "source": [
    "for feature in categorical:                                           \n",
    "    df_group = df.groupby(by=feature).churn.agg(['mean']).reset_index()\n",
    "    graph=sns.barplot(x= feature, y = 'mean', data=df_group, palette='Greens')\n",
    "    graph.axhline(global_mean, linewidth=3, color='b')\n",
    "    plt.text(0, global_mean - 0.03, \"global_mean\", color='black', weight='semibold')\n",
    "    plt.show()"
   ]
  },
  {
   "cell_type": "code",
   "execution_count": 34,
   "id": "647ada20",
   "metadata": {
    "execution": {
     "iopub.execute_input": "2023-08-10T11:02:02.215174Z",
     "iopub.status.busy": "2023-08-10T11:02:02.214718Z",
     "iopub.status.idle": "2023-08-10T11:02:02.565199Z",
     "shell.execute_reply": "2023-08-10T11:02:02.563485Z"
    },
    "papermill": {
     "duration": 0.402367,
     "end_time": "2023-08-10T11:02:02.568267",
     "exception": false,
     "start_time": "2023-08-10T11:02:02.165900",
     "status": "completed"
    },
    "tags": []
   },
   "outputs": [
    {
     "name": "stdout",
     "output_type": "stream",
     "text": [
      "Training Data Size:  (4507, 20)\n",
      "Validation Data Size:  (1127, 20)\n",
      "Testing Data Size:  (1409, 20)\n"
     ]
    }
   ],
   "source": [
    "from sklearn.model_selection import train_test_split\n",
    "\n",
    "df_full_train, df_test = train_test_split(df, test_size=0.2, random_state=1)\n",
    "df_train, df_valid = train_test_split(df_full_train, test_size=0.2, random_state=1)\n",
    "print(\"Training Data Size: \", df_train.shape)\n",
    "print(\"Validation Data Size: \", df_valid.shape)\n",
    "print(\"Testing Data Size: \", df_test.shape)"
   ]
  },
  {
   "cell_type": "code",
   "execution_count": 35,
   "id": "dcb06e76",
   "metadata": {
    "execution": {
     "iopub.execute_input": "2023-08-10T11:02:02.668155Z",
     "iopub.status.busy": "2023-08-10T11:02:02.667695Z",
     "iopub.status.idle": "2023-08-10T11:02:02.846858Z",
     "shell.execute_reply": "2023-08-10T11:02:02.845609Z"
    },
    "papermill": {
     "duration": 0.232132,
     "end_time": "2023-08-10T11:02:02.849566",
     "exception": false,
     "start_time": "2023-08-10T11:02:02.617434",
     "status": "completed"
    },
    "tags": []
   },
   "outputs": [
    {
     "data": {
      "text/html": [
       "<div>\n",
       "<style scoped>\n",
       "    .dataframe tbody tr th:only-of-type {\n",
       "        vertical-align: middle;\n",
       "    }\n",
       "\n",
       "    .dataframe tbody tr th {\n",
       "        vertical-align: top;\n",
       "    }\n",
       "\n",
       "    .dataframe thead th {\n",
       "        text-align: right;\n",
       "    }\n",
       "</style>\n",
       "<table border=\"1\" class=\"dataframe\">\n",
       "  <thead>\n",
       "    <tr style=\"text-align: right;\">\n",
       "      <th></th>\n",
       "      <th>MI</th>\n",
       "    </tr>\n",
       "  </thead>\n",
       "  <tbody>\n",
       "    <tr>\n",
       "      <th>contract</th>\n",
       "      <td>0.100378</td>\n",
       "    </tr>\n",
       "    <tr>\n",
       "      <th>onlinesecurity</th>\n",
       "      <td>0.062802</td>\n",
       "    </tr>\n",
       "    <tr>\n",
       "      <th>techsupport</th>\n",
       "      <td>0.059945</td>\n",
       "    </tr>\n",
       "    <tr>\n",
       "      <th>internetservice</th>\n",
       "      <td>0.053951</td>\n",
       "    </tr>\n",
       "    <tr>\n",
       "      <th>onlinebackup</th>\n",
       "      <td>0.044230</td>\n",
       "    </tr>\n",
       "  </tbody>\n",
       "</table>\n",
       "</div>"
      ],
      "text/plain": [
       "                       MI\n",
       "contract         0.100378\n",
       "onlinesecurity   0.062802\n",
       "techsupport      0.059945\n",
       "internetservice  0.053951\n",
       "onlinebackup     0.044230"
      ]
     },
     "metadata": {},
     "output_type": "display_data"
    },
    {
     "data": {
      "text/html": [
       "<div>\n",
       "<style scoped>\n",
       "    .dataframe tbody tr th:only-of-type {\n",
       "        vertical-align: middle;\n",
       "    }\n",
       "\n",
       "    .dataframe tbody tr th {\n",
       "        vertical-align: top;\n",
       "    }\n",
       "\n",
       "    .dataframe thead th {\n",
       "        text-align: right;\n",
       "    }\n",
       "</style>\n",
       "<table border=\"1\" class=\"dataframe\">\n",
       "  <thead>\n",
       "    <tr style=\"text-align: right;\">\n",
       "      <th></th>\n",
       "      <th>MI</th>\n",
       "    </tr>\n",
       "  </thead>\n",
       "  <tbody>\n",
       "    <tr>\n",
       "      <th>partner</th>\n",
       "      <td>0.009443</td>\n",
       "    </tr>\n",
       "    <tr>\n",
       "      <th>seniorcitizen</th>\n",
       "      <td>0.008396</td>\n",
       "    </tr>\n",
       "    <tr>\n",
       "      <th>multiplelines</th>\n",
       "      <td>0.000821</td>\n",
       "    </tr>\n",
       "    <tr>\n",
       "      <th>gender</th>\n",
       "      <td>0.000099</td>\n",
       "    </tr>\n",
       "    <tr>\n",
       "      <th>phoneservice</th>\n",
       "      <td>0.000098</td>\n",
       "    </tr>\n",
       "  </tbody>\n",
       "</table>\n",
       "</div>"
      ],
      "text/plain": [
       "                     MI\n",
       "partner        0.009443\n",
       "seniorcitizen  0.008396\n",
       "multiplelines  0.000821\n",
       "gender         0.000099\n",
       "phoneservice   0.000098"
      ]
     },
     "metadata": {},
     "output_type": "display_data"
    }
   ],
   "source": [
    "from sklearn.metrics import mutual_info_score\n",
    "\n",
    "def calculate_mi(series):\n",
    "    return mutual_info_score(series, df_train.churn)\n",
    "\n",
    "df_mi = df_train[categorical].apply(calculate_mi)\n",
    "df_mi = df_mi.sort_values(ascending=False).to_frame(name='MI')\n",
    "display(df_mi.head())\n",
    "display(df_mi.tail())"
   ]
  },
  {
   "cell_type": "code",
   "execution_count": 36,
   "id": "fefac6bd",
   "metadata": {
    "execution": {
     "iopub.execute_input": "2023-08-10T11:02:02.956728Z",
     "iopub.status.busy": "2023-08-10T11:02:02.955223Z",
     "iopub.status.idle": "2023-08-10T11:02:02.968795Z",
     "shell.execute_reply": "2023-08-10T11:02:02.967609Z"
    },
    "papermill": {
     "duration": 0.070185,
     "end_time": "2023-08-10T11:02:02.971441",
     "exception": false,
     "start_time": "2023-08-10T11:02:02.901256",
     "status": "completed"
    },
    "tags": []
   },
   "outputs": [
    {
     "data": {
      "text/plain": [
       "tenure           -0.352229\n",
       "monthlycharges    0.193356\n",
       "totalcharges     -0.199037\n",
       "dtype: float64"
      ]
     },
     "execution_count": 36,
     "metadata": {},
     "output_type": "execute_result"
    }
   ],
   "source": [
    "df[numerical].corrwith(df.churn)"
   ]
  },
  {
   "cell_type": "markdown",
   "id": "29fa45a0",
   "metadata": {
    "papermill": {
     "duration": 0.049215,
     "end_time": "2023-08-10T11:02:03.071645",
     "exception": false,
     "start_time": "2023-08-10T11:02:03.022430",
     "status": "completed"
    },
    "tags": []
   },
   "source": [
    "# Preprocessing"
   ]
  },
  {
   "cell_type": "code",
   "execution_count": 37,
   "id": "5f4a9498",
   "metadata": {
    "execution": {
     "iopub.execute_input": "2023-08-10T11:02:03.172442Z",
     "iopub.status.busy": "2023-08-10T11:02:03.172020Z",
     "iopub.status.idle": "2023-08-10T11:02:03.312176Z",
     "shell.execute_reply": "2023-08-10T11:02:03.310731Z"
    },
    "papermill": {
     "duration": 0.193096,
     "end_time": "2023-08-10T11:02:03.314933",
     "exception": false,
     "start_time": "2023-08-10T11:02:03.121837",
     "status": "completed"
    },
    "tags": []
   },
   "outputs": [
    {
     "data": {
      "text/html": [
       "<div>\n",
       "<style scoped>\n",
       "    .dataframe tbody tr th:only-of-type {\n",
       "        vertical-align: middle;\n",
       "    }\n",
       "\n",
       "    .dataframe tbody tr th {\n",
       "        vertical-align: top;\n",
       "    }\n",
       "\n",
       "    .dataframe thead th {\n",
       "        text-align: right;\n",
       "    }\n",
       "</style>\n",
       "<table border=\"1\" class=\"dataframe\">\n",
       "  <thead>\n",
       "    <tr style=\"text-align: right;\">\n",
       "      <th></th>\n",
       "      <th>gender_Male</th>\n",
       "      <th>seniorcitizen_1</th>\n",
       "      <th>partner_Yes</th>\n",
       "      <th>dependents_Yes</th>\n",
       "      <th>phoneservice_Yes</th>\n",
       "      <th>multiplelines_No phone service</th>\n",
       "      <th>multiplelines_Yes</th>\n",
       "      <th>internetservice_Fiber optic</th>\n",
       "      <th>internetservice_No</th>\n",
       "      <th>onlinesecurity_No internet service</th>\n",
       "      <th>...</th>\n",
       "      <th>contract_One year</th>\n",
       "      <th>contract_Two year</th>\n",
       "      <th>paperlessbilling_Yes</th>\n",
       "      <th>paymentmethod_Credit card (automatic)</th>\n",
       "      <th>paymentmethod_Electronic check</th>\n",
       "      <th>paymentmethod_Mailed check</th>\n",
       "      <th>tenure</th>\n",
       "      <th>monthlycharges</th>\n",
       "      <th>totalcharges</th>\n",
       "      <th>churn</th>\n",
       "    </tr>\n",
       "  </thead>\n",
       "  <tbody>\n",
       "    <tr>\n",
       "      <th>0</th>\n",
       "      <td>1.0</td>\n",
       "      <td>0.0</td>\n",
       "      <td>0.0</td>\n",
       "      <td>0.0</td>\n",
       "      <td>1.0</td>\n",
       "      <td>0.0</td>\n",
       "      <td>0.0</td>\n",
       "      <td>0.0</td>\n",
       "      <td>1.0</td>\n",
       "      <td>1.0</td>\n",
       "      <td>...</td>\n",
       "      <td>1.0</td>\n",
       "      <td>0.0</td>\n",
       "      <td>0.0</td>\n",
       "      <td>0.0</td>\n",
       "      <td>0.0</td>\n",
       "      <td>1.0</td>\n",
       "      <td>30.0</td>\n",
       "      <td>19.70</td>\n",
       "      <td>625.05</td>\n",
       "      <td>0.0</td>\n",
       "    </tr>\n",
       "    <tr>\n",
       "      <th>1</th>\n",
       "      <td>0.0</td>\n",
       "      <td>0.0</td>\n",
       "      <td>1.0</td>\n",
       "      <td>1.0</td>\n",
       "      <td>1.0</td>\n",
       "      <td>0.0</td>\n",
       "      <td>1.0</td>\n",
       "      <td>1.0</td>\n",
       "      <td>0.0</td>\n",
       "      <td>0.0</td>\n",
       "      <td>...</td>\n",
       "      <td>0.0</td>\n",
       "      <td>0.0</td>\n",
       "      <td>1.0</td>\n",
       "      <td>0.0</td>\n",
       "      <td>1.0</td>\n",
       "      <td>0.0</td>\n",
       "      <td>23.0</td>\n",
       "      <td>83.75</td>\n",
       "      <td>1849.95</td>\n",
       "      <td>0.0</td>\n",
       "    </tr>\n",
       "    <tr>\n",
       "      <th>2</th>\n",
       "      <td>0.0</td>\n",
       "      <td>1.0</td>\n",
       "      <td>1.0</td>\n",
       "      <td>1.0</td>\n",
       "      <td>1.0</td>\n",
       "      <td>0.0</td>\n",
       "      <td>1.0</td>\n",
       "      <td>1.0</td>\n",
       "      <td>0.0</td>\n",
       "      <td>0.0</td>\n",
       "      <td>...</td>\n",
       "      <td>0.0</td>\n",
       "      <td>0.0</td>\n",
       "      <td>1.0</td>\n",
       "      <td>0.0</td>\n",
       "      <td>1.0</td>\n",
       "      <td>0.0</td>\n",
       "      <td>14.0</td>\n",
       "      <td>95.80</td>\n",
       "      <td>1346.30</td>\n",
       "      <td>0.0</td>\n",
       "    </tr>\n",
       "    <tr>\n",
       "      <th>3</th>\n",
       "      <td>0.0</td>\n",
       "      <td>0.0</td>\n",
       "      <td>0.0</td>\n",
       "      <td>0.0</td>\n",
       "      <td>1.0</td>\n",
       "      <td>0.0</td>\n",
       "      <td>0.0</td>\n",
       "      <td>0.0</td>\n",
       "      <td>1.0</td>\n",
       "      <td>1.0</td>\n",
       "      <td>...</td>\n",
       "      <td>0.0</td>\n",
       "      <td>1.0</td>\n",
       "      <td>0.0</td>\n",
       "      <td>0.0</td>\n",
       "      <td>0.0</td>\n",
       "      <td>0.0</td>\n",
       "      <td>56.0</td>\n",
       "      <td>19.70</td>\n",
       "      <td>1051.90</td>\n",
       "      <td>0.0</td>\n",
       "    </tr>\n",
       "    <tr>\n",
       "      <th>4</th>\n",
       "      <td>0.0</td>\n",
       "      <td>0.0</td>\n",
       "      <td>0.0</td>\n",
       "      <td>0.0</td>\n",
       "      <td>1.0</td>\n",
       "      <td>0.0</td>\n",
       "      <td>1.0</td>\n",
       "      <td>1.0</td>\n",
       "      <td>0.0</td>\n",
       "      <td>0.0</td>\n",
       "      <td>...</td>\n",
       "      <td>0.0</td>\n",
       "      <td>1.0</td>\n",
       "      <td>0.0</td>\n",
       "      <td>1.0</td>\n",
       "      <td>0.0</td>\n",
       "      <td>0.0</td>\n",
       "      <td>63.0</td>\n",
       "      <td>98.00</td>\n",
       "      <td>6218.45</td>\n",
       "      <td>0.0</td>\n",
       "    </tr>\n",
       "    <tr>\n",
       "      <th>...</th>\n",
       "      <td>...</td>\n",
       "      <td>...</td>\n",
       "      <td>...</td>\n",
       "      <td>...</td>\n",
       "      <td>...</td>\n",
       "      <td>...</td>\n",
       "      <td>...</td>\n",
       "      <td>...</td>\n",
       "      <td>...</td>\n",
       "      <td>...</td>\n",
       "      <td>...</td>\n",
       "      <td>...</td>\n",
       "      <td>...</td>\n",
       "      <td>...</td>\n",
       "      <td>...</td>\n",
       "      <td>...</td>\n",
       "      <td>...</td>\n",
       "      <td>...</td>\n",
       "      <td>...</td>\n",
       "      <td>...</td>\n",
       "      <td>...</td>\n",
       "    </tr>\n",
       "    <tr>\n",
       "      <th>4502</th>\n",
       "      <td>1.0</td>\n",
       "      <td>1.0</td>\n",
       "      <td>1.0</td>\n",
       "      <td>1.0</td>\n",
       "      <td>1.0</td>\n",
       "      <td>0.0</td>\n",
       "      <td>1.0</td>\n",
       "      <td>0.0</td>\n",
       "      <td>0.0</td>\n",
       "      <td>0.0</td>\n",
       "      <td>...</td>\n",
       "      <td>1.0</td>\n",
       "      <td>0.0</td>\n",
       "      <td>1.0</td>\n",
       "      <td>0.0</td>\n",
       "      <td>1.0</td>\n",
       "      <td>0.0</td>\n",
       "      <td>52.0</td>\n",
       "      <td>80.85</td>\n",
       "      <td>4079.55</td>\n",
       "      <td>0.0</td>\n",
       "    </tr>\n",
       "    <tr>\n",
       "      <th>4503</th>\n",
       "      <td>1.0</td>\n",
       "      <td>0.0</td>\n",
       "      <td>0.0</td>\n",
       "      <td>0.0</td>\n",
       "      <td>0.0</td>\n",
       "      <td>1.0</td>\n",
       "      <td>0.0</td>\n",
       "      <td>0.0</td>\n",
       "      <td>0.0</td>\n",
       "      <td>0.0</td>\n",
       "      <td>...</td>\n",
       "      <td>0.0</td>\n",
       "      <td>0.0</td>\n",
       "      <td>0.0</td>\n",
       "      <td>0.0</td>\n",
       "      <td>0.0</td>\n",
       "      <td>1.0</td>\n",
       "      <td>18.0</td>\n",
       "      <td>25.15</td>\n",
       "      <td>476.80</td>\n",
       "      <td>0.0</td>\n",
       "    </tr>\n",
       "    <tr>\n",
       "      <th>4504</th>\n",
       "      <td>1.0</td>\n",
       "      <td>0.0</td>\n",
       "      <td>1.0</td>\n",
       "      <td>1.0</td>\n",
       "      <td>1.0</td>\n",
       "      <td>0.0</td>\n",
       "      <td>0.0</td>\n",
       "      <td>1.0</td>\n",
       "      <td>0.0</td>\n",
       "      <td>0.0</td>\n",
       "      <td>...</td>\n",
       "      <td>0.0</td>\n",
       "      <td>0.0</td>\n",
       "      <td>0.0</td>\n",
       "      <td>1.0</td>\n",
       "      <td>0.0</td>\n",
       "      <td>0.0</td>\n",
       "      <td>2.0</td>\n",
       "      <td>90.00</td>\n",
       "      <td>190.05</td>\n",
       "      <td>1.0</td>\n",
       "    </tr>\n",
       "    <tr>\n",
       "      <th>4505</th>\n",
       "      <td>0.0</td>\n",
       "      <td>0.0</td>\n",
       "      <td>1.0</td>\n",
       "      <td>1.0</td>\n",
       "      <td>1.0</td>\n",
       "      <td>0.0</td>\n",
       "      <td>1.0</td>\n",
       "      <td>0.0</td>\n",
       "      <td>1.0</td>\n",
       "      <td>1.0</td>\n",
       "      <td>...</td>\n",
       "      <td>0.0</td>\n",
       "      <td>1.0</td>\n",
       "      <td>0.0</td>\n",
       "      <td>0.0</td>\n",
       "      <td>1.0</td>\n",
       "      <td>0.0</td>\n",
       "      <td>27.0</td>\n",
       "      <td>24.50</td>\n",
       "      <td>761.95</td>\n",
       "      <td>0.0</td>\n",
       "    </tr>\n",
       "    <tr>\n",
       "      <th>4506</th>\n",
       "      <td>0.0</td>\n",
       "      <td>1.0</td>\n",
       "      <td>0.0</td>\n",
       "      <td>0.0</td>\n",
       "      <td>1.0</td>\n",
       "      <td>0.0</td>\n",
       "      <td>0.0</td>\n",
       "      <td>1.0</td>\n",
       "      <td>0.0</td>\n",
       "      <td>0.0</td>\n",
       "      <td>...</td>\n",
       "      <td>0.0</td>\n",
       "      <td>0.0</td>\n",
       "      <td>1.0</td>\n",
       "      <td>0.0</td>\n",
       "      <td>1.0</td>\n",
       "      <td>0.0</td>\n",
       "      <td>9.0</td>\n",
       "      <td>80.85</td>\n",
       "      <td>751.65</td>\n",
       "      <td>1.0</td>\n",
       "    </tr>\n",
       "  </tbody>\n",
       "</table>\n",
       "<p>4507 rows × 31 columns</p>\n",
       "</div>"
      ],
      "text/plain": [
       "      gender_Male  seniorcitizen_1  partner_Yes  dependents_Yes  \\\n",
       "0             1.0              0.0          0.0             0.0   \n",
       "1             0.0              0.0          1.0             1.0   \n",
       "2             0.0              1.0          1.0             1.0   \n",
       "3             0.0              0.0          0.0             0.0   \n",
       "4             0.0              0.0          0.0             0.0   \n",
       "...           ...              ...          ...             ...   \n",
       "4502          1.0              1.0          1.0             1.0   \n",
       "4503          1.0              0.0          0.0             0.0   \n",
       "4504          1.0              0.0          1.0             1.0   \n",
       "4505          0.0              0.0          1.0             1.0   \n",
       "4506          0.0              1.0          0.0             0.0   \n",
       "\n",
       "      phoneservice_Yes  multiplelines_No phone service  multiplelines_Yes  \\\n",
       "0                  1.0                             0.0                0.0   \n",
       "1                  1.0                             0.0                1.0   \n",
       "2                  1.0                             0.0                1.0   \n",
       "3                  1.0                             0.0                0.0   \n",
       "4                  1.0                             0.0                1.0   \n",
       "...                ...                             ...                ...   \n",
       "4502               1.0                             0.0                1.0   \n",
       "4503               0.0                             1.0                0.0   \n",
       "4504               1.0                             0.0                0.0   \n",
       "4505               1.0                             0.0                1.0   \n",
       "4506               1.0                             0.0                0.0   \n",
       "\n",
       "      internetservice_Fiber optic  internetservice_No  \\\n",
       "0                             0.0                 1.0   \n",
       "1                             1.0                 0.0   \n",
       "2                             1.0                 0.0   \n",
       "3                             0.0                 1.0   \n",
       "4                             1.0                 0.0   \n",
       "...                           ...                 ...   \n",
       "4502                          0.0                 0.0   \n",
       "4503                          0.0                 0.0   \n",
       "4504                          1.0                 0.0   \n",
       "4505                          0.0                 1.0   \n",
       "4506                          1.0                 0.0   \n",
       "\n",
       "      onlinesecurity_No internet service  ...  contract_One year  \\\n",
       "0                                    1.0  ...                1.0   \n",
       "1                                    0.0  ...                0.0   \n",
       "2                                    0.0  ...                0.0   \n",
       "3                                    1.0  ...                0.0   \n",
       "4                                    0.0  ...                0.0   \n",
       "...                                  ...  ...                ...   \n",
       "4502                                 0.0  ...                1.0   \n",
       "4503                                 0.0  ...                0.0   \n",
       "4504                                 0.0  ...                0.0   \n",
       "4505                                 1.0  ...                0.0   \n",
       "4506                                 0.0  ...                0.0   \n",
       "\n",
       "      contract_Two year  paperlessbilling_Yes  \\\n",
       "0                   0.0                   0.0   \n",
       "1                   0.0                   1.0   \n",
       "2                   0.0                   1.0   \n",
       "3                   1.0                   0.0   \n",
       "4                   1.0                   0.0   \n",
       "...                 ...                   ...   \n",
       "4502                0.0                   1.0   \n",
       "4503                0.0                   0.0   \n",
       "4504                0.0                   0.0   \n",
       "4505                1.0                   0.0   \n",
       "4506                0.0                   1.0   \n",
       "\n",
       "      paymentmethod_Credit card (automatic)  paymentmethod_Electronic check  \\\n",
       "0                                       0.0                             0.0   \n",
       "1                                       0.0                             1.0   \n",
       "2                                       0.0                             1.0   \n",
       "3                                       0.0                             0.0   \n",
       "4                                       1.0                             0.0   \n",
       "...                                     ...                             ...   \n",
       "4502                                    0.0                             1.0   \n",
       "4503                                    0.0                             0.0   \n",
       "4504                                    1.0                             0.0   \n",
       "4505                                    0.0                             1.0   \n",
       "4506                                    0.0                             1.0   \n",
       "\n",
       "      paymentmethod_Mailed check  tenure  monthlycharges  totalcharges  churn  \n",
       "0                            1.0    30.0           19.70        625.05    0.0  \n",
       "1                            0.0    23.0           83.75       1849.95    0.0  \n",
       "2                            0.0    14.0           95.80       1346.30    0.0  \n",
       "3                            0.0    56.0           19.70       1051.90    0.0  \n",
       "4                            0.0    63.0           98.00       6218.45    0.0  \n",
       "...                          ...     ...             ...           ...    ...  \n",
       "4502                         0.0    52.0           80.85       4079.55    0.0  \n",
       "4503                         1.0    18.0           25.15        476.80    0.0  \n",
       "4504                         0.0     2.0           90.00        190.05    1.0  \n",
       "4505                         0.0    27.0           24.50        761.95    0.0  \n",
       "4506                         0.0     9.0           80.85        751.65    1.0  \n",
       "\n",
       "[4507 rows x 31 columns]"
      ]
     },
     "execution_count": 37,
     "metadata": {},
     "output_type": "execute_result"
    }
   ],
   "source": [
    "from sklearn.preprocessing import OneHotEncoder\n",
    "from sklearn.compose import make_column_transformer\n",
    "\n",
    "ohe = OneHotEncoder(drop='first')\n",
    "\n",
    "transformer = make_column_transformer((ohe, categorical), remainder='passthrough',\n",
    "                                      verbose_feature_names_out=False)\n",
    "\n",
    "train_enc = transformer.fit_transform(df_train)\n",
    "df_train_enc = pd.DataFrame(train_enc, columns=transformer.get_feature_names_out())\n",
    "df_train_enc"
   ]
  },
  {
   "cell_type": "code",
   "execution_count": 38,
   "id": "dc173b6d",
   "metadata": {
    "execution": {
     "iopub.execute_input": "2023-08-10T11:02:03.420743Z",
     "iopub.status.busy": "2023-08-10T11:02:03.420315Z",
     "iopub.status.idle": "2023-08-10T11:02:03.427090Z",
     "shell.execute_reply": "2023-08-10T11:02:03.425774Z"
    },
    "papermill": {
     "duration": 0.061797,
     "end_time": "2023-08-10T11:02:03.429968",
     "exception": false,
     "start_time": "2023-08-10T11:02:03.368171",
     "status": "completed"
    },
    "tags": []
   },
   "outputs": [],
   "source": [
    "X_train = df_train_enc.drop('churn', axis=1)\n",
    "y_train = df_train_enc['churn']"
   ]
  },
  {
   "cell_type": "code",
   "execution_count": 39,
   "id": "690a0fdd",
   "metadata": {
    "execution": {
     "iopub.execute_input": "2023-08-10T11:02:03.530718Z",
     "iopub.status.busy": "2023-08-10T11:02:03.530301Z",
     "iopub.status.idle": "2023-08-10T11:02:03.577725Z",
     "shell.execute_reply": "2023-08-10T11:02:03.576494Z"
    },
    "papermill": {
     "duration": 0.101348,
     "end_time": "2023-08-10T11:02:03.580830",
     "exception": false,
     "start_time": "2023-08-10T11:02:03.479482",
     "status": "completed"
    },
    "tags": []
   },
   "outputs": [],
   "source": [
    "valid_enc = transformer.transform(df_valid)\n",
    "df_valid_enc = pd.DataFrame(valid_enc, columns=transformer.get_feature_names_out())\n",
    "X_valid = df_valid_enc.drop('churn', axis=1)\n",
    "y_valid = df_valid_enc['churn']\n",
    "\n",
    "test_enc = transformer.transform(df_test)\n",
    "df_test_enc = pd.DataFrame(test_enc, columns=transformer.get_feature_names_out())\n",
    "X_test = df_test_enc.drop('churn', axis=1)\n",
    "y_test = df_test_enc['churn']"
   ]
  },
  {
   "cell_type": "markdown",
   "id": "a47bb5d8",
   "metadata": {
    "papermill": {
     "duration": 0.050283,
     "end_time": "2023-08-10T11:02:03.682469",
     "exception": false,
     "start_time": "2023-08-10T11:02:03.632186",
     "status": "completed"
    },
    "tags": []
   },
   "source": [
    "# Scaling Data "
   ]
  },
  {
   "cell_type": "code",
   "execution_count": 40,
   "id": "8b14c8c2",
   "metadata": {
    "execution": {
     "iopub.execute_input": "2023-08-10T11:02:03.790070Z",
     "iopub.status.busy": "2023-08-10T11:02:03.789664Z",
     "iopub.status.idle": "2023-08-10T11:02:03.817617Z",
     "shell.execute_reply": "2023-08-10T11:02:03.816124Z"
    },
    "papermill": {
     "duration": 0.084632,
     "end_time": "2023-08-10T11:02:03.821207",
     "exception": false,
     "start_time": "2023-08-10T11:02:03.736575",
     "status": "completed"
    },
    "tags": []
   },
   "outputs": [
    {
     "data": {
      "text/html": [
       "<div>\n",
       "<style scoped>\n",
       "    .dataframe tbody tr th:only-of-type {\n",
       "        vertical-align: middle;\n",
       "    }\n",
       "\n",
       "    .dataframe tbody tr th {\n",
       "        vertical-align: top;\n",
       "    }\n",
       "\n",
       "    .dataframe thead th {\n",
       "        text-align: right;\n",
       "    }\n",
       "</style>\n",
       "<table border=\"1\" class=\"dataframe\">\n",
       "  <thead>\n",
       "    <tr style=\"text-align: right;\">\n",
       "      <th></th>\n",
       "      <th>tenure</th>\n",
       "      <th>monthlycharges</th>\n",
       "      <th>totalcharges</th>\n",
       "    </tr>\n",
       "  </thead>\n",
       "  <tbody>\n",
       "    <tr>\n",
       "      <th>count</th>\n",
       "      <td>4507.000000</td>\n",
       "      <td>4507.000000</td>\n",
       "      <td>4507.000000</td>\n",
       "    </tr>\n",
       "    <tr>\n",
       "      <th>mean</th>\n",
       "      <td>32.001553</td>\n",
       "      <td>64.312536</td>\n",
       "      <td>2239.464489</td>\n",
       "    </tr>\n",
       "    <tr>\n",
       "      <th>std</th>\n",
       "      <td>24.558539</td>\n",
       "      <td>30.089423</td>\n",
       "      <td>2247.288739</td>\n",
       "    </tr>\n",
       "    <tr>\n",
       "      <th>min</th>\n",
       "      <td>0.000000</td>\n",
       "      <td>18.250000</td>\n",
       "      <td>18.800000</td>\n",
       "    </tr>\n",
       "    <tr>\n",
       "      <th>25%</th>\n",
       "      <td>8.000000</td>\n",
       "      <td>34.700000</td>\n",
       "      <td>386.850000</td>\n",
       "    </tr>\n",
       "    <tr>\n",
       "      <th>50%</th>\n",
       "      <td>28.000000</td>\n",
       "      <td>70.150000</td>\n",
       "      <td>1363.450000</td>\n",
       "    </tr>\n",
       "    <tr>\n",
       "      <th>75%</th>\n",
       "      <td>55.000000</td>\n",
       "      <td>89.575000</td>\n",
       "      <td>3708.000000</td>\n",
       "    </tr>\n",
       "    <tr>\n",
       "      <th>max</th>\n",
       "      <td>72.000000</td>\n",
       "      <td>118.350000</td>\n",
       "      <td>8684.800000</td>\n",
       "    </tr>\n",
       "  </tbody>\n",
       "</table>\n",
       "</div>"
      ],
      "text/plain": [
       "            tenure  monthlycharges  totalcharges\n",
       "count  4507.000000     4507.000000   4507.000000\n",
       "mean     32.001553       64.312536   2239.464489\n",
       "std      24.558539       30.089423   2247.288739\n",
       "min       0.000000       18.250000     18.800000\n",
       "25%       8.000000       34.700000    386.850000\n",
       "50%      28.000000       70.150000   1363.450000\n",
       "75%      55.000000       89.575000   3708.000000\n",
       "max      72.000000      118.350000   8684.800000"
      ]
     },
     "execution_count": 40,
     "metadata": {},
     "output_type": "execute_result"
    }
   ],
   "source": [
    "df_train[numerical].describe()"
   ]
  },
  {
   "cell_type": "code",
   "execution_count": 41,
   "id": "f65cadd3",
   "metadata": {
    "execution": {
     "iopub.execute_input": "2023-08-10T11:02:03.925275Z",
     "iopub.status.busy": "2023-08-10T11:02:03.924835Z",
     "iopub.status.idle": "2023-08-10T11:02:03.940429Z",
     "shell.execute_reply": "2023-08-10T11:02:03.939209Z"
    },
    "papermill": {
     "duration": 0.071591,
     "end_time": "2023-08-10T11:02:03.942859",
     "exception": false,
     "start_time": "2023-08-10T11:02:03.871268",
     "status": "completed"
    },
    "tags": []
   },
   "outputs": [
    {
     "data": {
      "text/plain": [
       "array([[-0.08151035, -1.48282956, -0.71846292],\n",
       "       [-0.36657522,  0.64606159, -0.17334564],\n",
       "       [-0.7330872 ,  1.04657898, -0.39748501],\n",
       "       ...,\n",
       "       [-1.22176983,  0.85379883, -0.91205098],\n",
       "       [-0.20368101, -1.32328737, -0.65753831],\n",
       "       [-0.93670496,  0.54967152, -0.66212211]])"
      ]
     },
     "execution_count": 41,
     "metadata": {},
     "output_type": "execute_result"
    }
   ],
   "source": [
    "from sklearn.preprocessing import StandardScaler\n",
    "scaler = StandardScaler()\n",
    "\n",
    "scaler.fit_transform(df_train[numerical])\n"
   ]
  },
  {
   "cell_type": "code",
   "execution_count": 42,
   "id": "734ef98c",
   "metadata": {
    "execution": {
     "iopub.execute_input": "2023-08-10T11:02:04.045153Z",
     "iopub.status.busy": "2023-08-10T11:02:04.044734Z",
     "iopub.status.idle": "2023-08-10T11:02:04.053679Z",
     "shell.execute_reply": "2023-08-10T11:02:04.052065Z"
    },
    "papermill": {
     "duration": 0.064753,
     "end_time": "2023-08-10T11:02:04.056310",
     "exception": false,
     "start_time": "2023-08-10T11:02:03.991557",
     "status": "completed"
    },
    "tags": []
   },
   "outputs": [],
   "source": [
    "def preprocess(df_train, df_valid, df_test, num, cat):\n",
    "    # Define transformers\n",
    "    ohe = OneHotEncoder(drop='first')\n",
    "    scaler = StandardScaler()\n",
    "\n",
    "    transformer = make_column_transformer((scaler, num),\n",
    "                                           (ohe, cat),\n",
    "                                          remainder='passthrough',verbose_feature_names_out=False)\n",
    "    # Fitting & Transformation\n",
    "    X_train = transformer.fit_transform(df_train[cat+num])\n",
    "    X_valid = transformer.transform(df_valid[cat+num])\n",
    "    X_test = transformer.transform(df_test[cat+num])\n",
    "    columns=transformer.get_feature_names_out()\n",
    "   \n",
    "    return X_train , X_valid, X_test, columns"
   ]
  },
  {
   "cell_type": "code",
   "execution_count": 43,
   "id": "9debd499",
   "metadata": {
    "execution": {
     "iopub.execute_input": "2023-08-10T11:02:04.156776Z",
     "iopub.status.busy": "2023-08-10T11:02:04.156349Z",
     "iopub.status.idle": "2023-08-10T11:02:04.267489Z",
     "shell.execute_reply": "2023-08-10T11:02:04.266238Z"
    },
    "papermill": {
     "duration": 0.165079,
     "end_time": "2023-08-10T11:02:04.270326",
     "exception": false,
     "start_time": "2023-08-10T11:02:04.105247",
     "status": "completed"
    },
    "tags": []
   },
   "outputs": [
    {
     "data": {
      "text/plain": [
       "array([[-0.08151035, -1.48282956, -0.71846292, ...,  0.        ,\n",
       "         0.        ,  1.        ],\n",
       "       [-0.36657522,  0.64606159, -0.17334564, ...,  0.        ,\n",
       "         1.        ,  0.        ],\n",
       "       [-0.7330872 ,  1.04657898, -0.39748501, ...,  0.        ,\n",
       "         1.        ,  0.        ],\n",
       "       ...,\n",
       "       [-1.22176983,  0.85379883, -0.91205098, ...,  1.        ,\n",
       "         0.        ,  0.        ],\n",
       "       [-0.20368101, -1.32328737, -0.65753831, ...,  0.        ,\n",
       "         1.        ,  0.        ],\n",
       "       [-0.93670496,  0.54967152, -0.66212211, ...,  0.        ,\n",
       "         1.        ,  0.        ]])"
      ]
     },
     "execution_count": 43,
     "metadata": {},
     "output_type": "execute_result"
    }
   ],
   "source": [
    "X_train , X_valid, X_test, columns = preprocess(df_train, df_valid, df_test, numerical, categorical)\n",
    "X_train"
   ]
  },
  {
   "cell_type": "markdown",
   "id": "09cc6251",
   "metadata": {
    "papermill": {
     "duration": 0.051243,
     "end_time": "2023-08-10T11:02:04.372707",
     "exception": false,
     "start_time": "2023-08-10T11:02:04.321464",
     "status": "completed"
    },
    "tags": []
   },
   "source": [
    "# Modelling"
   ]
  },
  {
   "cell_type": "code",
   "execution_count": 44,
   "id": "717c458e",
   "metadata": {
    "execution": {
     "iopub.execute_input": "2023-08-10T11:02:04.474213Z",
     "iopub.status.busy": "2023-08-10T11:02:04.473817Z",
     "iopub.status.idle": "2023-08-10T11:02:04.646376Z",
     "shell.execute_reply": "2023-08-10T11:02:04.644949Z"
    },
    "papermill": {
     "duration": 0.227746,
     "end_time": "2023-08-10T11:02:04.649199",
     "exception": false,
     "start_time": "2023-08-10T11:02:04.421453",
     "status": "completed"
    },
    "tags": []
   },
   "outputs": [
    {
     "data": {
      "text/html": [
       "<style>#sk-container-id-1 {color: black;background-color: white;}#sk-container-id-1 pre{padding: 0;}#sk-container-id-1 div.sk-toggleable {background-color: white;}#sk-container-id-1 label.sk-toggleable__label {cursor: pointer;display: block;width: 100%;margin-bottom: 0;padding: 0.3em;box-sizing: border-box;text-align: center;}#sk-container-id-1 label.sk-toggleable__label-arrow:before {content: \"▸\";float: left;margin-right: 0.25em;color: #696969;}#sk-container-id-1 label.sk-toggleable__label-arrow:hover:before {color: black;}#sk-container-id-1 div.sk-estimator:hover label.sk-toggleable__label-arrow:before {color: black;}#sk-container-id-1 div.sk-toggleable__content {max-height: 0;max-width: 0;overflow: hidden;text-align: left;background-color: #f0f8ff;}#sk-container-id-1 div.sk-toggleable__content pre {margin: 0.2em;color: black;border-radius: 0.25em;background-color: #f0f8ff;}#sk-container-id-1 input.sk-toggleable__control:checked~div.sk-toggleable__content {max-height: 200px;max-width: 100%;overflow: auto;}#sk-container-id-1 input.sk-toggleable__control:checked~label.sk-toggleable__label-arrow:before {content: \"▾\";}#sk-container-id-1 div.sk-estimator input.sk-toggleable__control:checked~label.sk-toggleable__label {background-color: #d4ebff;}#sk-container-id-1 div.sk-label input.sk-toggleable__control:checked~label.sk-toggleable__label {background-color: #d4ebff;}#sk-container-id-1 input.sk-hidden--visually {border: 0;clip: rect(1px 1px 1px 1px);clip: rect(1px, 1px, 1px, 1px);height: 1px;margin: -1px;overflow: hidden;padding: 0;position: absolute;width: 1px;}#sk-container-id-1 div.sk-estimator {font-family: monospace;background-color: #f0f8ff;border: 1px dotted black;border-radius: 0.25em;box-sizing: border-box;margin-bottom: 0.5em;}#sk-container-id-1 div.sk-estimator:hover {background-color: #d4ebff;}#sk-container-id-1 div.sk-parallel-item::after {content: \"\";width: 100%;border-bottom: 1px solid gray;flex-grow: 1;}#sk-container-id-1 div.sk-label:hover label.sk-toggleable__label {background-color: #d4ebff;}#sk-container-id-1 div.sk-serial::before {content: \"\";position: absolute;border-left: 1px solid gray;box-sizing: border-box;top: 0;bottom: 0;left: 50%;z-index: 0;}#sk-container-id-1 div.sk-serial {display: flex;flex-direction: column;align-items: center;background-color: white;padding-right: 0.2em;padding-left: 0.2em;position: relative;}#sk-container-id-1 div.sk-item {position: relative;z-index: 1;}#sk-container-id-1 div.sk-parallel {display: flex;align-items: stretch;justify-content: center;background-color: white;position: relative;}#sk-container-id-1 div.sk-item::before, #sk-container-id-1 div.sk-parallel-item::before {content: \"\";position: absolute;border-left: 1px solid gray;box-sizing: border-box;top: 0;bottom: 0;left: 50%;z-index: -1;}#sk-container-id-1 div.sk-parallel-item {display: flex;flex-direction: column;z-index: 1;position: relative;background-color: white;}#sk-container-id-1 div.sk-parallel-item:first-child::after {align-self: flex-end;width: 50%;}#sk-container-id-1 div.sk-parallel-item:last-child::after {align-self: flex-start;width: 50%;}#sk-container-id-1 div.sk-parallel-item:only-child::after {width: 0;}#sk-container-id-1 div.sk-dashed-wrapped {border: 1px dashed gray;margin: 0 0.4em 0.5em 0.4em;box-sizing: border-box;padding-bottom: 0.4em;background-color: white;}#sk-container-id-1 div.sk-label label {font-family: monospace;font-weight: bold;display: inline-block;line-height: 1.2em;}#sk-container-id-1 div.sk-label-container {text-align: center;}#sk-container-id-1 div.sk-container {/* jupyter's `normalize.less` sets `[hidden] { display: none; }` but bootstrap.min.css set `[hidden] { display: none !important; }` so we also need the `!important` here to be able to override the default hidden behavior on the sphinx rendered scikit-learn.org. See: https://github.com/scikit-learn/scikit-learn/issues/21755 */display: inline-block !important;position: relative;}#sk-container-id-1 div.sk-text-repr-fallback {display: none;}</style><div id=\"sk-container-id-1\" class=\"sk-top-container\"><div class=\"sk-text-repr-fallback\"><pre>LogisticRegression(random_state=1, solver=&#x27;liblinear&#x27;)</pre><b>In a Jupyter environment, please rerun this cell to show the HTML representation or trust the notebook. <br />On GitHub, the HTML representation is unable to render, please try loading this page with nbviewer.org.</b></div><div class=\"sk-container\" hidden><div class=\"sk-item\"><div class=\"sk-estimator sk-toggleable\"><input class=\"sk-toggleable__control sk-hidden--visually\" id=\"sk-estimator-id-1\" type=\"checkbox\" checked><label for=\"sk-estimator-id-1\" class=\"sk-toggleable__label sk-toggleable__label-arrow\">LogisticRegression</label><div class=\"sk-toggleable__content\"><pre>LogisticRegression(random_state=1, solver=&#x27;liblinear&#x27;)</pre></div></div></div></div></div>"
      ],
      "text/plain": [
       "LogisticRegression(random_state=1, solver='liblinear')"
      ]
     },
     "execution_count": 44,
     "metadata": {},
     "output_type": "execute_result"
    }
   ],
   "source": [
    "from sklearn.linear_model import LogisticRegression\n",
    "model_1 = LogisticRegression(solver='liblinear', random_state=1)\n",
    "model_1.fit(X_train, y_train)  # ====> Weights"
   ]
  },
  {
   "cell_type": "code",
   "execution_count": 45,
   "id": "98951612",
   "metadata": {
    "execution": {
     "iopub.execute_input": "2023-08-10T11:02:04.754164Z",
     "iopub.status.busy": "2023-08-10T11:02:04.753683Z",
     "iopub.status.idle": "2023-08-10T11:02:04.761473Z",
     "shell.execute_reply": "2023-08-10T11:02:04.760346Z"
    },
    "papermill": {
     "duration": 0.06224,
     "end_time": "2023-08-10T11:02:04.763898",
     "exception": false,
     "start_time": "2023-08-10T11:02:04.701658",
     "status": "completed"
    },
    "tags": []
   },
   "outputs": [
    {
     "data": {
      "text/plain": [
       "array(['tenure', 'monthlycharges', 'totalcharges', 'gender_Male',\n",
       "       'seniorcitizen_1', 'partner_Yes', 'dependents_Yes',\n",
       "       'phoneservice_Yes', 'multiplelines_No phone service',\n",
       "       'multiplelines_Yes', 'internetservice_Fiber optic',\n",
       "       'internetservice_No', 'onlinesecurity_No internet service',\n",
       "       'onlinesecurity_Yes', 'onlinebackup_No internet service',\n",
       "       'onlinebackup_Yes', 'deviceprotection_No internet service',\n",
       "       'deviceprotection_Yes', 'techsupport_No internet service',\n",
       "       'techsupport_Yes', 'streamingtv_No internet service',\n",
       "       'streamingtv_Yes', 'streamingmovies_No internet service',\n",
       "       'streamingmovies_Yes', 'contract_One year', 'contract_Two year',\n",
       "       'paperlessbilling_Yes', 'paymentmethod_Credit card (automatic)',\n",
       "       'paymentmethod_Electronic check', 'paymentmethod_Mailed check'],\n",
       "      dtype=object)"
      ]
     },
     "execution_count": 45,
     "metadata": {},
     "output_type": "execute_result"
    }
   ],
   "source": [
    "columns"
   ]
  },
  {
   "cell_type": "code",
   "execution_count": 46,
   "id": "48c8f507",
   "metadata": {
    "execution": {
     "iopub.execute_input": "2023-08-10T11:02:04.867875Z",
     "iopub.status.busy": "2023-08-10T11:02:04.867397Z",
     "iopub.status.idle": "2023-08-10T11:02:04.875210Z",
     "shell.execute_reply": "2023-08-10T11:02:04.874013Z"
    },
    "papermill": {
     "duration": 0.063194,
     "end_time": "2023-08-10T11:02:04.877813",
     "exception": false,
     "start_time": "2023-08-10T11:02:04.814619",
     "status": "completed"
    },
    "tags": []
   },
   "outputs": [
    {
     "data": {
      "text/plain": [
       "30"
      ]
     },
     "execution_count": 46,
     "metadata": {},
     "output_type": "execute_result"
    }
   ],
   "source": [
    "len(columns)"
   ]
  },
  {
   "cell_type": "code",
   "execution_count": 47,
   "id": "8c485a01",
   "metadata": {
    "execution": {
     "iopub.execute_input": "2023-08-10T11:02:04.987488Z",
     "iopub.status.busy": "2023-08-10T11:02:04.987003Z",
     "iopub.status.idle": "2023-08-10T11:02:04.996784Z",
     "shell.execute_reply": "2023-08-10T11:02:04.995007Z"
    },
    "papermill": {
     "duration": 0.067982,
     "end_time": "2023-08-10T11:02:04.999443",
     "exception": false,
     "start_time": "2023-08-10T11:02:04.931461",
     "status": "completed"
    },
    "tags": []
   },
   "outputs": [
    {
     "data": {
      "text/plain": [
       "array([-1.52864834,  0.01641854,  0.76236861, -0.02288414,  0.16696821,\n",
       "        0.07964107, -0.07104245, -0.78346209, -0.11831205,  0.240866  ,\n",
       "        0.74857365, -0.11326995, -0.11326995, -0.44411543, -0.11326995,\n",
       "       -0.10953347, -0.11326995, -0.10860134, -0.11326995, -0.38874416,\n",
       "       -0.11326995,  0.13026663, -0.11326995,  0.20738962, -0.67923343,\n",
       "       -1.40358845,  0.34322236,  0.05214321,  0.20339007,  0.03399693])"
      ]
     },
     "execution_count": 47,
     "metadata": {},
     "output_type": "execute_result"
    }
   ],
   "source": [
    "model_1.coef_[0]"
   ]
  },
  {
   "cell_type": "code",
   "execution_count": 48,
   "id": "42f21651",
   "metadata": {
    "execution": {
     "iopub.execute_input": "2023-08-10T11:02:05.112379Z",
     "iopub.status.busy": "2023-08-10T11:02:05.111240Z",
     "iopub.status.idle": "2023-08-10T11:02:05.120832Z",
     "shell.execute_reply": "2023-08-10T11:02:05.119452Z"
    },
    "papermill": {
     "duration": 0.069665,
     "end_time": "2023-08-10T11:02:05.123698",
     "exception": false,
     "start_time": "2023-08-10T11:02:05.054033",
     "status": "completed"
    },
    "tags": []
   },
   "outputs": [
    {
     "data": {
      "text/plain": [
       "30"
      ]
     },
     "execution_count": 48,
     "metadata": {},
     "output_type": "execute_result"
    }
   ],
   "source": [
    "len(model_1.coef_[0])"
   ]
  },
  {
   "cell_type": "code",
   "execution_count": 49,
   "id": "b9b3715e",
   "metadata": {
    "execution": {
     "iopub.execute_input": "2023-08-10T11:02:05.232738Z",
     "iopub.status.busy": "2023-08-10T11:02:05.232297Z",
     "iopub.status.idle": "2023-08-10T11:02:05.247130Z",
     "shell.execute_reply": "2023-08-10T11:02:05.245371Z"
    },
    "papermill": {
     "duration": 0.073037,
     "end_time": "2023-08-10T11:02:05.251569",
     "exception": false,
     "start_time": "2023-08-10T11:02:05.178532",
     "status": "completed"
    },
    "tags": []
   },
   "outputs": [
    {
     "data": {
      "text/plain": [
       "array([0., 0., 0., ..., 0., 0., 1.])"
      ]
     },
     "execution_count": 49,
     "metadata": {},
     "output_type": "execute_result"
    }
   ],
   "source": [
    "y_pred = model_1.predict(X_test)\n",
    "y_pred"
   ]
  },
  {
   "cell_type": "code",
   "execution_count": 50,
   "id": "7e391a27",
   "metadata": {
    "execution": {
     "iopub.execute_input": "2023-08-10T11:02:05.419911Z",
     "iopub.status.busy": "2023-08-10T11:02:05.419494Z",
     "iopub.status.idle": "2023-08-10T11:02:05.429074Z",
     "shell.execute_reply": "2023-08-10T11:02:05.428012Z"
    },
    "papermill": {
     "duration": 0.066965,
     "end_time": "2023-08-10T11:02:05.431785",
     "exception": false,
     "start_time": "2023-08-10T11:02:05.364820",
     "status": "completed"
    },
    "tags": []
   },
   "outputs": [
    {
     "data": {
      "text/plain": [
       "0        True\n",
       "1        True\n",
       "2        True\n",
       "3       False\n",
       "4        True\n",
       "        ...  \n",
       "1404     True\n",
       "1405     True\n",
       "1406     True\n",
       "1407     True\n",
       "1408     True\n",
       "Name: churn, Length: 1409, dtype: bool"
      ]
     },
     "execution_count": 50,
     "metadata": {},
     "output_type": "execute_result"
    }
   ],
   "source": [
    "y_pred == y_test"
   ]
  },
  {
   "cell_type": "code",
   "execution_count": 51,
   "id": "01311622",
   "metadata": {
    "execution": {
     "iopub.execute_input": "2023-08-10T11:02:05.541898Z",
     "iopub.status.busy": "2023-08-10T11:02:05.541039Z",
     "iopub.status.idle": "2023-08-10T11:02:05.548357Z",
     "shell.execute_reply": "2023-08-10T11:02:05.547388Z"
    },
    "papermill": {
     "duration": 0.065972,
     "end_time": "2023-08-10T11:02:05.550788",
     "exception": false,
     "start_time": "2023-08-10T11:02:05.484816",
     "status": "completed"
    },
    "tags": []
   },
   "outputs": [
    {
     "data": {
      "text/plain": [
       "0.808374733853797"
      ]
     },
     "execution_count": 51,
     "metadata": {},
     "output_type": "execute_result"
    }
   ],
   "source": [
    "(y_pred == y_test).mean()"
   ]
  },
  {
   "cell_type": "code",
   "execution_count": 52,
   "id": "b48c1cff",
   "metadata": {
    "execution": {
     "iopub.execute_input": "2023-08-10T11:02:05.662582Z",
     "iopub.status.busy": "2023-08-10T11:02:05.662106Z",
     "iopub.status.idle": "2023-08-10T11:02:05.682978Z",
     "shell.execute_reply": "2023-08-10T11:02:05.680528Z"
    },
    "papermill": {
     "duration": 0.083321,
     "end_time": "2023-08-10T11:02:05.688063",
     "exception": false,
     "start_time": "2023-08-10T11:02:05.604742",
     "status": "completed"
    },
    "tags": []
   },
   "outputs": [
    {
     "name": "stdout",
     "output_type": "stream",
     "text": [
      "LogisticRegression Training Accuracy:  0.8\n",
      "LogisticRegression Validation Accuracy:  0.8\n",
      "LogisticRegression Testing Accuracy:  0.81\n"
     ]
    }
   ],
   "source": [
    "print('LogisticRegression Training Accuracy: ', round(model_1.score(X_train, y_train), 2))\n",
    "print('LogisticRegression Validation Accuracy: ', round(model_1.score(X_valid, y_valid), 2))\n",
    "print('LogisticRegression Testing Accuracy: ', round(model_1.score(X_test, y_test), 2))"
   ]
  },
  {
   "cell_type": "markdown",
   "id": "518ce7f3",
   "metadata": {
    "papermill": {
     "duration": 0.056282,
     "end_time": "2023-08-10T11:02:05.861026",
     "exception": false,
     "start_time": "2023-08-10T11:02:05.804744",
     "status": "completed"
    },
    "tags": []
   },
   "source": [
    "# Repeat Training and Evaluation for Most Important Features"
   ]
  },
  {
   "cell_type": "code",
   "execution_count": 53,
   "id": "b5abbc7d",
   "metadata": {
    "execution": {
     "iopub.execute_input": "2023-08-10T11:02:05.977166Z",
     "iopub.status.busy": "2023-08-10T11:02:05.976717Z",
     "iopub.status.idle": "2023-08-10T11:02:05.984972Z",
     "shell.execute_reply": "2023-08-10T11:02:05.983893Z"
    },
    "papermill": {
     "duration": 0.067243,
     "end_time": "2023-08-10T11:02:05.987382",
     "exception": false,
     "start_time": "2023-08-10T11:02:05.920139",
     "status": "completed"
    },
    "tags": []
   },
   "outputs": [
    {
     "data": {
      "text/plain": [
       "['contract', 'onlinesecurity']"
      ]
     },
     "execution_count": 53,
     "metadata": {},
     "output_type": "execute_result"
    }
   ],
   "source": [
    "#important_cat = df_mi.head(1).index.to_list()\n",
    "#important_cat = df_mi.head(2).index.to_list()\n",
    "#important_cat = df_mi.head(3).index.to_list()\n",
    "\n",
    "important_cat = df_mi.head(2).index.to_list()\n",
    "important_cat\n"
   ]
  },
  {
   "cell_type": "code",
   "execution_count": 54,
   "id": "c4d22437",
   "metadata": {
    "execution": {
     "iopub.execute_input": "2023-08-10T11:02:06.100935Z",
     "iopub.status.busy": "2023-08-10T11:02:06.099924Z",
     "iopub.status.idle": "2023-08-10T11:02:06.167243Z",
     "shell.execute_reply": "2023-08-10T11:02:06.165240Z"
    },
    "papermill": {
     "duration": 0.127075,
     "end_time": "2023-08-10T11:02:06.171779",
     "exception": false,
     "start_time": "2023-08-10T11:02:06.044704",
     "status": "completed"
    },
    "tags": []
   },
   "outputs": [
    {
     "name": "stdout",
     "output_type": "stream",
     "text": [
      "LogisticRegression Training Accuracy:  0.79\n",
      "LogisticRegression Validation Accuracy:  0.8\n",
      "LogisticRegression Testing Accuracy:  0.79\n"
     ]
    }
   ],
   "source": [
    "X_train, X_valid, X_test, columns = preprocess(df_train, df_valid, df_test, numerical, important_cat)\n",
    "\n",
    "model_2 = LogisticRegression(solver='liblinear', random_state=1)\n",
    "model_2.fit(X_train, y_train)\n",
    "print('LogisticRegression Training Accuracy: ', round(model_2.score(X_train, y_train), 2))\n",
    "print('LogisticRegression Validation Accuracy: ', round(model_2.score(X_valid, y_valid), 2))\n",
    "print('LogisticRegression Testing Accuracy: ', round(model_2.score(X_test, y_test), 2))"
   ]
  },
  {
   "cell_type": "markdown",
   "id": "12feb5be",
   "metadata": {
    "papermill": {
     "duration": 0.053363,
     "end_time": "2023-08-10T11:02:06.338947",
     "exception": false,
     "start_time": "2023-08-10T11:02:06.285584",
     "status": "completed"
    },
    "tags": []
   },
   "source": [
    "# Using Numerical Features Only"
   ]
  },
  {
   "cell_type": "code",
   "execution_count": 55,
   "id": "2e19793f",
   "metadata": {
    "execution": {
     "iopub.execute_input": "2023-08-10T11:02:06.454230Z",
     "iopub.status.busy": "2023-08-10T11:02:06.453797Z",
     "iopub.status.idle": "2023-08-10T11:02:06.506045Z",
     "shell.execute_reply": "2023-08-10T11:02:06.503612Z"
    },
    "papermill": {
     "duration": 0.11328,
     "end_time": "2023-08-10T11:02:06.511019",
     "exception": false,
     "start_time": "2023-08-10T11:02:06.397739",
     "status": "completed"
    },
    "tags": []
   },
   "outputs": [
    {
     "name": "stdout",
     "output_type": "stream",
     "text": [
      "LogisticRegression Training Accuracy:  0.78\n",
      "LogisticRegression Validation Accuracy:  0.79\n",
      "LogisticRegression Testing Accuracy:  0.8\n"
     ]
    }
   ],
   "source": [
    "X_train = df_train[numerical]\n",
    "X_valid = df_valid[numerical]\n",
    "X_test  = df_test[numerical]\n",
    "\n",
    "model_3 = LogisticRegression(solver='liblinear', random_state=1)\n",
    "model_3.fit(X_train, y_train)\n",
    "print('LogisticRegression Training Accuracy: ', round(model_3.score(X_train, y_train), 2))\n",
    "print('LogisticRegression Validation Accuracy: ', round(model_3.score(X_valid, y_valid), 2))\n",
    "print('LogisticRegression Testing Accuracy: ', round(model_3.score(X_test, y_test), 2))"
   ]
  },
  {
   "cell_type": "markdown",
   "id": "12556500",
   "metadata": {
    "papermill": {
     "duration": 0.053401,
     "end_time": "2023-08-10T11:02:06.668091",
     "exception": false,
     "start_time": "2023-08-10T11:02:06.614690",
     "status": "completed"
    },
    "tags": []
   },
   "source": [
    "# Model Saving"
   ]
  },
  {
   "cell_type": "code",
   "execution_count": 56,
   "id": "91327c5e",
   "metadata": {
    "execution": {
     "iopub.execute_input": "2023-08-10T11:02:06.779833Z",
     "iopub.status.busy": "2023-08-10T11:02:06.779378Z",
     "iopub.status.idle": "2023-08-10T11:02:06.785679Z",
     "shell.execute_reply": "2023-08-10T11:02:06.784732Z"
    },
    "papermill": {
     "duration": 0.067168,
     "end_time": "2023-08-10T11:02:06.788621",
     "exception": false,
     "start_time": "2023-08-10T11:02:06.721453",
     "status": "completed"
    },
    "tags": []
   },
   "outputs": [],
   "source": [
    "import pickle \n",
    "\n",
    "pickle.dump(model_2, open(\"log_reg.pkl\", 'wb'))"
   ]
  },
  {
   "cell_type": "markdown",
   "id": "59d0cadc",
   "metadata": {
    "papermill": {
     "duration": 0.05616,
     "end_time": "2023-08-10T11:02:06.896805",
     "exception": false,
     "start_time": "2023-08-10T11:02:06.840645",
     "status": "completed"
    },
    "tags": []
   },
   "source": [
    "# Model Loading"
   ]
  },
  {
   "cell_type": "code",
   "execution_count": 57,
   "id": "cb7f562b",
   "metadata": {
    "execution": {
     "iopub.execute_input": "2023-08-10T11:02:07.013055Z",
     "iopub.status.busy": "2023-08-10T11:02:07.011946Z",
     "iopub.status.idle": "2023-08-10T11:02:07.017895Z",
     "shell.execute_reply": "2023-08-10T11:02:07.016520Z"
    },
    "papermill": {
     "duration": 0.067255,
     "end_time": "2023-08-10T11:02:07.020880",
     "exception": false,
     "start_time": "2023-08-10T11:02:06.953625",
     "status": "completed"
    },
    "tags": []
   },
   "outputs": [],
   "source": [
    "loaded_model = pickle.load(open('log_reg.pkl', 'rb'))"
   ]
  },
  {
   "cell_type": "markdown",
   "id": "b75b9e1e",
   "metadata": {
    "papermill": {
     "duration": 0.055336,
     "end_time": "2023-08-10T11:02:07.128685",
     "exception": false,
     "start_time": "2023-08-10T11:02:07.073349",
     "status": "completed"
    },
    "tags": []
   },
   "source": [
    "# Model Usage"
   ]
  },
  {
   "cell_type": "code",
   "execution_count": 58,
   "id": "c7ec4b9c",
   "metadata": {
    "execution": {
     "iopub.execute_input": "2023-08-10T11:02:07.242818Z",
     "iopub.status.busy": "2023-08-10T11:02:07.242076Z",
     "iopub.status.idle": "2023-08-10T11:02:07.250716Z",
     "shell.execute_reply": "2023-08-10T11:02:07.249678Z"
    },
    "papermill": {
     "duration": 0.06744,
     "end_time": "2023-08-10T11:02:07.253234",
     "exception": false,
     "start_time": "2023-08-10T11:02:07.185794",
     "status": "completed"
    },
    "tags": []
   },
   "outputs": [
    {
     "data": {
      "text/plain": [
       "{'contract': 'Month-to-month',\n",
       " 'onlinesecurity': 'No',\n",
       " 'tenure': 32,\n",
       " 'monthlycharges': 93.95,\n",
       " 'totalcharges': 2861.45}"
      ]
     },
     "execution_count": 58,
     "metadata": {},
     "output_type": "execute_result"
    }
   ],
   "source": [
    "x = df_test.iloc[10][important_cat + numerical].to_dict()\n",
    "x"
   ]
  },
  {
   "cell_type": "code",
   "execution_count": 59,
   "id": "1f31f298",
   "metadata": {
    "execution": {
     "iopub.execute_input": "2023-08-10T11:02:07.363021Z",
     "iopub.status.busy": "2023-08-10T11:02:07.362207Z",
     "iopub.status.idle": "2023-08-10T11:02:07.378295Z",
     "shell.execute_reply": "2023-08-10T11:02:07.377274Z"
    },
    "papermill": {
     "duration": 0.073525,
     "end_time": "2023-08-10T11:02:07.380849",
     "exception": false,
     "start_time": "2023-08-10T11:02:07.307324",
     "status": "completed"
    },
    "tags": []
   },
   "outputs": [
    {
     "data": {
      "text/html": [
       "<div>\n",
       "<style scoped>\n",
       "    .dataframe tbody tr th:only-of-type {\n",
       "        vertical-align: middle;\n",
       "    }\n",
       "\n",
       "    .dataframe tbody tr th {\n",
       "        vertical-align: top;\n",
       "    }\n",
       "\n",
       "    .dataframe thead th {\n",
       "        text-align: right;\n",
       "    }\n",
       "</style>\n",
       "<table border=\"1\" class=\"dataframe\">\n",
       "  <thead>\n",
       "    <tr style=\"text-align: right;\">\n",
       "      <th></th>\n",
       "      <th>contract</th>\n",
       "      <th>onlinesecurity</th>\n",
       "      <th>tenure</th>\n",
       "      <th>monthlycharges</th>\n",
       "      <th>totalcharges</th>\n",
       "    </tr>\n",
       "  </thead>\n",
       "  <tbody>\n",
       "    <tr>\n",
       "      <th>0</th>\n",
       "      <td>Month-to-month</td>\n",
       "      <td>No</td>\n",
       "      <td>32</td>\n",
       "      <td>93.95</td>\n",
       "      <td>2861.45</td>\n",
       "    </tr>\n",
       "  </tbody>\n",
       "</table>\n",
       "</div>"
      ],
      "text/plain": [
       "         contract onlinesecurity  tenure  monthlycharges  totalcharges\n",
       "0  Month-to-month             No      32           93.95       2861.45"
      ]
     },
     "execution_count": 59,
     "metadata": {},
     "output_type": "execute_result"
    }
   ],
   "source": [
    "x = pd.DataFrame(x, index=[0])\n",
    "x"
   ]
  },
  {
   "cell_type": "code",
   "execution_count": 60,
   "id": "8c2041a6",
   "metadata": {
    "execution": {
     "iopub.execute_input": "2023-08-10T11:02:07.494508Z",
     "iopub.status.busy": "2023-08-10T11:02:07.494031Z",
     "iopub.status.idle": "2023-08-10T11:02:07.522091Z",
     "shell.execute_reply": "2023-08-10T11:02:07.520686Z"
    },
    "papermill": {
     "duration": 0.088352,
     "end_time": "2023-08-10T11:02:07.525177",
     "exception": false,
     "start_time": "2023-08-10T11:02:07.436825",
     "status": "completed"
    },
    "tags": []
   },
   "outputs": [],
   "source": [
    "def preprocess_fit(df_train, num, cat):\n",
    "    # Define transformers\n",
    "    ohe = OneHotEncoder(drop='first')\n",
    "    scaler = StandardScaler()\n",
    "\n",
    "    transformer = make_column_transformer((scaler, num),\n",
    "                                           (ohe, cat),\n",
    "                                          remainder='passthrough',verbose_feature_names_out=False)\n",
    "    # Fitting & Transformation\n",
    "    transformer.fit(df_train[cat+num])\n",
    "    return transformer\n",
    "transformer = preprocess_fit(df_train, numerical, important_cat)"
   ]
  },
  {
   "cell_type": "code",
   "execution_count": 61,
   "id": "f0291a2c",
   "metadata": {
    "execution": {
     "iopub.execute_input": "2023-08-10T11:02:07.639648Z",
     "iopub.status.busy": "2023-08-10T11:02:07.638511Z",
     "iopub.status.idle": "2023-08-10T11:02:07.653730Z",
     "shell.execute_reply": "2023-08-10T11:02:07.652390Z"
    },
    "papermill": {
     "duration": 0.077545,
     "end_time": "2023-08-10T11:02:07.656977",
     "exception": false,
     "start_time": "2023-08-10T11:02:07.579432",
     "status": "completed"
    },
    "tags": []
   },
   "outputs": [
    {
     "data": {
      "text/plain": [
       "array([[-6.32493609e-05,  9.85088758e-01,  2.76802226e-01,\n",
       "         0.00000000e+00,  0.00000000e+00,  0.00000000e+00,\n",
       "         0.00000000e+00]])"
      ]
     },
     "execution_count": 61,
     "metadata": {},
     "output_type": "execute_result"
    }
   ],
   "source": [
    "transformer.transform(x)"
   ]
  },
  {
   "cell_type": "markdown",
   "id": "1649633d",
   "metadata": {
    "papermill": {
     "duration": 0.057144,
     "end_time": "2023-08-10T11:02:07.771749",
     "exception": false,
     "start_time": "2023-08-10T11:02:07.714605",
     "status": "completed"
    },
    "tags": []
   },
   "source": [
    "# Transformer Saving"
   ]
  },
  {
   "cell_type": "code",
   "execution_count": 62,
   "id": "76d28cff",
   "metadata": {
    "execution": {
     "iopub.execute_input": "2023-08-10T11:02:07.888022Z",
     "iopub.status.busy": "2023-08-10T11:02:07.887598Z",
     "iopub.status.idle": "2023-08-10T11:02:07.896364Z",
     "shell.execute_reply": "2023-08-10T11:02:07.894421Z"
    },
    "papermill": {
     "duration": 0.070057,
     "end_time": "2023-08-10T11:02:07.900619",
     "exception": false,
     "start_time": "2023-08-10T11:02:07.830562",
     "status": "completed"
    },
    "tags": []
   },
   "outputs": [],
   "source": [
    "pickle.dump(transformer, open(\"transformer.pkl\", 'wb'))"
   ]
  },
  {
   "cell_type": "markdown",
   "id": "f2dacf5a",
   "metadata": {
    "papermill": {
     "duration": 0.065016,
     "end_time": "2023-08-10T11:02:08.023160",
     "exception": false,
     "start_time": "2023-08-10T11:02:07.958144",
     "status": "completed"
    },
    "tags": []
   },
   "source": [
    "# Inference"
   ]
  },
  {
   "cell_type": "code",
   "execution_count": 63,
   "id": "5dd3e9b6",
   "metadata": {
    "execution": {
     "iopub.execute_input": "2023-08-10T11:02:08.141853Z",
     "iopub.status.busy": "2023-08-10T11:02:08.140464Z",
     "iopub.status.idle": "2023-08-10T11:02:08.148054Z",
     "shell.execute_reply": "2023-08-10T11:02:08.147002Z"
    },
    "papermill": {
     "duration": 0.069969,
     "end_time": "2023-08-10T11:02:08.151003",
     "exception": false,
     "start_time": "2023-08-10T11:02:08.081034",
     "status": "completed"
    },
    "tags": []
   },
   "outputs": [],
   "source": [
    "trans = pickle.load(open('transformer.pkl', 'rb'))\n",
    "model = pickle.load(open('log_reg.pkl', 'rb'))"
   ]
  },
  {
   "cell_type": "code",
   "execution_count": 64,
   "id": "596b9ff3",
   "metadata": {
    "execution": {
     "iopub.execute_input": "2023-08-10T11:02:08.260666Z",
     "iopub.status.busy": "2023-08-10T11:02:08.259772Z",
     "iopub.status.idle": "2023-08-10T11:02:08.265955Z",
     "shell.execute_reply": "2023-08-10T11:02:08.264820Z"
    },
    "papermill": {
     "duration": 0.063495,
     "end_time": "2023-08-10T11:02:08.268625",
     "exception": false,
     "start_time": "2023-08-10T11:02:08.205130",
     "status": "completed"
    },
    "tags": []
   },
   "outputs": [],
   "source": [
    "customer  ={'contract': 'Month-to-month',\n",
    " 'onlinesecurity': 'No',\n",
    " 'techsupport': 'No',\n",
    " 'internetservice': 'Fiber optic',\n",
    " 'onlinebackup': 'Yes',\n",
    " 'tenure': 32,\n",
    " 'monthlycharges': 93.95,\n",
    " 'totalcharges': 2861.45}"
   ]
  },
  {
   "cell_type": "code",
   "execution_count": 65,
   "id": "21b46947",
   "metadata": {
    "execution": {
     "iopub.execute_input": "2023-08-10T11:02:08.380488Z",
     "iopub.status.busy": "2023-08-10T11:02:08.379685Z",
     "iopub.status.idle": "2023-08-10T11:02:08.395706Z",
     "shell.execute_reply": "2023-08-10T11:02:08.394689Z"
    },
    "papermill": {
     "duration": 0.075476,
     "end_time": "2023-08-10T11:02:08.398398",
     "exception": false,
     "start_time": "2023-08-10T11:02:08.322922",
     "status": "completed"
    },
    "tags": []
   },
   "outputs": [
    {
     "data": {
      "text/html": [
       "<div>\n",
       "<style scoped>\n",
       "    .dataframe tbody tr th:only-of-type {\n",
       "        vertical-align: middle;\n",
       "    }\n",
       "\n",
       "    .dataframe tbody tr th {\n",
       "        vertical-align: top;\n",
       "    }\n",
       "\n",
       "    .dataframe thead th {\n",
       "        text-align: right;\n",
       "    }\n",
       "</style>\n",
       "<table border=\"1\" class=\"dataframe\">\n",
       "  <thead>\n",
       "    <tr style=\"text-align: right;\">\n",
       "      <th></th>\n",
       "      <th>contract</th>\n",
       "      <th>onlinesecurity</th>\n",
       "      <th>techsupport</th>\n",
       "      <th>internetservice</th>\n",
       "      <th>onlinebackup</th>\n",
       "      <th>tenure</th>\n",
       "      <th>monthlycharges</th>\n",
       "      <th>totalcharges</th>\n",
       "    </tr>\n",
       "  </thead>\n",
       "  <tbody>\n",
       "    <tr>\n",
       "      <th>0</th>\n",
       "      <td>Month-to-month</td>\n",
       "      <td>No</td>\n",
       "      <td>No</td>\n",
       "      <td>Fiber optic</td>\n",
       "      <td>Yes</td>\n",
       "      <td>32</td>\n",
       "      <td>93.95</td>\n",
       "      <td>2861.45</td>\n",
       "    </tr>\n",
       "  </tbody>\n",
       "</table>\n",
       "</div>"
      ],
      "text/plain": [
       "         contract onlinesecurity techsupport internetservice onlinebackup  \\\n",
       "0  Month-to-month             No          No     Fiber optic          Yes   \n",
       "\n",
       "   tenure  monthlycharges  totalcharges  \n",
       "0      32           93.95       2861.45  "
      ]
     },
     "execution_count": 65,
     "metadata": {},
     "output_type": "execute_result"
    }
   ],
   "source": [
    "pd.DataFrame(customer, index=[0])"
   ]
  },
  {
   "cell_type": "code",
   "execution_count": 66,
   "id": "0b18db08",
   "metadata": {
    "execution": {
     "iopub.execute_input": "2023-08-10T11:02:08.513294Z",
     "iopub.status.busy": "2023-08-10T11:02:08.512376Z",
     "iopub.status.idle": "2023-08-10T11:02:08.524060Z",
     "shell.execute_reply": "2023-08-10T11:02:08.523032Z"
    },
    "papermill": {
     "duration": 0.071058,
     "end_time": "2023-08-10T11:02:08.526793",
     "exception": false,
     "start_time": "2023-08-10T11:02:08.455735",
     "status": "completed"
    },
    "tags": []
   },
   "outputs": [],
   "source": [
    "customer = trans.transform(pd.DataFrame(customer, index=[0]))"
   ]
  },
  {
   "cell_type": "code",
   "execution_count": 67,
   "id": "cd4ad8ec",
   "metadata": {
    "execution": {
     "iopub.execute_input": "2023-08-10T11:02:08.636794Z",
     "iopub.status.busy": "2023-08-10T11:02:08.636254Z",
     "iopub.status.idle": "2023-08-10T11:02:08.643126Z",
     "shell.execute_reply": "2023-08-10T11:02:08.642280Z"
    },
    "papermill": {
     "duration": 0.064912,
     "end_time": "2023-08-10T11:02:08.645561",
     "exception": false,
     "start_time": "2023-08-10T11:02:08.580649",
     "status": "completed"
    },
    "tags": []
   },
   "outputs": [
    {
     "data": {
      "text/plain": [
       "array([[-6.32493609e-05,  9.85088758e-01,  2.76802226e-01,\n",
       "         0.00000000e+00,  0.00000000e+00,  0.00000000e+00,\n",
       "         0.00000000e+00]])"
      ]
     },
     "execution_count": 67,
     "metadata": {},
     "output_type": "execute_result"
    }
   ],
   "source": [
    "customer"
   ]
  },
  {
   "cell_type": "code",
   "execution_count": 68,
   "id": "3b3c4a14",
   "metadata": {
    "execution": {
     "iopub.execute_input": "2023-08-10T11:02:08.756786Z",
     "iopub.status.busy": "2023-08-10T11:02:08.756034Z",
     "iopub.status.idle": "2023-08-10T11:02:08.762928Z",
     "shell.execute_reply": "2023-08-10T11:02:08.761476Z"
    },
    "papermill": {
     "duration": 0.06379,
     "end_time": "2023-08-10T11:02:08.765348",
     "exception": false,
     "start_time": "2023-08-10T11:02:08.701558",
     "status": "completed"
    },
    "tags": []
   },
   "outputs": [
    {
     "name": "stdout",
     "output_type": "stream",
     "text": [
      "Not Churn\n"
     ]
    }
   ],
   "source": [
    "if model.predict(customer)[0] == 0:\n",
    "    print('Not Churn')\n",
    "else:\n",
    "    print('Churn')"
   ]
  },
  {
   "cell_type": "markdown",
   "id": "2a0b519a",
   "metadata": {
    "papermill": {
     "duration": 0.053489,
     "end_time": "2023-08-10T11:02:08.873390",
     "exception": false,
     "start_time": "2023-08-10T11:02:08.819901",
     "status": "completed"
    },
    "tags": []
   },
   "source": [
    "# Classification Metrics"
   ]
  },
  {
   "cell_type": "code",
   "execution_count": 69,
   "id": "65fa9e46",
   "metadata": {
    "execution": {
     "iopub.execute_input": "2023-08-10T11:02:08.984523Z",
     "iopub.status.busy": "2023-08-10T11:02:08.983767Z",
     "iopub.status.idle": "2023-08-10T11:02:08.999705Z",
     "shell.execute_reply": "2023-08-10T11:02:08.998495Z"
    },
    "papermill": {
     "duration": 0.07435,
     "end_time": "2023-08-10T11:02:09.002627",
     "exception": false,
     "start_time": "2023-08-10T11:02:08.928277",
     "status": "completed"
    },
    "tags": []
   },
   "outputs": [
    {
     "data": {
      "text/html": [
       "<div>\n",
       "<style scoped>\n",
       "    .dataframe tbody tr th:only-of-type {\n",
       "        vertical-align: middle;\n",
       "    }\n",
       "\n",
       "    .dataframe tbody tr th {\n",
       "        vertical-align: top;\n",
       "    }\n",
       "\n",
       "    .dataframe thead th {\n",
       "        text-align: right;\n",
       "    }\n",
       "</style>\n",
       "<table border=\"1\" class=\"dataframe\">\n",
       "  <thead>\n",
       "    <tr style=\"text-align: right;\">\n",
       "      <th></th>\n",
       "      <th>tenure</th>\n",
       "      <th>monthlycharges</th>\n",
       "      <th>totalcharges</th>\n",
       "    </tr>\n",
       "  </thead>\n",
       "  <tbody>\n",
       "    <tr>\n",
       "      <th>3381</th>\n",
       "      <td>41</td>\n",
       "      <td>79.85</td>\n",
       "      <td>3320.75</td>\n",
       "    </tr>\n",
       "    <tr>\n",
       "      <th>6180</th>\n",
       "      <td>66</td>\n",
       "      <td>102.40</td>\n",
       "      <td>6471.85</td>\n",
       "    </tr>\n",
       "    <tr>\n",
       "      <th>4829</th>\n",
       "      <td>12</td>\n",
       "      <td>45.00</td>\n",
       "      <td>524.35</td>\n",
       "    </tr>\n",
       "    <tr>\n",
       "      <th>3737</th>\n",
       "      <td>5</td>\n",
       "      <td>50.60</td>\n",
       "      <td>249.95</td>\n",
       "    </tr>\n",
       "    <tr>\n",
       "      <th>4249</th>\n",
       "      <td>10</td>\n",
       "      <td>65.90</td>\n",
       "      <td>660.05</td>\n",
       "    </tr>\n",
       "    <tr>\n",
       "      <th>...</th>\n",
       "      <td>...</td>\n",
       "      <td>...</td>\n",
       "      <td>...</td>\n",
       "    </tr>\n",
       "    <tr>\n",
       "      <th>2563</th>\n",
       "      <td>25</td>\n",
       "      <td>105.95</td>\n",
       "      <td>2655.25</td>\n",
       "    </tr>\n",
       "    <tr>\n",
       "      <th>2028</th>\n",
       "      <td>15</td>\n",
       "      <td>19.60</td>\n",
       "      <td>331.60</td>\n",
       "    </tr>\n",
       "    <tr>\n",
       "      <th>2899</th>\n",
       "      <td>71</td>\n",
       "      <td>53.95</td>\n",
       "      <td>3888.65</td>\n",
       "    </tr>\n",
       "    <tr>\n",
       "      <th>3474</th>\n",
       "      <td>65</td>\n",
       "      <td>85.75</td>\n",
       "      <td>5688.45</td>\n",
       "    </tr>\n",
       "    <tr>\n",
       "      <th>5154</th>\n",
       "      <td>17</td>\n",
       "      <td>104.20</td>\n",
       "      <td>1743.50</td>\n",
       "    </tr>\n",
       "  </tbody>\n",
       "</table>\n",
       "<p>1409 rows × 3 columns</p>\n",
       "</div>"
      ],
      "text/plain": [
       "      tenure  monthlycharges  totalcharges\n",
       "3381      41           79.85       3320.75\n",
       "6180      66          102.40       6471.85\n",
       "4829      12           45.00        524.35\n",
       "3737       5           50.60        249.95\n",
       "4249      10           65.90        660.05\n",
       "...      ...             ...           ...\n",
       "2563      25          105.95       2655.25\n",
       "2028      15           19.60        331.60\n",
       "2899      71           53.95       3888.65\n",
       "3474      65           85.75       5688.45\n",
       "5154      17          104.20       1743.50\n",
       "\n",
       "[1409 rows x 3 columns]"
      ]
     },
     "execution_count": 69,
     "metadata": {},
     "output_type": "execute_result"
    }
   ],
   "source": [
    "X_test"
   ]
  },
  {
   "cell_type": "code",
   "execution_count": 70,
   "id": "559861d2",
   "metadata": {
    "execution": {
     "iopub.execute_input": "2023-08-10T11:02:09.120615Z",
     "iopub.status.busy": "2023-08-10T11:02:09.119843Z",
     "iopub.status.idle": "2023-08-10T11:02:09.475101Z",
     "shell.execute_reply": "2023-08-10T11:02:09.473751Z"
    },
    "papermill": {
     "duration": 0.417656,
     "end_time": "2023-08-10T11:02:09.477832",
     "exception": false,
     "start_time": "2023-08-10T11:02:09.060176",
     "status": "completed"
    },
    "tags": []
   },
   "outputs": [
    {
     "data": {
      "text/plain": [
       "<Axes: >"
      ]
     },
     "execution_count": 70,
     "metadata": {},
     "output_type": "execute_result"
    },
    {
     "data": {
      "image/png": "[encoded data removed]",
      "text/plain": [
       "<Figure size 640x480 with 2 Axes>"
      ]
     },
     "metadata": {},
     "output_type": "display_data"
    }
   ],
   "source": [
    "from sklearn.metrics import confusion_matrix\n",
    "\n",
    "cm = confusion_matrix(y_test, y_pred)\n",
    "\n",
    "sns.heatmap(cm, annot= True, fmt='0.0f')"
   ]
  },
  {
   "cell_type": "code",
   "execution_count": 71,
   "id": "1b48f57d",
   "metadata": {
    "execution": {
     "iopub.execute_input": "2023-08-10T11:02:09.662889Z",
     "iopub.status.busy": "2023-08-10T11:02:09.662427Z",
     "iopub.status.idle": "2023-08-10T11:02:09.668427Z",
     "shell.execute_reply": "2023-08-10T11:02:09.667196Z"
    },
    "papermill": {
     "duration": 0.137181,
     "end_time": "2023-08-10T11:02:09.671147",
     "exception": false,
     "start_time": "2023-08-10T11:02:09.533966",
     "status": "completed"
    },
    "tags": []
   },
   "outputs": [],
   "source": [
    "(Tn, Fp), (Fn, Tp) = cm"
   ]
  },
  {
   "cell_type": "code",
   "execution_count": 72,
   "id": "6c30182f",
   "metadata": {
    "execution": {
     "iopub.execute_input": "2023-08-10T11:02:09.789285Z",
     "iopub.status.busy": "2023-08-10T11:02:09.788752Z",
     "iopub.status.idle": "2023-08-10T11:02:09.795665Z",
     "shell.execute_reply": "2023-08-10T11:02:09.794362Z"
    },
    "papermill": {
     "duration": 0.066604,
     "end_time": "2023-08-10T11:02:09.798567",
     "exception": false,
     "start_time": "2023-08-10T11:02:09.731963",
     "status": "completed"
    },
    "tags": []
   },
   "outputs": [
    {
     "name": "stdout",
     "output_type": "stream",
     "text": [
      "True Negative:  935\n",
      "False Positive:  126\n",
      "False Negative:  144\n",
      "True Positive:  204\n"
     ]
    }
   ],
   "source": [
    "print('True Negative: ', Tn)\n",
    "print('False Positive: ', Fp)\n",
    "print('False Negative: ', Fn)\n",
    "print('True Positive: ', Tp)"
   ]
  },
  {
   "cell_type": "code",
   "execution_count": null,
   "id": "ed5e6c43",
   "metadata": {
    "papermill": {
     "duration": 0.054452,
     "end_time": "2023-08-10T11:02:09.910205",
     "exception": false,
     "start_time": "2023-08-10T11:02:09.855753",
     "status": "completed"
    },
    "tags": []
   },
   "outputs": [],
   "source": []
  }
 ],
 "metadata": {
  "kernelspec": {
   "display_name": "Python 3",
   "language": "python",
   "name": "python3"
  },
  "language_info": {
   "codemirror_mode": {
    "name": "ipython",
    "version": 3
   },
   "file_extension": ".py",
   "mimetype": "text/x-python",
   "name": "python",
   "nbconvert_exporter": "python",
   "pygments_lexer": "ipython3",
   "version": "3.10.12"
  },
  "papermill": {
   "default_parameters": {},
   "duration": 37.112022,
   "end_time": "2023-08-10T11:02:11.291715",
   "environment_variables": {},
   "exception": null,
   "input_path": "__notebook__.ipynb",
   "output_path": "__notebook__.ipynb",
   "parameters": {},
   "start_time": "2023-08-10T11:01:34.179693",
   "version": "2.4.0"
  }
 },
 "nbformat": 4,
 "nbformat_minor": 5
}
